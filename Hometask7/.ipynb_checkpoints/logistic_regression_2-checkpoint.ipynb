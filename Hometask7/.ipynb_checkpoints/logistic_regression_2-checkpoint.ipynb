{
 "cells": [
  {
   "cell_type": "markdown",
   "metadata": {},
   "source": [
    "<font color = green>\n",
    "\n",
    "# Home task: Logistic Regression (2)\n",
    "</font>"
   ]
  },
  {
   "cell_type": "markdown",
   "metadata": {},
   "source": [
    "<font color = green>\n",
    "\n",
    "## Sklearn for brest cancer dataset \n",
    "</font>"
   ]
  },
  {
   "cell_type": "code",
   "execution_count": 1,
   "metadata": {},
   "outputs": [
    {
     "name": "stdout",
     "output_type": "stream",
     "text": [
      "\n",
      "Breast cancer dataset\n",
      "X_cancer.shape = (569, 30)\n",
      "Accuracy of Logistic regression classifier on training set: 0.96\n",
      "Accuracy of Logistic regression classifier on test set: 0.95\n"
     ]
    }
   ],
   "source": [
    "from sklearn.model_selection import train_test_split\n",
    "from sklearn.linear_model import LogisticRegression\n",
    "\n",
    "# Import load_breast_cancer and get the X_cancer, y_cancer\n",
    "from sklearn.datasets import load_breast_cancer\n",
    "X_cancer, y_cancer = load_breast_cancer(return_X_y=True)\n",
    "\n",
    "# Split to train and test using random_state=0\n",
    "X_train, X_test, y_train, y_test = train_test_split(X_cancer, y_cancer, random_state=0)\n",
    "\n",
    "# Train LogisticRegression classifier for max_iter=10000\n",
    "clf = LogisticRegression(max_iter=10000).fit(X_train, y_train)\n",
    "\n",
    "print('\\nBreast cancer dataset')\n",
    "print ('X_cancer.shape = {}'.format(X_cancer.shape))\n",
    "\n",
    "print('Accuracy of Logistic regression classifier on training set: {:.2f}'.\\\n",
    "      format(clf.score(X_train, y_train)))\n",
    "print('Accuracy of Logistic regression classifier on test set: {:.2f}'.\\\n",
    "      format(clf.score(X_test, y_test)))"
   ]
  },
  {
   "cell_type": "markdown",
   "metadata": {},
   "source": [
    "<font color = blue >\n",
    "\n",
    "### Expected Output\n",
    "</font>\n",
    "\n",
    "```\n",
    "\n",
    "Breast cancer dataset\n",
    "X_cancer.shape= (569, 30)\n",
    "Accuracy of Logistic regression classifier on training set: 0.96\n",
    "Accuracy of Logistic regression classifier on test set: 0.95\n",
    "```"
   ]
  }
 ],
 "metadata": {
  "kernelspec": {
   "display_name": "Python 3 (ipykernel)",
   "language": "python",
   "name": "python3"
  },
  "language_info": {
   "codemirror_mode": {
    "name": "ipython",
    "version": 3
   },
   "file_extension": ".py",
   "mimetype": "text/x-python",
   "name": "python",
   "nbconvert_exporter": "python",
   "pygments_lexer": "ipython3",
   "version": "3.11.5"
  }
 },
 "nbformat": 4,
 "nbformat_minor": 2
}
