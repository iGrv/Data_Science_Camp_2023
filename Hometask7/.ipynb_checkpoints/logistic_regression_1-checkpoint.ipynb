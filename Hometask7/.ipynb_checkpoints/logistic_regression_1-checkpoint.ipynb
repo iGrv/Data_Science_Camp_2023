{
 "cells": [
  {
   "cell_type": "markdown",
   "metadata": {},
   "source": [
    "<font color = green>\n",
    "\n",
    "# Home task: Logistic Regression (1) \n",
    "</font>"
   ]
  },
  {
   "cell_type": "markdown",
   "metadata": {},
   "source": [
    "<font color = green>\n",
    "\n",
    "## Import necessary packages\n",
    "\n",
    "</font>"
   ]
  },
  {
   "cell_type": "code",
   "execution_count": 1,
   "metadata": {},
   "outputs": [],
   "source": [
    "import numpy as np\n",
    "import matplotlib.pyplot as plt\n",
    "import h5py  # Common package to interact with a dataset that is stored on an H5 file.\n",
    "import warnings\n",
    "warnings.filterwarnings('ignore')"
   ]
  },
  {
   "cell_type": "markdown",
   "metadata": {},
   "source": [
    "<font color = green>\n",
    "\n",
    "## Problem statement ##\n",
    "</font>\n",
    "\n",
    "\n",
    "Dataset (\"data.h5\") contains:\n",
    "- a training set of m_train images labeled as cat (y=1) or non-cat (y=0)\n",
    "- a test set of m_test images labeled as cat or non-cat\n",
    "- each image is of shape (num_px, num_px, 3) where 3 is for the 3 channels (RGB) (each image is square: height = num_px and width = num_px).\n",
    "\n",
    "Task is to build a simple image-classification algorithm that can correctly classify pictures as cat or non-cat."
   ]
  },
  {
   "cell_type": "markdown",
   "metadata": {},
   "source": [
    "<font color = green>\n",
    "\n",
    "## Overview dataset \n",
    "\n",
    "</font>"
   ]
  },
  {
   "cell_type": "markdown",
   "metadata": {},
   "source": [
    "<font color = green>\n",
    "\n",
    "### Create shortcut for path\n",
    "\n",
    "</font>"
   ]
  },
  {
   "cell_type": "code",
   "execution_count": 2,
   "metadata": {},
   "outputs": [
    {
     "name": "stdout",
     "output_type": "stream",
     "text": [
      "D:\\DS_Camp_2023\\Hometask7\\data\n"
     ]
    }
   ],
   "source": [
    "import os\n",
    "cwd = os.getcwd()  # Current working directory\n",
    "path = os.path.join(cwd, 'data') \n",
    "print(path)"
   ]
  },
  {
   "cell_type": "markdown",
   "metadata": {},
   "source": [
    "<font color = green>\n",
    "\n",
    "### Load dataset\n",
    "\n",
    "</font>"
   ]
  },
  {
   "cell_type": "code",
   "execution_count": 3,
   "metadata": {},
   "outputs": [],
   "source": [
    "def load_dataset():\n",
    "    file_name = os.path.join(path , 'train_catvnoncat.h5')\n",
    "    train_dataset = h5py.File(file_name, 'r')\n",
    "    X_train = np.array(train_dataset['train_set_x'][:])  # Your train set features\n",
    "    Y_train = np.array(train_dataset['train_set_y'][:])  # Your train set labels\n",
    "    \n",
    "    file_name = os.path.join(path , 'test_catvnoncat.h5')\n",
    "    test_dataset = h5py.File(file_name, 'r')\n",
    "    X_test = np.array(test_dataset['test_set_x'][:])  # Your test set features\n",
    "    Y_test = np.array(test_dataset['test_set_y'][:])  # Your test set labels\n",
    "\n",
    "    classes = ['non-cat', 'cat']\n",
    "    \n",
    "    Y_train = Y_train.reshape(-1, 1)\n",
    "    Y_test = Y_test.reshape(-1, 1)\n",
    "    \n",
    "    return X_train, Y_train, X_test, Y_test, classes"
   ]
  },
  {
   "cell_type": "code",
   "execution_count": 4,
   "metadata": {},
   "outputs": [],
   "source": [
    "# Note: in case file not found, uncomment to print path in previous step and correct to necessary exrension\n",
    "X_train, Y_train, X_test, Y_test, classes = load_dataset()"
   ]
  },
  {
   "cell_type": "code",
   "execution_count": 5,
   "metadata": {},
   "outputs": [
    {
     "name": "stdout",
     "output_type": "stream",
     "text": [
      "X_train.shape = (209, 64, 64, 3)\n",
      "X_test.shape = (50, 64, 64, 3)\n",
      "Y_train.shape = (209, 1)\n",
      "Y_test.shape = (50, 1)\n"
     ]
    }
   ],
   "source": [
    "print('X_train.shape =', X_train.shape)\n",
    "print('X_test.shape =', X_test.shape)\n",
    "print('Y_train.shape =', Y_train.shape)\n",
    "print('Y_test.shape =', Y_test.shape)"
   ]
  },
  {
   "cell_type": "code",
   "execution_count": 6,
   "metadata": {},
   "outputs": [],
   "source": [
    "# YOUR_CODE.   Get m_train, num_px and m_test\n",
    "# START_CODE \n",
    "m_train = X_train.shape[0]\n",
    "num_px = X_train.shape[1]\n",
    "m_test = X_test.shape[0]\n",
    "# END_CODE "
   ]
  },
  {
   "cell_type": "markdown",
   "metadata": {},
   "source": [
    "<font color = blue >\n",
    "\n",
    "### Check result\n",
    "\n",
    "</font>\n"
   ]
  },
  {
   "cell_type": "code",
   "execution_count": 7,
   "metadata": {},
   "outputs": [
    {
     "name": "stdout",
     "output_type": "stream",
     "text": [
      "Number of training examples: m_train = 209\n",
      "Number of testing examples: m_test = 50\n",
      "Height/Width of each image: num_px = 64\n",
      "Each image is of size: (64, 64, 3)\n"
     ]
    }
   ],
   "source": [
    "print('Number of training examples: m_train =', m_train)\n",
    "print('Number of testing examples: m_test =', m_test)\n",
    "print('Height/Width of each image: num_px =', num_px)\n",
    "print('Each image is of size:', (num_px, num_px, 3))\n"
   ]
  },
  {
   "cell_type": "markdown",
   "metadata": {},
   "source": [
    "<font color = blue >\n",
    "\n",
    "### Expected output\n",
    "\n",
    "</font>\n",
    "\n",
    "<br> `Number of training examples: m_train = 209` \n",
    "<br> `Number of testing examples: m_test = 50` \n",
    "<br> `Height/Width of each image: num_px = 64` \n",
    "<br> `Each image is of size: (64, 64, 3)` \n",
    "\n"
   ]
  },
  {
   "cell_type": "markdown",
   "metadata": {},
   "source": [
    "<font color = green>\n",
    "\n",
    "### Review some examples\n",
    "\n",
    "</font>"
   ]
  },
  {
   "cell_type": "code",
   "execution_count": 8,
   "metadata": {},
   "outputs": [
    {
     "name": "stdout",
     "output_type": "stream",
     "text": [
      "y = 1, it's a 'cat' picture.\n"
     ]
    },
    {
     "data": {
      "image/png": "[encoded data removed]",
      "text/plain": [
       "<Figure size 640x480 with 1 Axes>"
      ]
     },
     "metadata": {},
     "output_type": "display_data"
    }
   ],
   "source": [
    "# Example of a picture\n",
    "index = 11\n",
    "plt.imshow(X_train[index])\n",
    "print(f'y = {Y_train[index, 0]}, it\\'s a \\'{classes[Y_train[index, 0]]}\\' picture.')"
   ]
  },
  {
   "cell_type": "code",
   "execution_count": 9,
   "metadata": {},
   "outputs": [
    {
     "name": "stdout",
     "output_type": "stream",
     "text": [
      "y = 0, it's a 'non-cat' picture.\n"
     ]
    },
    {
     "data": {
      "image/png": "[encoded data removed]",
      "text/plain": [
       "<Figure size 640x480 with 1 Axes>"
      ]
     },
     "metadata": {},
     "output_type": "display_data"
    }
   ],
   "source": [
    "index = 3\n",
    "plt.imshow(X_train[index])\n",
    "print(f'y = {Y_train[index, 0]}, it\\'s a \\'{classes[Y_train[index, 0]]}\\' picture.')"
   ]
  },
  {
   "cell_type": "code",
   "execution_count": 10,
   "metadata": {},
   "outputs": [
    {
     "name": "stdout",
     "output_type": "stream",
     "text": [
      "Label 1 count: 72\n",
      "Label 0 count: 137\n"
     ]
    }
   ],
   "source": [
    "print('Label 1 count:', np.sum(Y_train != 0))\n",
    "print('Label 0 count:', np.sum(Y_train == 0))"
   ]
  },
  {
   "cell_type": "markdown",
   "metadata": {},
   "source": [
    "<font color = green>\n",
    "\n",
    "## Flatten features\n",
    "\n",
    "</font>"
   ]
  },
  {
   "cell_type": "code",
   "execution_count": 11,
   "metadata": {},
   "outputs": [],
   "source": [
    "# YOUR_CODE. Reshape the training and test set to shape (number_of_samples, num_px * num_px * 3)\n",
    "# START_CODE \n",
    "X_train_flatten = X_train.reshape(m_train, num_px * num_px * 3)\n",
    "X_test_flatten =  X_test.reshape(m_test, num_px * num_px * 3)\n",
    "# END_CODE "
   ]
  },
  {
   "cell_type": "markdown",
   "metadata": {},
   "source": [
    "<font color = blue >\n",
    "\n",
    "### Check result\n",
    "\n",
    "</font>\n"
   ]
  },
  {
   "cell_type": "code",
   "execution_count": 12,
   "metadata": {},
   "outputs": [
    {
     "name": "stdout",
     "output_type": "stream",
     "text": [
      "train_set_x_flatten shape: (209, 12288)\n",
      "test_set_x_flatten shape: (50, 12288)\n",
      "sanity check after reshaping: [17 31 56 22 33]\n"
     ]
    }
   ],
   "source": [
    "print(f'train_set_x_flatten shape: {X_train_flatten.shape}')\n",
    "print(f'test_set_x_flatten shape: {X_test_flatten.shape}')\n",
    "print(f'sanity check after reshaping: {X_train_flatten[0, :5]}')"
   ]
  },
  {
   "cell_type": "markdown",
   "metadata": {},
   "source": [
    "<font color = blue >\n",
    "\n",
    "### Expected Output\n",
    "\n",
    "</font>\n",
    "\n",
    "\n",
    "<br>`X_train_flattern shape: (209, 12288)` \n",
    "<br>`X_test_flattern shape: (50, 12288)`\n",
    "<br>`sanity check after reshaping: [17 31 56 22 33]`\n"
   ]
  },
  {
   "cell_type": "markdown",
   "metadata": {},
   "source": [
    "<font color = green>\n",
    "\n",
    "## Normalize features\n",
    "\n",
    "</font>\n",
    "To represent color images, the red, green and blue channels (RGB) must be specified for each pixel, and so the pixel value is actually a vector of three numbers ranging from 0 to 255.\n",
    "\n",
    "For picture datasets, it is almost the same as MinMaxScaler  to just divide every row of the dataset by 255 (the maximum value of a pixel channel)."
   ]
  },
  {
   "cell_type": "code",
   "execution_count": 13,
   "metadata": {},
   "outputs": [],
   "source": [
    "X_train_scaled = X_train_flatten / 255\n",
    "X_test_scaled = X_test_flatten / 255"
   ]
  },
  {
   "cell_type": "markdown",
   "metadata": {},
   "source": [
    "<font color = green>\n",
    "\n",
    "## sigmoid function\n",
    "\n",
    "</font>\n",
    "\n",
    "$ g(z) = \\frac{1}{1 + e^{-z}}$"
   ]
  },
  {
   "cell_type": "code",
   "execution_count": 14,
   "metadata": {},
   "outputs": [],
   "source": [
    "def sigmoid(z):\n",
    "    \"\"\"\n",
    "    Compute the sigmoid of z\n",
    "\n",
    "    Arguments:\n",
    "    z -- A scalar or numpy array of any size.\n",
    "\n",
    "    Return:\n",
    "    g -- sigmoid(z)\n",
    "    \"\"\"\n",
    "\n",
    "    # YOUR_CODE. Implement sigmoid function\n",
    "    # START_CODE \n",
    "    g = 1 / (1 + np.exp(-z))\n",
    "    # END_CODE \n",
    "    \n",
    "    return g"
   ]
  },
  {
   "cell_type": "markdown",
   "metadata": {},
   "source": [
    "<font color = blue >\n",
    "\n",
    "### Check result\n",
    "\n",
    "</font>\n"
   ]
  },
  {
   "cell_type": "code",
   "execution_count": 15,
   "metadata": {},
   "outputs": [
    {
     "name": "stdout",
     "output_type": "stream",
     "text": [
      "sigmoid([0, 2]) = [0.5        0.88079708]\n"
     ]
    }
   ],
   "source": [
    "print('sigmoid([0, 2]) =', sigmoid(np.array([0, 2])))"
   ]
  },
  {
   "cell_type": "markdown",
   "metadata": {},
   "source": [
    "<font color = blue >\n",
    "\n",
    "### Expected Output\n",
    "\n",
    "</font>\n",
    "\n",
    "<br>`sigmoid([0, 2]) [0.5        0.88079708]`"
   ]
  },
  {
   "cell_type": "markdown",
   "metadata": {},
   "source": [
    "<font color = green>\n",
    "\n",
    "## Initialize parameters\n",
    "\n",
    "</font>\n"
   ]
  },
  {
   "cell_type": "code",
   "execution_count": 16,
   "metadata": {},
   "outputs": [],
   "source": [
    "def initialize_with_zeros(dim):\n",
    "    \"\"\"\n",
    "    This function creates a vector of zeros of shape (1, dim) for w and initializes b to 0.\n",
    "    \n",
    "    Argument:\n",
    "    dim -- size of the w vector we want (or number of parameters in this case)\n",
    "    \n",
    "    Returns:\n",
    "    w -- initialized vector of shape (1, dim)\n",
    "    b -- initialized scalar (corresponds to the bias)\n",
    "    \"\"\"\n",
    "    \n",
    "    # YOUR_CODE.  Initialize b to zero and w as a vector of zeros. \n",
    "    # START_CODE   \n",
    "    w = np.zeros((1, dim))\n",
    "    b = 0\n",
    "    # END_CODE \n",
    "\n",
    "    assert w.shape == (1, dim)\n",
    "    assert isinstance(b, float) or isinstance(b, int)\n",
    "    \n",
    "    return w, b"
   ]
  },
  {
   "cell_type": "markdown",
   "metadata": {},
   "source": [
    "<font color = blue >\n",
    "\n",
    "### Check result\n",
    "\n",
    "</font>\n"
   ]
  },
  {
   "cell_type": "code",
   "execution_count": 17,
   "metadata": {},
   "outputs": [
    {
     "name": "stdout",
     "output_type": "stream",
     "text": [
      "w = [[0. 0.]]\n",
      "b = 0\n"
     ]
    }
   ],
   "source": [
    "dim = 2\n",
    "w, b = initialize_with_zeros(dim)\n",
    "print('w =', w)\n",
    "print('b =', b)"
   ]
  },
  {
   "cell_type": "markdown",
   "metadata": {},
   "source": [
    "<font color = blue >\n",
    "\n",
    "### Expected Output\n",
    "\n",
    "</font>\n",
    "\n",
    "```\n",
    "    w =  [[ 0.  0.]]\n",
    "    b = 0\n",
    "```\n",
    "\n",
    "**Note**: For image inputs, w will be of shape (1, num_px $\\times$ num_px $\\times$ 3)."
   ]
  },
  {
   "cell_type": "markdown",
   "metadata": {},
   "source": [
    "<font color = green>\n",
    "\n",
    "##  Forward and Backward propagation\n",
    "\n",
    "</font>\n",
    "\n",
    "\n",
    "Computing cost function is called \"forward\" and computing derivatives (gradient) is called \"backward\" propagation\n",
    "\n",
    "**Forward Propagation:**\n",
    "- compute  $Z = b + X \\,@\\,  w.T  \\quad([[z^{(0)}], [z^{(1)}], ..., [z^{(m-1)}]])$\n",
    "- compute  $A = g(Z)  \\quad([[a^{(0)}], [a^{(1)}], ..., [a^{(m-1)}]])$\n",
    "- calculate the cost function: $J = -\\frac{1}{m}\\sum_{i=0}^{m-1}(y^{(i)}\\log(a^{(i)})+(1-Y^{(i)})\\log(1-a^{(i)}))$\n",
    "\n",
    "**Backward Propagation:** \n",
    "\n",
    "$$ \\frac{\\partial J}{\\partial w} = \\frac{1}{m}(A-Y)^T @X \\quad \\quad \n",
    " \\frac{\\partial J}{\\partial b} = \\frac{1}{m} \\sum_{i=1}^m (a^{(i)}-y^{(i)})$$"
   ]
  },
  {
   "cell_type": "code",
   "execution_count": 18,
   "metadata": {},
   "outputs": [],
   "source": [
    "# GRADED FUNCTION: propagate\n",
    "\n",
    "def propagate(w, b, X, Y, C=1):\n",
    "    \"\"\"\n",
    "    Implement the cost function and its gradient for the propagation explained above\n",
    "\n",
    "    Arguments:\n",
    "    w -- weights, a numpy array of size (1, num_px * num_px * 3)\n",
    "    b -- bias, a scalar\n",
    "    X -- data of size (number of examples, num_px * num_px * 3)\n",
    "    Y -- true \"label\" vector (containing 0 if non-cat, 1 if cat) of size (number of examples, 1)\n",
    "    C -- regularization parameter \n",
    "\n",
    "    Return:\n",
    "    cost -- negative log-likelihood cost for logistic regression\n",
    "    dw -- gradient of the loss with respect to w, thus same shape as w\n",
    "    db -- gradient of the loss with respect to b, thus same shape as b\n",
    "    \"\"\"\n",
    "    m = X.shape[0]\n",
    " \n",
    "    # YOUR_CODE.  Implement Forward propagation \n",
    "    # START_CODE   \n",
    "    Z = b + X @ w.T\n",
    "    A = sigmoid(Z)\n",
    "    cost = (-1 / m) * np.sum(Y*np.log(A) + (1 - Y)*np.log(1 - A)) + (1 / (2*C*m)) * np.sum(w**2)  # L2 regularization\n",
    "    \n",
    "    # END_CODE \n",
    "    \n",
    "    # YOUR_CODE.  Implement Backward propagation \n",
    "    # START_CODE\n",
    "    dJ_dw = (1 / m) * (A - Y).T @ X + (1 / (C*m)) * w  # L2 regularization\n",
    "    dJ_db = (1 / m) * np.sum(A - Y)\n",
    "\n",
    "    # END_CODE \n",
    "\n",
    "    assert dJ_dw.shape == w.shape\n",
    "    assert dJ_db.dtype == float\n",
    "    assert cost.dtype == float\n",
    "    \n",
    "    grads = {\n",
    "        'dJ_dw': dJ_dw,\n",
    "        'dJ_db': dJ_db\n",
    "    }\n",
    "    \n",
    "    return grads, cost"
   ]
  },
  {
   "cell_type": "markdown",
   "metadata": {},
   "source": [
    "<font color = blue >\n",
    "\n",
    "### Check result\n",
    "\n",
    "</font>\n"
   ]
  },
  {
   "cell_type": "code",
   "execution_count": 19,
   "metadata": {},
   "outputs": [
    {
     "name": "stdout",
     "output_type": "stream",
     "text": [
      "dJ_dw = [[1.33178935 3.06173906]]\n",
      "dJ_db = 0.001455578136784208\n",
      "cost = 6.6348786527278865\n"
     ]
    }
   ],
   "source": [
    "w, b, X, Y = np.array([[1, 2]]), 2, np.array([[1, 2, -1], [3, 4, -3.2]]).T, np.array([[1, 0, 1]]).T\n",
    "grads, cost = propagate(w, b, X, Y)\n",
    "print('dJ_dw =', grads['dJ_dw'])\n",
    "print('dJ_db =', grads['dJ_db'])\n",
    "print('cost =', cost)"
   ]
  },
  {
   "cell_type": "markdown",
   "metadata": {},
   "source": [
    "<font color = blue >\n",
    "\n",
    "### Expected Output\n",
    "</font>\n",
    "\n",
    "```\n",
    "dJ_dw = [[1.33178935 3.06173906]]\n",
    "dJ_db = 0.001455578136784208\n",
    "cost = 6.6348786527278865\n",
    "\n",
    "```"
   ]
  },
  {
   "cell_type": "markdown",
   "metadata": {},
   "source": [
    "<font color = green>\n",
    "\n",
    "##   Optimization\n",
    "</font>"
   ]
  },
  {
   "cell_type": "code",
   "execution_count": 20,
   "metadata": {},
   "outputs": [],
   "source": [
    "def optimize(w, b, X, Y, num_iterations, learning_rate, verbose=False, C=1):\n",
    "    \"\"\"\n",
    "    This function optimizes w and b by running a gradient descent algorithm\n",
    "    \n",
    "    Arguments:\n",
    "    w -- weights, a numpy array of size (1,num_px * num_px * 3)\n",
    "    b -- bias, a scalar\n",
    "    X -- data of size (number of examples, num_px * num_px * 3)\n",
    "    Y -- true \"label\" vector (containing 0 if non-cat, 1 if cat) of size (number of examples,1)\n",
    "    num_iterations -- number of iterations of the optimization loop\n",
    "    learning_rate -- learning rate of the gradient descent update rule\n",
    "    verbose -- True to print the loss every 100 steps\n",
    "    C -- regularization parameter \n",
    "    \n",
    "    Returns:\n",
    "    params -- dictionary containing the weights w and bias b\n",
    "    grads -- dictionary containing the gradients of the weights and bias with respect to the cost function\n",
    "    costs -- list of all the costs computed during the optimization, this will be used to plot the learning curve.\n",
    "    \"\"\"\n",
    "   \n",
    "    costs = []  # keep history for plotting if necessary \n",
    "    \n",
    "    for i in range(num_iterations):        \n",
    "\n",
    "    \n",
    "        # YOUR_CODE.  Call to compute cost and gradient \n",
    "        # START_CODE   \n",
    "        grads, cost = propagate(w, b, X, Y, C=C)\n",
    "        # END_CODE \n",
    "        \n",
    "        # Retrieve derivatives from grads\n",
    "        dJ_dw = grads['dJ_dw']\n",
    "        dJ_db = grads['dJ_db']\n",
    "        \n",
    "        # YOUR_CODE.  Update paramaters \n",
    "        # START_CODE   \n",
    "        w = w - learning_rate * dJ_dw\n",
    "        b = b - learning_rate * dJ_db\n",
    "        # END_CODE \n",
    "        \n",
    "        # Record the costs\n",
    "        if i % 100 == 0:\n",
    "            costs.append(cost)\n",
    "        \n",
    "        # Print the cost every 100 training iterations\n",
    "        if verbose and i % 100 == 0:\n",
    "            print(f'Cost after iteration {i}: {cost}')\n",
    "    \n",
    "    params = {\n",
    "        'w': w,\n",
    "        'b': b\n",
    "    }\n",
    "    \n",
    "    grads = {\n",
    "        'dJ_dw': dJ_dw,\n",
    "        'dJ_db': dJ_db\n",
    "    }\n",
    "    \n",
    "    return params, grads, costs"
   ]
  },
  {
   "cell_type": "markdown",
   "metadata": {},
   "source": [
    "<font color = blue >\n",
    "\n",
    "### Check result\n",
    "\n",
    "</font>\n"
   ]
  },
  {
   "cell_type": "code",
   "execution_count": 21,
   "metadata": {},
   "outputs": [
    {
     "name": "stdout",
     "output_type": "stream",
     "text": [
      "w = [[ 0.08006006 -0.02399336]]\n",
      "b = 1.9060971483059892\n",
      "dw = [[0.62090316 1.19256883]]\n",
      "db = 0.2084129285706479\n"
     ]
    }
   ],
   "source": [
    "params, grads, costs = optimize(w, b, X, Y, num_iterations=100, learning_rate=0.009, verbose=False)\n",
    "print('w =', params['w'])\n",
    "print('b =', params['b'])\n",
    "print('dw =', grads['dJ_dw'])\n",
    "print('db =', grads['dJ_db'])"
   ]
  },
  {
   "cell_type": "markdown",
   "metadata": {},
   "source": [
    "<font color = blue >\n",
    "\n",
    "### Expected Output\n",
    "</font>\n",
    "\n",
    "\n",
    "```\n",
    "w = [[ 0.08006006 -0.02399336]]\n",
    "b = 1.9060971483059892\n",
    "dw = [[0.62090316 1.19256883]]\n",
    "db = 0.2084129285706479\n",
    "```"
   ]
  },
  {
   "cell_type": "markdown",
   "metadata": {},
   "source": [
    "<font color = green>\n",
    "\n",
    "##  Predict\n",
    "</font>\n",
    "\n",
    "1. Calculate $\\hat{Y} = A = g(b + X @ w.T)$\n",
    "2. Convert the entries of a into 0 (if activation <= 0.5) or 1 (if activation > 0.5), store the predictions in a vector `Y_prediction`. Try to avoid `for loop`  but use  vectorized way if possible."
   ]
  },
  {
   "cell_type": "code",
   "execution_count": 22,
   "metadata": {},
   "outputs": [],
   "source": [
    "def predict(w, b, X):\n",
    "    \"\"\"\n",
    "    Predict whether the label is 0 or 1 using learned logistic regression parameters (w, b)\n",
    "    \n",
    "    Arguments:\n",
    "    w - weights, a numpy array of size (1,num_px * num_px * 3)\n",
    "    b - bias, a scalar\n",
    "    X - data of size (number of examples, num_px * num_px * 3)\n",
    "    \n",
    "    Returns:\n",
    "    Y_prediction - a numpy array of shape (number of examples, 1) containing all predictions (0/1) for the examples in X\n",
    "    \"\"\"\n",
    "    m, n = X.shape\n",
    "    assert w.shape == (1, n)\n",
    " \n",
    "    # YOUR_CODE.  Compute A predicting the probabilities of a cat being present in the picture\n",
    "    # START_CODE   \n",
    "    A = sigmoid(b + X @ w.T)\n",
    "    # END_CODE \n",
    "\n",
    "    # YOUR_CODE.  Convert probabilities to actual predictions 0 or 1 \n",
    "    # START_CODE   \n",
    "    Y_prediction = np.vectorize(lambda x: 0 if x <= 0.5 else 1)(A)\n",
    "    # END_CODE \n",
    "    \n",
    "    assert Y_prediction.shape == (m, 1)\n",
    "    \n",
    "    return Y_prediction"
   ]
  },
  {
   "cell_type": "markdown",
   "metadata": {},
   "source": [
    "<font color = blue >\n",
    "\n",
    "### Check result\n",
    "\n",
    "</font>\n"
   ]
  },
  {
   "cell_type": "code",
   "execution_count": 23,
   "metadata": {},
   "outputs": [
    {
     "name": "stdout",
     "output_type": "stream",
     "text": [
      "predictions = \n",
      "[[1]\n",
      " [1]\n",
      " [0]]\n"
     ]
    }
   ],
   "source": [
    "w = np.array([[0.1124579], [0.23106775]]).T\n",
    "b = -0.3\n",
    "X = np.array([[1, -1.1, -3.2], [1.2, 2, 0.1]]).T\n",
    "print('predictions = \\n{}'.format(predict(w, b, X)))"
   ]
  },
  {
   "cell_type": "markdown",
   "metadata": {},
   "source": [
    "<font color = blue >\n",
    "\n",
    "### Expected Output\n",
    "</font>\n",
    "\n",
    "<br>`predictions=`\n",
    "<br>`[[1]`\n",
    "<br>` [1]`\n",
    "<br>` [0]]`\n",
    "\n"
   ]
  },
  {
   "cell_type": "markdown",
   "metadata": {},
   "source": [
    "<font color = green>\n",
    "\n",
    "##   Model\n",
    "</font>\n",
    "\n"
   ]
  },
  {
   "cell_type": "code",
   "execution_count": 24,
   "metadata": {},
   "outputs": [],
   "source": [
    "def model(X_train, Y_train, X_test, Y_test, num_iterations=2000, learning_rate=0.5, verbose=False, C=1):\n",
    "    \"\"\"\n",
    "    Builds the logistic regression model by calling the functions implemented previously\n",
    "    \n",
    "    Arguments:\n",
    "    X_train -- training set represented by a numpy array of shape (number of examples, num_px * num_px * 3)\n",
    "    Y_train -- training labels represented by a numpy array (vector) of shape (1, m_train)\n",
    "    X_test -- test set represented by a numpy array of shape (num_px * num_px * 3, m_test)\n",
    "    Y_test -- test labels represented by a numpy array (vector) of shape (number of examples,1)\n",
    "    num_iterations -- hyperparameter representing the number of iterations to optimize the parameters\n",
    "    learning_rate -- hyperparameter representing the learning rate used in the update rule of optimize()\n",
    "    verbose -- Set to true to print the cost every 100 iterations\n",
    "    C -- regularization parameter \n",
    "    \n",
    "    Returns:\n",
    "    res -- dictionary containing information about the model.\n",
    "    \"\"\"\n",
    "    \n",
    "    # YOUR_CODE.\n",
    "    # START_CODE   \n",
    "\n",
    "    # Initialize parameters\n",
    "    dim = X_train.shape[1]\n",
    "    w, b = initialize_with_zeros(dim)\n",
    "    \n",
    "    # Run gradient descent \n",
    "    parameters, grads, costs = optimize(w, b, X_train, Y_train, num_iterations, learning_rate, verbose=verbose, C=C)\n",
    "   \n",
    "    \n",
    "    # Retrieve parameters w and b from parameters dictionary\n",
    "    w = parameters['w']\n",
    "    b = parameters['b']\n",
    "    \n",
    "    # Predict test/train set examples\n",
    "    Y_prediction_test = predict(w, b, X_test)\n",
    "    Y_prediction_train = predict(w, b, X_train)\n",
    "    # END_CODE \n",
    "\n",
    "    # Print train/test errors\n",
    "    print('train accuracy = {:.3%}'.format(np.mean(Y_prediction_train == Y_train)))\n",
    "    print('test accuracy = {:.3%}'.format(np.mean(Y_prediction_test == Y_test)))\n",
    "    \n",
    "    res = {\n",
    "        'costs': costs,\n",
    "        'Y_prediction_test': Y_prediction_test, \n",
    "        'Y_prediction_train': Y_prediction_train, \n",
    "        'w': w, \n",
    "        'b': b,\n",
    "        'learning_rate': learning_rate,\n",
    "        'num_iterations': num_iterations,\n",
    "        'C': C\n",
    "    }\n",
    "    \n",
    "    return res"
   ]
  },
  {
   "cell_type": "markdown",
   "metadata": {},
   "source": [
    "<font color = blue >\n",
    "\n",
    "### Check result\n",
    "\n",
    "</font>\n"
   ]
  },
  {
   "cell_type": "code",
   "execution_count": 25,
   "metadata": {},
   "outputs": [
    {
     "name": "stdout",
     "output_type": "stream",
     "text": [
      "Cost after iteration 0: 0.6931471805599453\n",
      "Cost after iteration 100: 1.4135565692077825\n",
      "Cost after iteration 200: 1.8076892047767508\n",
      "Cost after iteration 300: 1.100677680771868\n",
      "Cost after iteration 400: 0.7840052117001889\n",
      "Cost after iteration 500: 0.55353213727056\n",
      "Cost after iteration 600: 0.3647836472787735\n",
      "Cost after iteration 700: 0.23231072798700333\n",
      "Cost after iteration 800: 0.17971185331413245\n",
      "Cost after iteration 900: 0.16547133420870097\n",
      "Cost after iteration 1000: 0.15939711356672237\n",
      "Cost after iteration 1100: 0.15501272075508332\n",
      "Cost after iteration 1200: 0.151421208744911\n",
      "Cost after iteration 1300: 0.148405444820367\n",
      "Cost after iteration 1400: 0.14583591932052287\n",
      "Cost after iteration 1500: 0.14362539781916872\n",
      "Cost after iteration 1600: 0.14171045659267786\n",
      "Cost after iteration 1700: 0.14004265330284862\n",
      "Cost after iteration 1800: 0.1385837611381228\n",
      "Cost after iteration 1900: 0.1373029303882205\n",
      "Cost after iteration 2000: 0.13617486076677401\n",
      "Cost after iteration 2100: 0.13517855123827704\n",
      "Cost after iteration 2200: 0.134296404519199\n",
      "Cost after iteration 2300: 0.13351356276219212\n",
      "Cost after iteration 2400: 0.13281740136326795\n",
      "Cost after iteration 2500: 0.1321971351637876\n",
      "Cost after iteration 2600: 0.1316435070278077\n",
      "Cost after iteration 2700: 0.13114853828714243\n",
      "Cost after iteration 2800: 0.13070532657549908\n",
      "Cost after iteration 2900: 0.1303078805486174\n",
      "train accuracy = 100.000%\n",
      "test accuracy = 70.000%\n"
     ]
    }
   ],
   "source": [
    "res = model(\n",
    "    X_train=X_train_scaled,\n",
    "    Y_train=Y_train, \n",
    "    X_test=X_test_scaled, \n",
    "    Y_test=Y_test, \n",
    "    num_iterations=3000, \n",
    "    learning_rate=0.01, \n",
    "    verbose=True,\n",
    "    C=0.3  # 0.6 is still overfitting, 0.3  is low value to keep the test accuracy as high as possible\n",
    ")"
   ]
  },
  {
   "cell_type": "markdown",
   "metadata": {},
   "source": [
    "<font color = blue >\n",
    "\n",
    "### Expected Output\n",
    "</font>\n",
    "\n",
    "```\n",
    "...\n",
    "Cost after iteration 2600: 0.057748\n",
    "Cost after iteration 2700: 0.056804\n",
    "Cost after iteration 2800: 0.055918\n",
    "Cost after iteration 2900: 0.055084\n",
    "train accuracy= 98.565%\n",
    "test accuracy= 70.000%\n",
    "```"
   ]
  },
  {
   "cell_type": "markdown",
   "metadata": {},
   "source": [
    "<font color = green>\n",
    "\n",
    "##  Visualize cost function changes \n",
    "</font>\n",
    "\n"
   ]
  },
  {
   "cell_type": "code",
   "execution_count": 26,
   "metadata": {},
   "outputs": [
    {
     "data": {
      "image/png": "[encoded data removed]",
      "text/plain": [
       "<Figure size 640x480 with 1 Axes>"
      ]
     },
     "metadata": {},
     "output_type": "display_data"
    }
   ],
   "source": [
    "costs = np.squeeze(res['costs'])\n",
    "plt.plot(costs)\n",
    "plt.ylabel('cost')\n",
    "plt.xlabel('iterations (per hundreds)')\n",
    "plt.title('Learning rate = {}'.format(res['learning_rate']))\n",
    "plt.show()"
   ]
  },
  {
   "cell_type": "markdown",
   "metadata": {},
   "source": [
    "<font color = green>\n",
    "\n",
    "##   Visualize prediction\n",
    "</font>\n",
    "\n"
   ]
  },
  {
   "cell_type": "code",
   "execution_count": 27,
   "metadata": {},
   "outputs": [
    {
     "data": {
      "text/plain": [
       "(1, 1)"
      ]
     },
     "execution_count": 27,
     "metadata": {},
     "output_type": "execute_result"
    }
   ],
   "source": [
    "Y_test[index, 0], res['Y_prediction_test'][index, 0]"
   ]
  },
  {
   "cell_type": "code",
   "execution_count": 28,
   "metadata": {},
   "outputs": [
    {
     "name": "stdout",
     "output_type": "stream",
     "text": [
      "y_predicted = 1 (true label = 1) , you predicted that it is a cat picture.\n"
     ]
    },
    {
     "data": {
      "image/png": "[encoded data removed]",
      "text/plain": [
       "<Figure size 640x480 with 1 Axes>"
      ]
     },
     "metadata": {},
     "output_type": "display_data"
    }
   ],
   "source": [
    "index = 1\n",
    "plt.imshow(X_test[index, :].reshape(num_px, num_px, 3))\n",
    "y_true = Y_test[index, 0]\n",
    "y_predicted =  res['Y_prediction_test'][index, 0]\n",
    "print('y_predicted = {} (true label = {}) , you predicted that it is a {} picture.'.\\\n",
    "       format(y_predicted, y_true, classes[y_predicted]))\n",
    "# To do it looks like it does not use predicted value but test label instead "
   ]
  },
  {
   "cell_type": "code",
   "execution_count": 29,
   "metadata": {},
   "outputs": [
    {
     "name": "stdout",
     "output_type": "stream",
     "text": [
      "y_predicted = 0 (true label = 1), you predicted that it is a non-cat picture.\n"
     ]
    },
    {
     "data": {
      "image/png": "[encoded data removed]",
      "text/plain": [
       "<Figure size 640x480 with 1 Axes>"
      ]
     },
     "metadata": {},
     "output_type": "display_data"
    }
   ],
   "source": [
    "# index = 6 is example of a picture that was wrongly classified.\n",
    "index = 6\n",
    "plt.imshow(X_test[index,:].reshape(num_px, num_px, 3))\n",
    "y_true = Y_test[index, 0]\n",
    "y_predicted =  res['Y_prediction_test'][index, 0]\n",
    "print('y_predicted = {} (true label = {}), you predicted that it is a {} picture.'.\\\n",
    "      format(y_predicted, y_true, classes[y_predicted]))\n",
    "# To do it looks like it does not use predicted value but test label instead "
   ]
  },
  {
   "cell_type": "code",
   "execution_count": 30,
   "metadata": {},
   "outputs": [
    {
     "data": {
      "text/plain": [
       "1"
      ]
     },
     "execution_count": 30,
     "metadata": {},
     "output_type": "execute_result"
    }
   ],
   "source": [
    "Y_test[index, 0]"
   ]
  },
  {
   "cell_type": "markdown",
   "metadata": {},
   "source": [
    "<font color = green>\n",
    "\n",
    "##  Test with your image\n",
    "</font>\n",
    "\n"
   ]
  },
  {
   "cell_type": "code",
   "execution_count": 31,
   "metadata": {},
   "outputs": [
    {
     "name": "stdout",
     "output_type": "stream",
     "text": [
      "image.size = (64, 64)\n"
     ]
    },
    {
     "data": {
      "image/jpeg": "[encoded data removed]",
      "image/png": "[encoded data removed]",
      "text/plain": [
       "<PIL.Image.Image image mode=RGB size=64x64>"
      ]
     },
     "execution_count": 31,
     "metadata": {},
     "output_type": "execute_result"
    }
   ],
   "source": [
    "from PIL import Image\n",
    "file_name = os.path.join(path, 'Ihor_Vorobets.jpg')\n",
    "image = Image.open(file_name).resize((num_px, num_px))\n",
    "print('image.size =', image.size)\n",
    "image"
   ]
  },
  {
   "cell_type": "code",
   "execution_count": 32,
   "metadata": {},
   "outputs": [
    {
     "data": {
      "text/plain": [
       "(4096, 3)"
      ]
     },
     "execution_count": 32,
     "metadata": {},
     "output_type": "execute_result"
    }
   ],
   "source": [
    "my_image = np.array(image.getdata())\n",
    "my_image.shape"
   ]
  },
  {
   "cell_type": "code",
   "execution_count": 33,
   "metadata": {},
   "outputs": [
    {
     "name": "stdout",
     "output_type": "stream",
     "text": [
      "my_image.shape = (1, 12288)\n"
     ]
    },
    {
     "data": {
      "text/plain": [
       "array([[254, 254, 253, ...,  49,  56,  66]])"
      ]
     },
     "execution_count": 33,
     "metadata": {},
     "output_type": "execute_result"
    }
   ],
   "source": [
    "my_image = my_image.reshape((1, num_px * num_px * 3))\n",
    "print('my_image.shape =', my_image.shape)\n",
    "my_image"
   ]
  },
  {
   "cell_type": "code",
   "execution_count": 34,
   "metadata": {},
   "outputs": [
    {
     "name": "stdout",
     "output_type": "stream",
     "text": [
      "y = 0, your algorithm predicts a non-cat picture.\n"
     ]
    }
   ],
   "source": [
    "my_predicted_image = predict(res['w'], res['b'], my_image)\n",
    "my_predicted_image\n",
    "print('y = {}, your algorithm predicts a {} picture.'.\\\n",
    "      format(np.squeeze(my_predicted_image), classes[np.squeeze(my_predicted_image)]))"
   ]
  },
  {
   "cell_type": "code",
   "execution_count": 35,
   "metadata": {},
   "outputs": [
    {
     "name": "stdout",
     "output_type": "stream",
     "text": [
      "image.size = (64, 64)\n"
     ]
    },
    {
     "data": {
      "image/jpeg": "[encoded data removed]",
      "image/png": "[encoded data removed]",
      "text/plain": [
       "<PIL.Image.Image image mode=RGB size=64x64>"
      ]
     },
     "execution_count": 35,
     "metadata": {},
     "output_type": "execute_result"
    }
   ],
   "source": [
    "file_name = os.path.join(path , 'cat.jpg')\n",
    "image = Image.open(file_name).resize((num_px, num_px))\n",
    "print('image.size =', image.size)\n",
    "image = image.convert('RGB')  # Convert image from RGBA to RGB\n",
    "image"
   ]
  },
  {
   "cell_type": "code",
   "execution_count": 36,
   "metadata": {},
   "outputs": [
    {
     "name": "stdout",
     "output_type": "stream",
     "text": [
      "cat_image.shape = (4096, 3)\n",
      "after reshape: cat_image.shape = (1, 12288)\n",
      "y = 1, your algorithm predicts a cat picture.\n"
     ]
    }
   ],
   "source": [
    "cat_image = np.array(image.getdata())\n",
    "print('cat_image.shape =', cat_image.shape)\n",
    "\n",
    "cat_image = cat_image.reshape((1, num_px * num_px * 3))\n",
    "print('after reshape: cat_image.shape =', cat_image.shape)\n",
    "\n",
    "cat_predicted_image = predict(res['w'], res['b'], cat_image)\n",
    "print('y = {}, your algorithm predicts a {} picture.'.\\\n",
    "      format(np.squeeze(cat_predicted_image), classes[np.squeeze(cat_predicted_image)]))\n"
   ]
  },
  {
   "cell_type": "markdown",
   "metadata": {},
   "source": [
    "<font color = green>\n",
    "\n",
    "##  Sklearn implementation\n",
    "</font>\n",
    "\n"
   ]
  },
  {
   "cell_type": "code",
   "execution_count": 37,
   "metadata": {},
   "outputs": [],
   "source": [
    "from sklearn.linear_model import LogisticRegression\n",
    "\n",
    "# LogisticRegression requires 1d input for y\n",
    "y_train = np.squeeze(Y_train) \n",
    "clf = LogisticRegression(C=0.01).fit(X_train_scaled, y_train)"
   ]
  },
  {
   "cell_type": "code",
   "execution_count": 38,
   "metadata": {},
   "outputs": [
    {
     "name": "stdout",
     "output_type": "stream",
     "text": [
      "train accuracy = 90.909%\n",
      "test accuracy = 66.000%\n"
     ]
    }
   ],
   "source": [
    "print('train accuracy = {:.3%}'.format(clf.score(X_train_scaled, y_train)))\n",
    "\n",
    "y_test = np.squeeze(Y_test)\n",
    "print('test accuracy = {:.3%}'.format(clf.score(X_test_scaled, y_test)))"
   ]
  },
  {
   "cell_type": "code",
   "execution_count": 39,
   "metadata": {
    "scrolled": true
   },
   "outputs": [
    {
     "name": "stdout",
     "output_type": "stream",
     "text": [
      "For my_image: y = 0, sklearn algorithm predicts a non-cat picture.\n",
      "For cat_image: y = 1, sklearn algorithm predicts a cat picture.\n"
     ]
    }
   ],
   "source": [
    "print('For my_image: y = {}, sklearn algorithm predicts a {} picture.'.\\\n",
    "      format(np.squeeze(clf.predict(my_image)), classes[np.squeeze(clf.predict(my_image))]))\n",
    "\n",
    "print('For cat_image: y = {}, sklearn algorithm predicts a {} picture.'.\\\n",
    "      format(np.squeeze(clf.predict(cat_image)), classes[np.squeeze(clf.predict(cat_image))]))"
   ]
  }
 ],
 "metadata": {
  "kernelspec": {
   "display_name": "Python 3 (ipykernel)",
   "language": "python",
   "name": "python3"
  },
  "language_info": {
   "codemirror_mode": {
    "name": "ipython",
    "version": 3
   },
   "file_extension": ".py",
   "mimetype": "text/x-python",
   "name": "python",
   "nbconvert_exporter": "python",
   "pygments_lexer": "ipython3",
   "version": "3.11.5"
  }
 },
 "nbformat": 4,
 "nbformat_minor": 2
}
