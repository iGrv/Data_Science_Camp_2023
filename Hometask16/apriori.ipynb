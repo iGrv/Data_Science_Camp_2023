{
 "cells": [
  {
   "cell_type": "markdown",
   "metadata": {},
   "source": [
    "<font color=\"green\">\n",
    "\n",
    "# Home task: Apriori (Association Rules) Algorithm\n",
    "</font>\n",
    "\n",
    "Mine top 10 association rules worth recommending for \n",
    "[Groceries dataset](https://www.kaggle.com/heeraldedhia/groceries-dataset)"
   ]
  },
  {
   "cell_type": "code",
   "execution_count": 1,
   "metadata": {},
   "outputs": [],
   "source": [
    "import numpy as np\n",
    "import pandas as pd\n",
    "import matplotlib.pyplot as plt\n",
    "from apyori import apriori\n",
    "%matplotlib inline"
   ]
  },
  {
   "cell_type": "code",
   "execution_count": 2,
   "metadata": {},
   "outputs": [
    {
     "data": {
      "text/html": [
       "<div>\n",
       "<style scoped>\n",
       "    .dataframe tbody tr th:only-of-type {\n",
       "        vertical-align: middle;\n",
       "    }\n",
       "\n",
       "    .dataframe tbody tr th {\n",
       "        vertical-align: top;\n",
       "    }\n",
       "\n",
       "    .dataframe thead th {\n",
       "        text-align: right;\n",
       "    }\n",
       "</style>\n",
       "<table border=\"1\" class=\"dataframe\">\n",
       "  <thead>\n",
       "    <tr style=\"text-align: right;\">\n",
       "      <th></th>\n",
       "      <th>Member_number</th>\n",
       "      <th>Date</th>\n",
       "      <th>itemDescription</th>\n",
       "    </tr>\n",
       "  </thead>\n",
       "  <tbody>\n",
       "    <tr>\n",
       "      <th>0</th>\n",
       "      <td>1808</td>\n",
       "      <td>21-07-2015</td>\n",
       "      <td>tropical fruit</td>\n",
       "    </tr>\n",
       "    <tr>\n",
       "      <th>1</th>\n",
       "      <td>2552</td>\n",
       "      <td>05-01-2015</td>\n",
       "      <td>whole milk</td>\n",
       "    </tr>\n",
       "    <tr>\n",
       "      <th>2</th>\n",
       "      <td>2300</td>\n",
       "      <td>19-09-2015</td>\n",
       "      <td>pip fruit</td>\n",
       "    </tr>\n",
       "    <tr>\n",
       "      <th>3</th>\n",
       "      <td>1187</td>\n",
       "      <td>12-12-2015</td>\n",
       "      <td>other vegetables</td>\n",
       "    </tr>\n",
       "    <tr>\n",
       "      <th>4</th>\n",
       "      <td>3037</td>\n",
       "      <td>01-02-2015</td>\n",
       "      <td>whole milk</td>\n",
       "    </tr>\n",
       "  </tbody>\n",
       "</table>\n",
       "</div>"
      ],
      "text/plain": [
       "   Member_number        Date   itemDescription\n",
       "0           1808  21-07-2015    tropical fruit\n",
       "1           2552  05-01-2015        whole milk\n",
       "2           2300  19-09-2015         pip fruit\n",
       "3           1187  12-12-2015  other vegetables\n",
       "4           3037  01-02-2015        whole milk"
      ]
     },
     "execution_count": 2,
     "metadata": {},
     "output_type": "execute_result"
    }
   ],
   "source": [
    "# Load the dataset\n",
    "df = pd.read_csv('Groceries_dataset.csv')\n",
    "df.head()"
   ]
  },
  {
   "cell_type": "code",
   "execution_count": 3,
   "metadata": {},
   "outputs": [
    {
     "data": {
      "text/plain": [
       "38765"
      ]
     },
     "execution_count": 3,
     "metadata": {},
     "output_type": "execute_result"
    }
   ],
   "source": [
    "# Discover the number of entries in dataset\n",
    "len(df)"
   ]
  },
  {
   "cell_type": "code",
   "execution_count": 4,
   "metadata": {},
   "outputs": [
    {
     "data": {
      "text/plain": [
       "Member_number  Date      \n",
       "1000           15-03-2015    [sausage, whole milk, semi-finished bread, yog...\n",
       "               24-06-2014                    [whole milk, pastry, salty snack]\n",
       "               24-07-2015                       [canned beer, misc. beverages]\n",
       "               25-11-2015                          [sausage, hygiene articles]\n",
       "               27-05-2015                           [soda, pickled vegetables]\n",
       "Name: itemDescription, dtype: object"
      ]
     },
     "execution_count": 4,
     "metadata": {},
     "output_type": "execute_result"
    }
   ],
   "source": [
    "# Construct the table whose entries contain the items from each grocery check\n",
    "checks_df = df.groupby(['Member_number', 'Date'])['itemDescription'].apply(list)\n",
    "checks_df.head()"
   ]
  },
  {
   "cell_type": "code",
   "execution_count": 5,
   "metadata": {},
   "outputs": [
    {
     "data": {
      "text/plain": [
       "[['sausage', 'whole milk', 'semi-finished bread', 'yogurt'],\n",
       " ['whole milk', 'pastry', 'salty snack'],\n",
       " ['canned beer', 'misc. beverages'],\n",
       " ['sausage', 'hygiene articles'],\n",
       " ['soda', 'pickled vegetables']]"
      ]
     },
     "execution_count": 5,
     "metadata": {},
     "output_type": "execute_result"
    }
   ],
   "source": [
    "# Convert grocery check data to list representetion\n",
    "grocery_checks = checks_df.reset_index(drop=True).to_list()\n",
    "grocery_checks[:5]"
   ]
  },
  {
   "cell_type": "code",
   "execution_count": 6,
   "metadata": {},
   "outputs": [
    {
     "data": {
      "text/plain": [
       "14963"
      ]
     },
     "execution_count": 6,
     "metadata": {},
     "output_type": "execute_result"
    }
   ],
   "source": [
    "# Discover the number of grocery checks\n",
    "len(grocery_checks)"
   ]
  },
  {
   "cell_type": "code",
   "execution_count": 7,
   "metadata": {},
   "outputs": [
    {
     "data": {
      "image/png": "[encoded data removed]",
      "text/plain": [
       "<Figure size 640x480 with 1 Axes>"
      ]
     },
     "metadata": {},
     "output_type": "display_data"
    }
   ],
   "source": [
    "# Show the histogram of grocery check sizes\n",
    "check_sizes = [len(check) for check in grocery_checks]\n",
    "bins = np.arange(min(check_sizes) - 0.5, max(check_sizes) + 0.5)\n",
    "plt.xlabel('Grocery check size (number of items in grocery check)')\n",
    "plt.ylabel('Count')\n",
    "plt.hist(check_sizes, bins, edgecolor='black');"
   ]
  },
  {
   "cell_type": "markdown",
   "metadata": {},
   "source": [
    "On the histogram we can see that the most common grocery check size is 2 (about 10,000 checks)."
   ]
  },
  {
   "cell_type": "code",
   "execution_count": 8,
   "metadata": {},
   "outputs": [
    {
     "data": {
      "text/plain": [
       "18"
      ]
     },
     "execution_count": 8,
     "metadata": {},
     "output_type": "execute_result"
    }
   ],
   "source": [
    "# Build the association rules based on grocery check data using Apriory algorithm (number of items limited to between 2 and 3)\n",
    "rules = apriori(grocery_checks, min_support=0.002, min_confidence=0.05, min_lift=1, max_length=3)\n",
    "rules = list(filter(lambda r: len(r.items) > 1, rules))\n",
    "len(rules)"
   ]
  },
  {
   "cell_type": "code",
   "execution_count": 9,
   "metadata": {},
   "outputs": [],
   "source": [
    "def print_rules(rules):\n",
    "    for i, rule in enumerate(rules):\n",
    "        print(f'Rule #{i + 1}: {list(rule.items)} (support = {rule.support}):')\n",
    "        for statistics in rule.ordered_statistics:\n",
    "            items_base = list(statistics.items_base)\n",
    "            items_add = list(statistics.items_add)\n",
    "            print(f'    rule {items_base} => {items_add}')\n",
    "            print(f'    confidence (i.e. conditional probability {items_add} given {items_base}) = {statistics.confidence}')\n",
    "            print(f'    lift = {statistics.lift}', end='\\n\\n')"
   ]
  },
  {
   "cell_type": "code",
   "execution_count": 10,
   "metadata": {},
   "outputs": [
    {
     "name": "stdout",
     "output_type": "stream",
     "text": [
      "Rule #1: ['sausage', 'curd'] (support = 0.0029405867807257902):\n",
      "    rule ['curd'] => ['sausage']\n",
      "    confidence (i.e. conditional probability ['sausage'] given ['curd']) = 0.08730158730158731\n",
      "    lift = 1.446615338641917\n",
      "\n",
      "Rule #2: ['brown bread', 'canned beer'] (support = 0.0024059346387756467):\n",
      "    rule ['brown bread'] => ['canned beer']\n",
      "    confidence (i.e. conditional probability ['canned beer'] given ['brown bread']) = 0.06394316163410303\n",
      "    lift = 1.3629366489046777\n",
      "\n",
      "    rule ['canned beer'] => ['brown bread']\n",
      "    confidence (i.e. conditional probability ['brown bread'] given ['canned beer']) = 0.05128205128205129\n",
      "    lift = 1.3629366489046775\n",
      "\n",
      "Rule #3: ['sausage', 'frozen vegetables'] (support = 0.0020717770500568067):\n",
      "    rule ['frozen vegetables'] => ['sausage']\n",
      "    confidence (i.e. conditional probability ['sausage'] given ['frozen vegetables']) = 0.07398568019093078\n",
      "    lift = 1.2259664813919129\n",
      "\n",
      "Rule #4: ['sausage', 'bottled beer'] (support = 0.003341575887188398):\n",
      "    rule ['bottled beer'] => ['sausage']\n",
      "    confidence (i.e. conditional probability ['sausage'] given ['bottled beer']) = 0.07374631268436578\n",
      "    lift = 1.2220000849348451\n",
      "\n",
      "    rule ['sausage'] => ['bottled beer']\n",
      "    confidence (i.e. conditional probability ['bottled beer'] given ['sausage']) = 0.05537098560354374\n",
      "    lift = 1.2220000849348451\n",
      "\n",
      "Rule #5: ['other vegetables', 'frankfurter'] (support = 0.005146026866270133):\n",
      "    rule ['frankfurter'] => ['other vegetables']\n",
      "    confidence (i.e. conditional probability ['other vegetables'] given ['frankfurter']) = 0.13628318584070798\n",
      "    lift = 1.1161495948191098\n",
      "\n",
      "Rule #6: ['sausage', 'yogurt'] (support = 0.005747510525964045):\n",
      "    rule ['sausage'] => ['yogurt']\n",
      "    confidence (i.e. conditional probability ['yogurt'] given ['sausage']) = 0.09523809523809523\n",
      "    lift = 1.1089864739670185\n",
      "\n",
      "    rule ['yogurt'] => ['sausage']\n",
      "    confidence (i.e. conditional probability ['sausage'] given ['yogurt']) = 0.0669260700389105\n",
      "    lift = 1.1089864739670185\n",
      "\n",
      "Rule #7: ['root vegetables', 'frozen vegetables'] (support = 0.002138608567800575):\n",
      "    rule ['frozen vegetables'] => ['root vegetables']\n",
      "    confidence (i.e. conditional probability ['root vegetables'] given ['frozen vegetables']) = 0.07637231503579953\n",
      "    lift = 1.0977511526231203\n",
      "\n",
      "Rule #8: ['chocolate', 'rolls/buns'] (support = 0.002806923745238254):\n",
      "    rule ['chocolate'] => ['rolls/buns']\n",
      "    confidence (i.e. conditional probability ['rolls/buns'] given ['chocolate']) = 0.11898016997167138\n",
      "    lift = 1.081591909651348\n",
      "\n",
      "Rule #9: ['frozen meals', 'other vegetables'] (support = 0.002138608567800575):\n",
      "    rule ['frozen meals'] => ['other vegetables']\n",
      "    confidence (i.e. conditional probability ['other vegetables'] given ['frozen meals']) = 0.12749003984063748\n",
      "    lift = 1.0441343547539457\n",
      "\n",
      "Rule #10: ['other vegetables', 'meat'] (support = 0.002138608567800575):\n",
      "    rule ['meat'] => ['other vegetables']\n",
      "    confidence (i.e. conditional probability ['other vegetables'] given ['meat']) = 0.126984126984127\n",
      "    lift = 1.0399909644573029\n",
      "\n"
     ]
    }
   ],
   "source": [
    "# Get top 10 association rules ordered by lift value\n",
    "top_rules = sorted(rules, key=lambda r: max(r.ordered_statistics, key=lambda s: s.lift).lift, reverse=True)[:10]\n",
    "print_rules(top_rules)"
   ]
  }
 ],
 "metadata": {
  "kernelspec": {
   "display_name": "Python 3 (ipykernel)",
   "language": "python",
   "name": "python3"
  },
  "language_info": {
   "codemirror_mode": {
    "name": "ipython",
    "version": 3
   },
   "file_extension": ".py",
   "mimetype": "text/x-python",
   "name": "python",
   "nbconvert_exporter": "python",
   "pygments_lexer": "ipython3",
   "version": "3.11.5"
  }
 },
 "nbformat": 4,
 "nbformat_minor": 4
}
