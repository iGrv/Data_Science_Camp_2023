{
 "cells": [
  {
   "cell_type": "markdown",
   "metadata": {},
   "source": [
    "# Home task: task about sum and product \n",
    "\n",
    "Note: This is optional task. \n",
    "However it is also evaluated and so you will get extra points to final score. \n",
    "Thus, we encourage you to solve it. "
   ]
  },
  {
   "cell_type": "markdown",
   "metadata": {},
   "source": [
    "There are two whole numbers:\n",
    "1 < a, b < 100\n",
    "\n",
    "One scientist (*\"Sum\"*) get provided with sum of numbers,\n",
    "another (*\"Prod\"*) get provided with product of numbers. \n",
    "Both scientists know that numbers 1 < a, b < 100.\n",
    "\n",
    "Determine the numbers being based on the following dialog: \n",
    " - *Prod*: I don't know the numbers;\n",
    " - *Sum*: I know it;\n",
    " - *Prod*: then I know the numbers; \n",
    " - *Sum*: then I know the numbers too."
   ]
  },
  {
   "cell_type": "code",
   "execution_count": 1,
   "metadata": {},
   "outputs": [
    {
     "name": "stdout",
     "output_type": "stream",
     "text": [
      "In total, there are:\n",
      "- 4851 pairs of numbers in interval [2, 99]\n",
      "- 2843 unique products of those pairs of numbers\n",
      "- 195 unique sums of those pairs of numbers\n"
     ]
    }
   ],
   "source": [
    "import numpy as np\n",
    "\n",
    "# Build the 2d array of pairs of numbers in the interval [2, 99]\n",
    "# Note: the order of numbers in the pair is not important, i.e. the pair (2, 3) is the same as the pair (3, 2)\n",
    "numbers = np.array([\n",
    "    [a, b]\n",
    "    for a in range(2, 100)\n",
    "    for b in range(a, 100)\n",
    "])\n",
    "\n",
    "# To reduce the range of possible pairs of numbers, \"Prod\" can consider only\n",
    "# integers in the interval [2, 99] whose product is equal to given him number\n",
    "# ---------------------------------------------------------------------------\n",
    "# Each key of the dictionary is related to the 2d array\n",
    "# of pairs of numbers whose product is equal to that key\n",
    "prods = {\n",
    "    p: numbers[numbers.prod(axis=1) == p]\n",
    "    for p in np.unique(numbers.prod(axis=1))\n",
    "}\n",
    "\n",
    "# \"Sum\" can do the same with given him number\n",
    "# -----------------------------------------------------\n",
    "# Each key of the dictionary is related to the 2d array\n",
    "# of pairs of numbers whose sum is equal to that key\n",
    "sums = {\n",
    "    s: numbers[numbers.sum(axis=1) == s]\n",
    "    for s in np.unique(numbers.sum(axis=1))\n",
    "}\n",
    "\n",
    "print(\"In total, there are:\")\n",
    "print(f\"- {len(numbers)} pairs of numbers in interval [2, 99]\")\n",
    "print(f\"- {len(prods)} unique products of those pairs of numbers\")\n",
    "print(f\"- {len(sums)} unique sums of those pairs of numbers\")"
   ]
  },
  {
   "cell_type": "markdown",
   "metadata": {},
   "source": [
    "To solve this task, we can use what *\"Prod\"* and *\"Sum\"* said decreasing the possible pairs of numbers.\n",
    "\n",
    "For example, initialy, *\"Prod\"* said \"I don't know the numbers\". That means that there are more than one pair of numbers with a given product. Then *\"Sum\"* said \"I know it\". That means that they know that *\"Prod\"* has more than one pair of numbers for a given product. So, we can reduce the pairs of numbers, keeping only pairs of numbers related with a certain sum that are not the single pairs for certain products."
   ]
  },
  {
   "cell_type": "code",
   "execution_count": 2,
   "metadata": {},
   "outputs": [
    {
     "name": "stdout",
     "output_type": "stream",
     "text": [
      "Count of updated pairs of numbers: 145\n"
     ]
    }
   ],
   "source": [
    "# Update the pairs of numbers:\n",
    "# consider the pairs related with each sum, and keep only those whose products have more than one related pair\n",
    "numbers = np.concatenate([\n",
    "    pairs\n",
    "    for pairs in sums.values()\n",
    "    if all(prods[p].shape[0] != 1 for p in pairs.prod(axis=1))\n",
    "])\n",
    "\n",
    "print(f\"Count of updated pairs of numbers: {len(numbers)}\")"
   ]
  },
  {
   "cell_type": "markdown",
   "metadata": {},
   "source": [
    "After that *\"Prod\"* said \"Then I know the numbers\", which means that they have updated the possible pairs of numbers related to products (values in `prods` dictionary) and saw that there is only one pair of numbers for a given product. Now we can further reduce the pairs of numbers using this information."
   ]
  },
  {
   "cell_type": "code",
   "execution_count": 3,
   "metadata": {},
   "outputs": [
    {
     "name": "stdout",
     "output_type": "stream",
     "text": [
      "Count of updated pairs of numbers: 86\n"
     ]
    }
   ],
   "source": [
    "# Define new pairs for products based on updated pairs of numbers\n",
    "prods = {\n",
    "    p: numbers[numbers.prod(axis=1) == p]\n",
    "    for p in np.unique(numbers.prod(axis=1))\n",
    "}\n",
    "\n",
    "# Update the pairs of numbers:\n",
    "# consider the pairs related with each product, and keep only those that are single for a related product\n",
    "numbers = np.concatenate([\n",
    "    pairs\n",
    "    for pairs in prods.values()\n",
    "    if pairs.shape[0] == 1\n",
    "])\n",
    "\n",
    "print(f\"Count of updated pairs of numbers: {len(numbers)}\")"
   ]
  },
  {
   "cell_type": "markdown",
   "metadata": {},
   "source": [
    "Then *\"Sum\"* said \"Then I know the numbers too\". We can understand that in the following way: *\"Sum\"* has updated the possible pairs of numbers related to sums (values in `sums` dictionary) and saw that there is only one pair of numbers for a given sum. Based on that we will reduce the possible pairs of numbers."
   ]
  },
  {
   "cell_type": "code",
   "execution_count": 4,
   "metadata": {},
   "outputs": [
    {
     "name": "stdout",
     "output_type": "stream",
     "text": [
      "Count of updated pairs of numbers: 1\n"
     ]
    }
   ],
   "source": [
    "# Define new pairs for sums based on updated pairs of numbers\n",
    "sums = {\n",
    "    s: numbers[numbers.sum(axis=1) == s]\n",
    "    for s in np.unique(numbers.sum(axis=1))\n",
    "}\n",
    "\n",
    "# Update the pairs of numbers:\n",
    "# consider the pairs related with each sum, and keep only those that are single for a related sum\n",
    "numbers = np.concatenate([\n",
    "    pairs\n",
    "    for pairs in sums.values()\n",
    "    if pairs.shape[0] == 1\n",
    "])\n",
    "\n",
    "print(f\"Count of updated pairs of numbers: {len(numbers)}\")"
   ]
  },
  {
   "cell_type": "markdown",
   "metadata": {},
   "source": [
    "After the update, there is only single pair of numbers left. So, we can see what those numbers are."
   ]
  },
  {
   "cell_type": "code",
   "execution_count": 5,
   "metadata": {},
   "outputs": [
    {
     "name": "stdout",
     "output_type": "stream",
     "text": [
      "Determinated numbers are 4 and 13\n"
     ]
    }
   ],
   "source": [
    "# Print the numbers that are left\n",
    "a, b = np.squeeze(numbers)\n",
    "print(f\"Determinated numbers are {a} and {b}\")"
   ]
  }
 ],
 "metadata": {
  "kernelspec": {
   "display_name": "Python 3 (ipykernel)",
   "language": "python",
   "name": "python3"
  },
  "language_info": {
   "codemirror_mode": {
    "name": "ipython",
    "version": 3
   },
   "file_extension": ".py",
   "mimetype": "text/x-python",
   "name": "python",
   "nbconvert_exporter": "python",
   "pygments_lexer": "ipython3",
   "version": "3.11.5"
  }
 },
 "nbformat": 4,
 "nbformat_minor": 2
}
