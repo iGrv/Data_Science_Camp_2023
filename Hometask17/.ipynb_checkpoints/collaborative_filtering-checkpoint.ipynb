{
 "cells": [
  {
   "cell_type": "markdown",
   "metadata": {},
   "source": [
    "## Home task: Collaborative Filtering\n",
    "\n",
    "Find the public dataset and apply collaborative filtering recommendation\n"
   ]
  },
  {
   "cell_type": "markdown",
   "metadata": {},
   "source": [
    "For Collaborative Filtering we are using Kaggle dataset [Steam Video Games](https://www.kaggle.com/datasets/tamber/steam-video-games) containing recommend video games from 200,000 Steam user interactions.\n",
    "\n",
    "Dataset have three columns: user-id, game-title, behavior-name, value. The behaviors included are *purchase* and *play*. The value indicates the degree to which the behavior was performed - in the case of *purchase* the value is always 1, and in the case of *play* the value represents the number of hours the user has played the game."
   ]
  },
  {
   "cell_type": "markdown",
   "metadata": {},
   "source": [
    "#### Load dataset and prepare for algorithm"
   ]
  },
  {
   "cell_type": "code",
   "execution_count": 1,
   "metadata": {},
   "outputs": [],
   "source": [
    "import os\n",
    "\n",
    "CWD = os.getcwd()\n",
    "DATA_DIR = os.path.join(CWD, 'data')\n",
    "STEAM_FILE = os.path.join(DATA_DIR, 'steam-200k.csv')"
   ]
  },
  {
   "cell_type": "code",
   "execution_count": 2,
   "metadata": {},
   "outputs": [
    {
     "data": {
      "text/html": [
       "<div>\n",
       "<style scoped>\n",
       "    .dataframe tbody tr th:only-of-type {\n",
       "        vertical-align: middle;\n",
       "    }\n",
       "\n",
       "    .dataframe tbody tr th {\n",
       "        vertical-align: top;\n",
       "    }\n",
       "\n",
       "    .dataframe thead th {\n",
       "        text-align: right;\n",
       "    }\n",
       "</style>\n",
       "<table border=\"1\" class=\"dataframe\">\n",
       "  <thead>\n",
       "    <tr style=\"text-align: right;\">\n",
       "      <th></th>\n",
       "      <th>User ID</th>\n",
       "      <th>Steam game</th>\n",
       "      <th>User behavior</th>\n",
       "      <th>Hours played</th>\n",
       "    </tr>\n",
       "  </thead>\n",
       "  <tbody>\n",
       "    <tr>\n",
       "      <th>0</th>\n",
       "      <td>151603712</td>\n",
       "      <td>The Elder Scrolls V Skyrim</td>\n",
       "      <td>purchase</td>\n",
       "      <td>1.0</td>\n",
       "    </tr>\n",
       "    <tr>\n",
       "      <th>1</th>\n",
       "      <td>151603712</td>\n",
       "      <td>The Elder Scrolls V Skyrim</td>\n",
       "      <td>play</td>\n",
       "      <td>273.0</td>\n",
       "    </tr>\n",
       "    <tr>\n",
       "      <th>2</th>\n",
       "      <td>151603712</td>\n",
       "      <td>Fallout 4</td>\n",
       "      <td>purchase</td>\n",
       "      <td>1.0</td>\n",
       "    </tr>\n",
       "    <tr>\n",
       "      <th>3</th>\n",
       "      <td>151603712</td>\n",
       "      <td>Fallout 4</td>\n",
       "      <td>play</td>\n",
       "      <td>87.0</td>\n",
       "    </tr>\n",
       "    <tr>\n",
       "      <th>4</th>\n",
       "      <td>151603712</td>\n",
       "      <td>Spore</td>\n",
       "      <td>purchase</td>\n",
       "      <td>1.0</td>\n",
       "    </tr>\n",
       "  </tbody>\n",
       "</table>\n",
       "</div>"
      ],
      "text/plain": [
       "     User ID                  Steam game User behavior  Hours played\n",
       "0  151603712  The Elder Scrolls V Skyrim      purchase           1.0\n",
       "1  151603712  The Elder Scrolls V Skyrim          play         273.0\n",
       "2  151603712                   Fallout 4      purchase           1.0\n",
       "3  151603712                   Fallout 4          play          87.0\n",
       "4  151603712                       Spore      purchase           1.0"
      ]
     },
     "execution_count": 2,
     "metadata": {},
     "output_type": "execute_result"
    }
   ],
   "source": [
    "import pandas as pd\n",
    "\n",
    "# Read data from CSV file\n",
    "steam_data = pd.read_csv(\n",
    "    STEAM_FILE,\n",
    "    header=None,\n",
    "    usecols=[0, 1, 2, 3],\n",
    "    names=['User ID', 'Steam game', 'User behavior', 'Hours played']\n",
    ")\n",
    "steam_data.head()"
   ]
  },
  {
   "cell_type": "markdown",
   "metadata": {},
   "source": [
    "Since for a specific user and a specific game there can be 2 entries where `User behavior` is *purchase* and *play* (2 values for `Hours played`), we should reduce number of entries so that there is a single entry with a single value of `Hours played`.\n",
    "\n",
    "To achive this, we can group entries by `User ID` and `Steam game` values and select the highest value for `Hours played`."
   ]
  },
  {
   "cell_type": "code",
   "execution_count": 3,
   "metadata": {},
   "outputs": [
    {
     "data": {
      "text/html": [
       "<div>\n",
       "<style scoped>\n",
       "    .dataframe tbody tr th:only-of-type {\n",
       "        vertical-align: middle;\n",
       "    }\n",
       "\n",
       "    .dataframe tbody tr th {\n",
       "        vertical-align: top;\n",
       "    }\n",
       "\n",
       "    .dataframe thead th {\n",
       "        text-align: right;\n",
       "    }\n",
       "</style>\n",
       "<table border=\"1\" class=\"dataframe\">\n",
       "  <thead>\n",
       "    <tr style=\"text-align: right;\">\n",
       "      <th></th>\n",
       "      <th>User ID</th>\n",
       "      <th>Steam game</th>\n",
       "      <th>User behavior</th>\n",
       "      <th>Hours played</th>\n",
       "    </tr>\n",
       "  </thead>\n",
       "  <tbody>\n",
       "    <tr>\n",
       "      <th>0</th>\n",
       "      <td>151603712</td>\n",
       "      <td>The Elder Scrolls V Skyrim</td>\n",
       "      <td>purchase</td>\n",
       "      <td>0.0</td>\n",
       "    </tr>\n",
       "    <tr>\n",
       "      <th>1</th>\n",
       "      <td>151603712</td>\n",
       "      <td>The Elder Scrolls V Skyrim</td>\n",
       "      <td>play</td>\n",
       "      <td>273.0</td>\n",
       "    </tr>\n",
       "    <tr>\n",
       "      <th>2</th>\n",
       "      <td>151603712</td>\n",
       "      <td>Fallout 4</td>\n",
       "      <td>purchase</td>\n",
       "      <td>0.0</td>\n",
       "    </tr>\n",
       "    <tr>\n",
       "      <th>3</th>\n",
       "      <td>151603712</td>\n",
       "      <td>Fallout 4</td>\n",
       "      <td>play</td>\n",
       "      <td>87.0</td>\n",
       "    </tr>\n",
       "    <tr>\n",
       "      <th>4</th>\n",
       "      <td>151603712</td>\n",
       "      <td>Spore</td>\n",
       "      <td>purchase</td>\n",
       "      <td>0.0</td>\n",
       "    </tr>\n",
       "  </tbody>\n",
       "</table>\n",
       "</div>"
      ],
      "text/plain": [
       "     User ID                  Steam game User behavior  Hours played\n",
       "0  151603712  The Elder Scrolls V Skyrim      purchase           0.0\n",
       "1  151603712  The Elder Scrolls V Skyrim          play         273.0\n",
       "2  151603712                   Fallout 4      purchase           0.0\n",
       "3  151603712                   Fallout 4          play          87.0\n",
       "4  151603712                       Spore      purchase           0.0"
      ]
     },
     "execution_count": 3,
     "metadata": {},
     "output_type": "execute_result"
    }
   ],
   "source": [
    "# Set 'Hours played' to zero in entries where 'User behavior' is 'purchase'\n",
    "steam_data.loc[steam_data['User behavior'] == 'purchase', 'Hours played'] = 0\n",
    "steam_data.head()"
   ]
  },
  {
   "cell_type": "code",
   "execution_count": 4,
   "metadata": {},
   "outputs": [
    {
     "data": {
      "text/html": [
       "<div>\n",
       "<style scoped>\n",
       "    .dataframe tbody tr th:only-of-type {\n",
       "        vertical-align: middle;\n",
       "    }\n",
       "\n",
       "    .dataframe tbody tr th {\n",
       "        vertical-align: top;\n",
       "    }\n",
       "\n",
       "    .dataframe thead th {\n",
       "        text-align: right;\n",
       "    }\n",
       "</style>\n",
       "<table border=\"1\" class=\"dataframe\">\n",
       "  <thead>\n",
       "    <tr style=\"text-align: right;\">\n",
       "      <th></th>\n",
       "      <th>User ID</th>\n",
       "      <th>Steam game</th>\n",
       "      <th>Hours played</th>\n",
       "    </tr>\n",
       "  </thead>\n",
       "  <tbody>\n",
       "    <tr>\n",
       "      <th>0</th>\n",
       "      <td>5250</td>\n",
       "      <td>Alien Swarm</td>\n",
       "      <td>4.9</td>\n",
       "    </tr>\n",
       "    <tr>\n",
       "      <th>1</th>\n",
       "      <td>5250</td>\n",
       "      <td>Cities Skylines</td>\n",
       "      <td>144.0</td>\n",
       "    </tr>\n",
       "    <tr>\n",
       "      <th>2</th>\n",
       "      <td>5250</td>\n",
       "      <td>Counter-Strike</td>\n",
       "      <td>0.0</td>\n",
       "    </tr>\n",
       "    <tr>\n",
       "      <th>3</th>\n",
       "      <td>5250</td>\n",
       "      <td>Counter-Strike Source</td>\n",
       "      <td>0.0</td>\n",
       "    </tr>\n",
       "    <tr>\n",
       "      <th>4</th>\n",
       "      <td>5250</td>\n",
       "      <td>Day of Defeat</td>\n",
       "      <td>0.0</td>\n",
       "    </tr>\n",
       "  </tbody>\n",
       "</table>\n",
       "</div>"
      ],
      "text/plain": [
       "   User ID             Steam game  Hours played\n",
       "0     5250            Alien Swarm           4.9\n",
       "1     5250        Cities Skylines         144.0\n",
       "2     5250         Counter-Strike           0.0\n",
       "3     5250  Counter-Strike Source           0.0\n",
       "4     5250          Day of Defeat           0.0"
      ]
     },
     "execution_count": 4,
     "metadata": {},
     "output_type": "execute_result"
    }
   ],
   "source": [
    "# Convert the table to format with three columns: 'User ID', 'Steam game' and 'Hours played'\n",
    "ratings = steam_data.groupby(['User ID', 'Steam game'])['Hours played'].max().reset_index()\n",
    "ratings.head()"
   ]
  },
  {
   "cell_type": "code",
   "execution_count": 5,
   "metadata": {},
   "outputs": [
    {
     "data": {
      "text/plain": [
       "Alien Swarm                 0\n",
       "Cities Skylines             1\n",
       "Counter-Strike              2\n",
       "Counter-Strike Source       3\n",
       "Day of Defeat               4\n",
       "Deathmatch Classic          5\n",
       "Deus Ex Human Revolution    6\n",
       "Dota 2                      7\n",
       "Half-Life                   8\n",
       "Half-Life 2                 9\n",
       "dtype: int64"
      ]
     },
     "execution_count": 5,
     "metadata": {},
     "output_type": "execute_result"
    }
   ],
   "source": [
    "# Construct a dictionary mapping game titles to game IDs\n",
    "games = ratings['Steam game'].unique()\n",
    "game_ids = dict((game, i) for i, game in enumerate(games))\n",
    "\n",
    "# Show first 10 entries in game_ids\n",
    "pd.Series(game_ids).head(10)"
   ]
  },
  {
   "cell_type": "code",
   "execution_count": 6,
   "metadata": {},
   "outputs": [
    {
     "data": {
      "text/html": [
       "<div>\n",
       "<style scoped>\n",
       "    .dataframe tbody tr th:only-of-type {\n",
       "        vertical-align: middle;\n",
       "    }\n",
       "\n",
       "    .dataframe tbody tr th {\n",
       "        vertical-align: top;\n",
       "    }\n",
       "\n",
       "    .dataframe thead th {\n",
       "        text-align: right;\n",
       "    }\n",
       "</style>\n",
       "<table border=\"1\" class=\"dataframe\">\n",
       "  <thead>\n",
       "    <tr style=\"text-align: right;\">\n",
       "      <th></th>\n",
       "      <th>user id</th>\n",
       "      <th>game id</th>\n",
       "      <th>rating</th>\n",
       "    </tr>\n",
       "  </thead>\n",
       "  <tbody>\n",
       "    <tr>\n",
       "      <th>0</th>\n",
       "      <td>5250</td>\n",
       "      <td>0</td>\n",
       "      <td>4.9</td>\n",
       "    </tr>\n",
       "    <tr>\n",
       "      <th>1</th>\n",
       "      <td>5250</td>\n",
       "      <td>1</td>\n",
       "      <td>144.0</td>\n",
       "    </tr>\n",
       "    <tr>\n",
       "      <th>2</th>\n",
       "      <td>5250</td>\n",
       "      <td>2</td>\n",
       "      <td>0.0</td>\n",
       "    </tr>\n",
       "    <tr>\n",
       "      <th>3</th>\n",
       "      <td>5250</td>\n",
       "      <td>3</td>\n",
       "      <td>0.0</td>\n",
       "    </tr>\n",
       "    <tr>\n",
       "      <th>4</th>\n",
       "      <td>5250</td>\n",
       "      <td>4</td>\n",
       "      <td>0.0</td>\n",
       "    </tr>\n",
       "  </tbody>\n",
       "</table>\n",
       "</div>"
      ],
      "text/plain": [
       "   user id  game id  rating\n",
       "0     5250        0     4.9\n",
       "1     5250        1   144.0\n",
       "2     5250        2     0.0\n",
       "3     5250        3     0.0\n",
       "4     5250        4     0.0"
      ]
     },
     "execution_count": 6,
     "metadata": {},
     "output_type": "execute_result"
    }
   ],
   "source": [
    "# Replace the game title with the game IDs\n",
    "ratings['game id'] = ratings['Steam game'].map(game_ids)\n",
    "\n",
    "# Construct dataframe in format [uid, iit, rating] where\n",
    "# uid - column with user IDs\n",
    "# iit - column with item (game) IDs\n",
    "# rating - column with ratings given by users to items (games)\n",
    "ratings.rename(columns={'User ID': 'user id', 'Hours played': 'rating'}, inplace=True)\n",
    "ratings = ratings[['user id', 'game id', 'rating']]\n",
    "ratings.head()"
   ]
  },
  {
   "cell_type": "code",
   "execution_count": 7,
   "metadata": {},
   "outputs": [
    {
     "data": {
      "text/html": [
       "<div>\n",
       "<style scoped>\n",
       "    .dataframe tbody tr th:only-of-type {\n",
       "        vertical-align: middle;\n",
       "    }\n",
       "\n",
       "    .dataframe tbody tr th {\n",
       "        vertical-align: top;\n",
       "    }\n",
       "\n",
       "    .dataframe thead th {\n",
       "        text-align: right;\n",
       "    }\n",
       "</style>\n",
       "<table border=\"1\" class=\"dataframe\">\n",
       "  <thead>\n",
       "    <tr style=\"text-align: right;\">\n",
       "      <th></th>\n",
       "      <th>user id</th>\n",
       "      <th>game id</th>\n",
       "      <th>rating</th>\n",
       "    </tr>\n",
       "  </thead>\n",
       "  <tbody>\n",
       "    <tr>\n",
       "      <th>0</th>\n",
       "      <td>5250</td>\n",
       "      <td>0</td>\n",
       "      <td>1.001668</td>\n",
       "    </tr>\n",
       "    <tr>\n",
       "      <th>1</th>\n",
       "      <td>5250</td>\n",
       "      <td>1</td>\n",
       "      <td>1.049005</td>\n",
       "    </tr>\n",
       "    <tr>\n",
       "      <th>2</th>\n",
       "      <td>5250</td>\n",
       "      <td>2</td>\n",
       "      <td>1.000000</td>\n",
       "    </tr>\n",
       "    <tr>\n",
       "      <th>3</th>\n",
       "      <td>5250</td>\n",
       "      <td>3</td>\n",
       "      <td>1.000000</td>\n",
       "    </tr>\n",
       "    <tr>\n",
       "      <th>4</th>\n",
       "      <td>5250</td>\n",
       "      <td>4</td>\n",
       "      <td>1.000000</td>\n",
       "    </tr>\n",
       "  </tbody>\n",
       "</table>\n",
       "</div>"
      ],
      "text/plain": [
       "   user id  game id    rating\n",
       "0     5250        0  1.001668\n",
       "1     5250        1  1.049005\n",
       "2     5250        2  1.000000\n",
       "3     5250        3  1.000000\n",
       "4     5250        4  1.000000"
      ]
     },
     "execution_count": 7,
     "metadata": {},
     "output_type": "execute_result"
    }
   ],
   "source": [
    "r_min = ratings['rating'].min()\n",
    "r_max = ratings['rating'].max()\n",
    "a = 1\n",
    "b = 5\n",
    "\n",
    "# Normalize the ratings to range [1, 5] using min-max scaling\n",
    "ratings['rating'] = ratings['rating'].apply(lambda x: a + (b - a) * (x - r_min) / (r_max - r_min))\n",
    "ratings.head()"
   ]
  },
  {
   "cell_type": "code",
   "execution_count": 8,
   "metadata": {},
   "outputs": [],
   "source": [
    "from surprise import Reader, Dataset\n",
    "\n",
    "# Convert ratings dataset to surprise-acceptable format\n",
    "reader = Reader()\n",
    "dataset = Dataset.load_from_df(ratings, reader)\n",
    "\n",
    "# Provide the whole dataset for training\n",
    "data = dataset.build_full_trainset()"
   ]
  },
  {
   "cell_type": "markdown",
   "metadata": {},
   "source": [
    "#### Apply SVD algorithm"
   ]
  },
  {
   "cell_type": "code",
   "execution_count": 9,
   "metadata": {},
   "outputs": [],
   "source": [
    "from surprise import SVDpp\n",
    "\n",
    "# Use SVD++ algorithm on training data\n",
    "algo = SVDpp()\n",
    "algo.fit(data);"
   ]
  },
  {
   "cell_type": "markdown",
   "metadata": {},
   "source": [
    "#### Evaluate the algorithm"
   ]
  },
  {
   "cell_type": "code",
   "execution_count": 10,
   "metadata": {},
   "outputs": [
    {
     "name": "stdout",
     "output_type": "stream",
     "text": [
      "Predictions evaluation:\n",
      "MAE: 0.0151\n",
      "MSE: 0.0030\n",
      "RMSE: 0.0550\n"
     ]
    }
   ],
   "source": [
    "from surprise.accuracy import mae, mse, rmse\n",
    "\n",
    "# Get the predictions for training data\n",
    "test_data = ratings.to_numpy()\n",
    "predictions = algo.test(test_data)\n",
    "\n",
    "print('Predictions evaluation:')\n",
    "print(f'MAE: {mae(predictions, verbose=False):.4f}')\n",
    "print(f'MSE: {mse(predictions, verbose=False):.4f}')\n",
    "print(f'RMSE: {rmse(predictions, verbose=False):.4f}')"
   ]
  },
  {
   "cell_type": "markdown",
   "metadata": {},
   "source": [
    "#### Create recommendations for chosen user"
   ]
  },
  {
   "cell_type": "code",
   "execution_count": 11,
   "metadata": {},
   "outputs": [
    {
     "name": "stdout",
     "output_type": "stream",
     "text": [
      "Chosen user is 17567828\n"
     ]
    }
   ],
   "source": [
    "# Choose a random user to get recommendations\n",
    "user_id = ratings['user id'].sample(random_state=1).squeeze()\n",
    "print('Chosen user is', user_id)"
   ]
  },
  {
   "cell_type": "code",
   "execution_count": 12,
   "metadata": {},
   "outputs": [
    {
     "name": "stdout",
     "output_type": "stream",
     "text": [
      "Number of games: 5155\n",
      "Number of rated games: 144\n",
      "Number of unrated games: 5011\n"
     ]
    }
   ],
   "source": [
    "# A set of all game IDs\n",
    "all_game_ids = set(ratings['game id'])\n",
    "\n",
    "# A set of game IDs rated by the chosen user\n",
    "rated_game_ids = set(ratings.loc[ratings['user id'] == user_id, 'game id'])\n",
    "\n",
    "# A set of game IDs that have not yet been rated by the chosen user\n",
    "unrated_game_ids = all_game_ids - rated_game_ids\n",
    "\n",
    "print('Number of games:', len(all_game_ids))\n",
    "print('Number of rated games:', len(rated_game_ids))\n",
    "print('Number of unrated games:', len(unrated_game_ids))"
   ]
  },
  {
   "cell_type": "code",
   "execution_count": 13,
   "metadata": {},
   "outputs": [],
   "source": [
    "# Construct traning dataset for the chosen user\n",
    "test_user_data = [\n",
    "    [user_id, i, None]\n",
    "    for i in unrated_game_ids\n",
    "]\n",
    "\n",
    "# Get the predictions and sort them to recommend games with the highest predicted rating\n",
    "user_predictions = algo.test(test_user_data)\n",
    "user_predictions.sort(key=lambda x: x.est, reverse=True)"
   ]
  },
  {
   "cell_type": "code",
   "execution_count": 14,
   "metadata": {},
   "outputs": [
    {
     "name": "stdout",
     "output_type": "stream",
     "text": [
      "Recommendations for user 17567828:\n",
      "1: \"Football Manager 2015\" (id 1443) with rating 1.1265\n",
      "2: \"Football Manager 2012\" (id 2176) with rating 1.1233\n",
      "3: \"Football Manager 2013\" (id 1441) with rating 1.1189\n",
      "4: \"Football Manager 2010\" (id 2174) with rating 1.1151\n",
      "5: \"Football Manager 2011\" (id 2175) with rating 1.1149\n",
      "6: \"Football Manager 2014\" (id 1442) with rating 1.1091\n",
      "7: \"FINAL FANTASY XIV A Realm Reborn\" (id 1070) with rating 1.0957\n",
      "8: \"Sam & Max 203 Night of the Raving Dead\" (id 2016) with rating 1.0899\n",
      "9: \"Starbound - Soundtrack\" (id 4482) with rating 1.0852\n",
      "10: \"The Repopulation\" (id 3457) with rating 1.0765\n"
     ]
    }
   ],
   "source": [
    "# Show top 10 game recommendations for the chosen user\n",
    "print(f'Recommendations for user {user_id}:')\n",
    "for i, pred in enumerate(user_predictions[:10], start=1):    \n",
    "    game = next(filter(lambda x: game_ids[x] == pred.iid, game_ids))  # Get the game title by given game ID\n",
    "    print(f'{i}: \"{game}\" (id {pred.iid}) with rating {pred.est:.4f}')"
   ]
  }
 ],
 "metadata": {
  "kernelspec": {
   "display_name": "Python 3 (ipykernel)",
   "language": "python",
   "name": "python3"
  },
  "language_info": {
   "codemirror_mode": {
    "name": "ipython",
    "version": 3
   },
   "file_extension": ".py",
   "mimetype": "text/x-python",
   "name": "python",
   "nbconvert_exporter": "python",
   "pygments_lexer": "ipython3",
   "version": "3.11.5"
  }
 },
 "nbformat": 4,
 "nbformat_minor": 2
}
