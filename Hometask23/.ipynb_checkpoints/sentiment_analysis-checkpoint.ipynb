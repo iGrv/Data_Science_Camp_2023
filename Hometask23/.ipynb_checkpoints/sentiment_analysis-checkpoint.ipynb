{
 "cells": [
  {
   "cell_type": "markdown",
   "metadata": {},
   "source": [
    "<font color = green >\n",
    "\n",
    "## Home task: Sentiment Analysis\n",
    "\n",
    "</font>"
   ]
  },
  {
   "cell_type": "markdown",
   "metadata": {},
   "source": [
    "<font color = green >\n",
    "\n",
    "### Load data \n",
    "\n",
    "</font>\n",
    "\n",
    "[Sentiment Analysis Dataset](https://www.kaggle.com/sonaam1234/sentimentdata)\n",
    "\n",
    "alternative source: \n",
    "<br>\n",
    "[rt-polaritydata](https://github.com/dennybritz/cnn-text-classification-tf/tree/master/data/rt-polaritydata)\n",
    "\n",
    "alternative source: \n",
    "<br>\n",
    "[Movie Review Data](http://www.cs.cornell.edu/people/pabo/movie-review-data)\n",
    "\n",
    "Each line in these two files corresponds to a single snippet (usually containing roughly one single sentence); all snippets are down-cased.  \n",
    "[More info about dataset](https://www.cs.cornell.edu/people/pabo/movie-review-data/rt-polaritydata.README.1.0.txt)\n",
    "\n"
   ]
  },
  {
   "cell_type": "code",
   "execution_count": 62,
   "metadata": {},
   "outputs": [],
   "source": [
    "import os\n",
    "\n",
    "CWD = os.getcwd()  # Current working directory\n",
    "DATA_DIR = os.path.join(CWD, 'data')\n",
    "NEG_FILE = os.path.join(DATA_DIR, 'rt-polarity.neg')\n",
    "POS_FILE = os.path.join(DATA_DIR, 'rt-polarity.pos')"
   ]
  },
  {
   "cell_type": "code",
   "execution_count": 63,
   "metadata": {},
   "outputs": [
    {
     "name": "stdout",
     "output_type": "stream",
     "text": [
      "Length of texts_neg = 5,331\n",
      "\n",
      "1: simplistic , silly and tedious . \n",
      "2: it's so laddish and juvenile , only teenage boys could possibly find it funny . \n",
      "3: exploitative and largely devoid of the depth or sophistication that would make watching such a graphic treatment of the crimes bearable . \n",
      "4: [garbus] discards the potential for pathological study , exhuming instead , the skewed melodrama of the circumstantial situation . \n",
      "5: a visually flashy but narratively opaque and emotionally vapid exercise in style and mystification . \n"
     ]
    }
   ],
   "source": [
    "with open(NEG_FILE, 'r', encoding='utf-8', errors='ignore') as f:  # Some invalid symbols encountered \n",
    "    content = f.read()  \n",
    "texts_neg = content.splitlines()\n",
    "\n",
    "print('Length of texts_neg = {:,}'.format(len(texts_neg)), end='\\n\\n')\n",
    "for i, review in enumerate(texts_neg[:5]):\n",
    "    print(f'{i + 1}:', review)"
   ]
  },
  {
   "cell_type": "code",
   "execution_count": 64,
   "metadata": {},
   "outputs": [
    {
     "name": "stdout",
     "output_type": "stream",
     "text": [
      "Length of texts_pos = 5,331\n",
      "\n",
      "1: the rock is destined to be the 21st century's new \" conan \" and that he's going to make a splash even greater than arnold schwarzenegger , jean-claud van damme or steven segal . \n",
      "2: the gorgeously elaborate continuation of \" the lord of the rings \" trilogy is so huge that a column of words cannot adequately describe co-writer/director peter jackson's expanded vision of j . r . r . tolkien's middle-earth . \n",
      "3: effective but too-tepid biopic\n",
      "4: if you sometimes like to go to the movies to have fun , wasabi is a good place to start . \n",
      "5: emerges as something rare , an issue movie that's so honest and keenly observed that it doesn't feel like one . \n"
     ]
    }
   ],
   "source": [
    "with open(POS_FILE, 'r', encoding='utf-8', errors='ignore') as f:\n",
    "    content = f.read()\n",
    "texts_pos = content.splitlines()\n",
    "\n",
    "print('Length of texts_pos = {:,}'.format(len(texts_pos)), end='\\n\\n')\n",
    "for i, review in enumerate(texts_pos[:5]):\n",
    "    print(f'{i + 1}:', review)"
   ]
  },
  {
   "cell_type": "code",
   "execution_count": 65,
   "metadata": {},
   "outputs": [],
   "source": [
    "import nltk\n",
    "from nltk.tokenize import word_tokenize\n",
    "from nltk.corpus import stopwords"
   ]
  },
  {
   "cell_type": "code",
   "execution_count": 66,
   "metadata": {},
   "outputs": [
    {
     "data": {
      "text/plain": [
       "True"
      ]
     },
     "execution_count": 66,
     "metadata": {},
     "output_type": "execute_result"
    }
   ],
   "source": [
    "nltk.download('stopwords', quiet=True)"
   ]
  },
  {
   "cell_type": "code",
   "execution_count": 67,
   "metadata": {},
   "outputs": [],
   "source": [
    "STOPWORDS = set(stopwords.words('english'))\n",
    "\n",
    "def preprocess(text):\n",
    "    '''\n",
    "    Performs preprocessing of `text` and return a list of its words\n",
    "    containing at least one alphabetic character and being not stop words\n",
    "    :param text: text to preprocess\n",
    "    :type text: str\n",
    "    :return: a list of words from `text`\n",
    "    :rtype: list[str]\n",
    "    '''\n",
    "    return [\n",
    "        word for word in word_tokenize(text)\n",
    "        if any(c.isalpha() for c in word) and word not in STOPWORDS\n",
    "    ]\n",
    "\n",
    "# Prepocess negative and positive reviews to get all tokens\n",
    "all_tokens = []\n",
    "for text in (texts_neg + texts_pos):\n",
    "    all_tokens.extend(preprocess(text))"
   ]
  },
  {
   "cell_type": "code",
   "execution_count": 68,
   "metadata": {},
   "outputs": [
    {
     "name": "stdout",
     "output_type": "stream",
     "text": [
      "Top 10 most common words in reviews: (\"'s\", 'film', 'movie', \"n't\", 'one', 'like', 'story', 'much', 'even', 'good')\n"
     ]
    }
   ],
   "source": [
    "from nltk import FreqDist\n",
    "\n",
    "# Create a list containg tokens sorted by their frequency in reviews\n",
    "vocab = FreqDist(all_tokens)\n",
    "most_common_words, _ = zip(*vocab.most_common())\n",
    "print(f'Top 10 most common words in reviews: {most_common_words[:10]}')"
   ]
  },
  {
   "cell_type": "code",
   "execution_count": 69,
   "metadata": {},
   "outputs": [
    {
     "name": "stdout",
     "output_type": "stream",
     "text": [
      "Format of text_data (featureset):\n",
      "({\"'s\": False, 'film': False, 'movie': False, \"n't\": False, 'one': False, 'like': False, 'story': False, 'much': False, 'even': False, 'good': False, 'comedy': False, 'time': False, 'characters': False, 'little': False, 'way': False, 'funny': False, 'make': False, 'enough': False, 'never': False, 'director': False, 'makes': False, 'would': False, 'may': False, 'us': False, 'work': False, 'best': False, 'bad': False, 'life': False, 'love': False, 'could': False, 'movies': False, 'well': False, 'new': False, 'something': False, 'really': False, 'made': False, 'performances': False, 'plot': False, 'many': False, 'drama': False, 'films': False, 'see': False, 'look': False, 'still': False, 'every': False, 'two': False, 'people': False, 'nothing': False, \"'re\": False, 'better': False, 'long': False, 'without': False, 'fun': False, 'get': False, 'action': False, 'great': False, 'though': False, 'might': False, 'big': False, 'also': False, 'character': False, 'audience': False, 'another': False, 'cast': False, 'script': False, 'first': False, 'kind': False, 'humor': False, 'sense': False, 'world': False, 'ever': False, 'performance': False, 'feels': False, 'thing': False, 'far': False, 'often': False, 'seems': False, 'less': False, 'minutes': False, 'real': False, 'picture': False, 'feel': False, 'thriller': False, 'almost': False, 'tale': False, 'ca': False, 'quite': False, 'documentary': False, 'yet': False, 'interesting': False, \"'ve\": False, \"'ll\": False, 'entertaining': False, 'rather': False, 'man': False, 'hollywood': False, 'screen': False, 'end': False, 'watching': False, 'take': False, 'seen': False, 'full': False, 'go': False, 'de': False, 'ultimately': False, 'hard': False, 'heart': False, 'comes': False, 'romantic': False, 'moments': False, 'despite': False, 'lot': False, 'american': False, 'family': False, 'year': False, 'original': False, 'acting': False, 'old': False, 'find': False, 'right': False, 'worth': False, 'gets': False, 'human': False, 'takes': False, 'come': False, 'times': False, 'actors': False, 'things': False, 'dialogue': False, 'scenes': False, 'back': False, 'watch': False, 'material': False, 'compelling': False, 'young': False, 'music': False, 'anyone': False, 'works': False, 'years': False, 'think': False, 'kids': False, 'seem': False, 'want': False, 'emotional': False, 'least': False, 'cinema': False, 'gives': False, 'know': False, 'going': False, 'part': False, 'say': False, 'sometimes': False, 'piece': False, 'subject': False, 'cinematic': False, 'entertainment': False, 'give': False, 'last': False, 'pretty': False, 'point': False, 'special': False, 'making': False, 'bit': False, 'keep': False, 'fans': False, 'dull': False, 'whole': False, 'away': False, 'together': False, 'fascinating': False, 'anything': False, 'need': False, 'show': False, 'style': False, 'moving': False, 'since': False, 'true': False, 'manages': False, 'star': False, 'laughs': False, 'women': False, 'offers': False, 'history': False, 'sweet': False, 'experience': False, 'clever': False, 'always': False, 'high': False, 'direction': False, 'simply': False, 'mr': False, 'silly': True, 'instead': False, 'everything': False, 'predictable': False, 'dark': False, 'care': False, 'actually': False, 'title': False, 'series': False, 'charm': False, 'whose': False, 'nearly': False, 'visual': False, 'flick': False, 'art': False, 'around': False, 'filmmakers': False, 'matter': False, 'place': False, 'video': False, 'comic': False, 'screenplay': False, 'narrative': False, 'idea': False, 'war': False, 'goes': False, 'genre': False, 'short': False, 'trying': False, 'done': False, \"'d\": False, 'probably': False, 'plays': False, 'premise': False, 'three': False, 'familiar': False, 'children': False, 'turns': False, 'enjoyable': False, 'horror': False, 'engaging': False, 'set': False, 'becomes': False, 'although': False, 'effects': False, 'lacks': False, 'home': False, 'wo': False, 'especially': False, 'feature': False, 'worst': False, 'feeling': False, 'smart': False, 'power': False, 'enjoy': False, 'study': False, 'effort': False, 'intelligent': False, 'charming': False, 'day': False, 'half': False, 'amusing': False, 'ending': False, 'strong': False, 'lack': False, 'theater': False, 'romance': False, 'likely': False, 'boring': False, 'debut': False, 'john': False, 'men': False, 'mostly': False, 'version': False, 'portrait': False, 'put': False, 'sort': False, 'mind': False, 'certainly': False, 'else': False, 'filmmaker': False, 'beautiful': False, 'become': False, 'easy': False, 'looking': False, 'message': False, 'next': False, 'beautifully': False, 'wit': False, 'level': False, 'surprisingly': False, 'everyone': False, 'solid': False, 'exercise': False, 'along': False, 'problem': False, 'quirky': False, 'rare': False, 'play': False, 'fine': False, 'hours': False, 'lives': False, 'actor': False, 'mess': False, 'viewers': False, 'leave': False, 'fresh': False, 'looks': False, 'sure': False, 'directed': False, 'ideas': False, 'whether': False, 'face': False, 'obvious': False, 'either': False, 'interest': False, 'completely': False, 'modern': False, 'energy': False, 'french': False, 'past': False, 'powerful': False, 'melodrama': False, 'culture': False, 'fact': False, 'reason': False, 'dramatic': False, \"'m\": False, 'neither': False, 'classic': False, 'beyond': False, 'shot': False, 'filmmaking': False, 'shows': False, 'recent': False, 'fails': False, 'suspense': False, 'stuff': False, 'tone': False, 'delivers': False, 'tv': False, 'believe': False, 'book': False, 'slow': False, 'left': False, 'intriguing': False, 'truly': False, 'deeply': False, 'tries': False, 'serious': False, 'death': False, 'ride': False, 'jokes': False, 'ends': False, 'opera': False, 'production': False, 'black': False, 'summer': False, 'spirit': False, 'girl': False, 'reality': False, 'project': False, 'light': False, 'occasionally': False, 'adventure': False, 'small': False, 'dumb': False, 'touching': False, 'audiences': False, 'sad': False, 'woman': False, 'remains': False, 'terrific': False, 'exactly': False, 'hilarious': False, 'formula': False, 'storytelling': False, 'got': False, 'satisfying': False, 'role': False, 'camera': False, 'passion': False, 'proves': False, 'already': False, 'impossible': False, 'seeing': False, 'line': False, 'different': False, 'talent': False, 'images': False, 'must': False, 'stories': False, 'scene': False, 'attempt': False, 'sex': False, 'perfect': False, 'gags': False, 'personal': False, 'easily': False, 'particularly': False, 'journey': False, 'simple': False, 'honest': False, 'pretentious': False, 'turn': False, 'complex': False, 'disney': False, 'hour': False, 'animation': False, 'given': False, 'pleasure': False, 'psychological': False, 'close': False, 'visually': False, 'falls': False, 'flat': False, 'earnest': False, 'found': False, 'intelligence': False, 'case': False, 'difficult': False, 'ways': False, 'michael': False, 'political': False, 'getting': False, 'leaves': False, 'thought': False, 'head': False, 'sequel': False, 'boy': False, 'social': False, 'mystery': False, 'coming-of-age': False, 'cliches': False, 'none': False, 'que': False, 'memorable': False, 'game': False, 'novel': False, 'tell': False, 'violence': False, 'written': False, 'crime': False, 'live': False, 'writing': False, 'uses': False, 'satire': False, 'laugh': False, 'rich': False, 'job': False, 'side': False, 'told': False, 'finally': False, 'overall': False, 'gone': False, 'wrong': False, 'keeps': False, 'brilliant': False, 'help': False, 'lost': False, 'viewer': False, 'barely': False, 'cold': False, 'needs': False, 'guys': False, 'rarely': False, 'acted': False, 'spy': False, 'hero': False, 'otherwise': False, 'elements': False, 'second': False, 'days': False, 'contrived': False, 'cool': False, 'entirely': False, 'lead': False, 'imagine': False, 'final': False, 'taste': False, 'appeal': False, 'approach': False, 'wild': False, 'starts': False, 'several': False, 'nature': False, 'warm': False, 'possible': False, 'thoughtful': False, 'concept': False, 'mood': False, 'others': False, 'surprising': False, 'insight': False, 'fairly': False, 'running': False, 'creepy': False, 'moral': False, 'tragedy': False, 'act': False, 'excellent': False, 'perhaps': False, 'soap': False, 'rock': False, 'david': False, 'eyes': False, 'wonderful': False, 'form': False, 'truth': False, 'tedious': True, 'moment': False, 'result': False, 'expect': False, 'behind': False, 'thoroughly': False, 'among': False, 'entire': False, 'remarkable': False, 'teen': False, 'comedies': False, 'imagination': False, 'adults': False, 'quality': False, 'sci-fi': False, 'parents': False, 'call': False, 'attention': False, 'adaptation': False, 'bring': False, 'engrossing': False, 'emotionally': False, 'remake': False, 'start': False, 'sharp': False, 'maybe': False, 'bland': False, 'perfectly': False, 'four': False, 'tired': False, 'writer-director': False, 'animated': False, 'usual': False, 'add': False, 'gorgeous': False, 'hope': False, 'genuine': False, 'latest': False, 'period': False, 'change': False, 'witty': False, 'la': False, 'nice': False, 'knows': False, 'future': False, 'quiet': False, 'merely': False, 'strange': False, 'epic': False, 'vision': False, 'depth': False, 'points': False, 'someone': False, 'ii': False, 'worse': False, 'offer': False, 'plenty': False, 'dead': False, 'gentle': False, 'taking': False, 'somewhat': False, 'appealing': False, 'begins': False, 'events': False, 'effective': False, 'thanks': False, 'impressive': False, 'deep': False, 'beauty': False, 'wonder': False, 'worthy': False, 'unfortunately': False, 'guy': False, 'stupid': False, 'hit': False, 'decent': False, 'surprise': False, 'pictures': False, 'provides': False, 'however': False, 'sit': False, 'try': False, 'awful': False, 'ambitious': False, 'age': False, 'clear': False, 'definitely': False, 'emotions': False, 'lots': False, 'fantasy': False, 'straight': False, 'pure': False, 'career': False, 'air': False, 'important': False, 'captures': False, 'execution': False, 'exciting': False, 'sound': False, 'subtle': False, 'robert': False, 'suffers': False, 'view': False, 'able': False, 'highly': False, 'throughout': False, 'inside': False, 'run': False, 'scary': False, 'sequences': False, 'thin': False, 'utterly': False, 'historical': False, 'pace': False, 'city': False, 'welcome': False, 'grant': False, 'ugly': False, 'school': False, 'fire': False, 'america': False, 'magic': False, 'brings': False, 'ensemble': False, 'process': False, 'examination': False, 'coming': False, 'alone': False, 'certain': False, 'deserves': False, 'read': False, 'based': False, 'cheap': False, 'cartoon': False, 'memory': False, 'provocative': False, 'allen': False, 'sustain': False, 'lovely': False, 'sexual': False, 'artist': False, 'female': False, 'creative': False, 'relationship': False, 'potential': False, 'master': False, 'except': False, 'middle': False, 'chemistry': False, 'working': False, 'touch': False, 'low': False, 'quickly': False, 'impact': False, 'major': False, 'words': False, 'across': False, 'wants': False, 'let': False, 'used': False, 'deal': False, 'hand': False, 'question': False, 'playing': False, 'williams': False, 'felt': False, 'cute': False, 'single': False, 'tension': False, 'bond': False, 'use': False, 'delightful': False, 'poignant': False, 'upon': False, 'creates': False, 'flaws': False, 'situation': False, 'sentimental': False, 'cultural': False, 'rest': False, 'mediocre': False, 'stand': False, 'odd': False, 'e': False, 'puts': False, 'unfunny': False, 'loud': False, 'waste': False, 'force': False, 'hell': False, 'taken': False, 'spielberg': False, 'winning': False, 'era': False, 'yes': False, 'actress': False, 'generic': False, 'sensitive': False, 'lacking': False, 'success': False, 'unsettling': False, 'murder': False, 'unexpected': False, 'filled': False, 'talented': False, 'flawed': False, 'niro': False, 'convincing': False, 'ability': False, 'issues': False, 'sincere': False, 'hardly': False, 'watchable': False, 'previous': False, 'country': False, 'weird': False, 'cut': False, 'house': False, 'ultimate': False, 'dog': False, 'heavy': False, 'class': False, 'giving': False, 'george': False, 'casting': False, 'leads': False, 'slight': False, 'hold': False, 'remember': False, 'mildly': False, 'formulaic': False, 'extremely': False, 'saw': False, 'apart': False, 'ago': False, 'couple': False, 'supposed': False, 'eye': False, 'routine': False, 'surprises': False, 'crush': False, 'seriously': False, 'reveals': False, 'mark': False, 'slightly': False, 'jackson': False, 'college': False, 'melodramatic': False, 'create': False, 'relationships': False, 'largely': False, 'attempts': False, 'problems': False, 'involved': False, 'five': False, 'joke': False, 'contemporary': False, 'thinking': False, 'trouble': False, 'course': False, 'money': False, 'york': False, 'date': False, 'fully': False, 'amount': False, 'finds': False, 'uneven': False, 'road': False, 'girls': False, 'terms': False, 'plain': False, 'indeed': False, 'crazy': False, 'water': False, 'steven': False, 'focus': False, 'living': False, 'thrills': False, 'forgettable': False, 'sets': False, 'twists': False, 'pop': False, 'grace': False, 'pleasant': False, 'episode': False, 'stars': False, 'mix': False, 'ones': False, 'ms': False, 'tragic': False, 'pacing': False, 'extreme': False, 'stylish': False, 'old-fashioned': False, 'writer': False, 'treat': False, 'succeeds': False, 'gripping': False, 'inventive': False, 'intimate': False, 'boys': False, 'unique': False, 'themes': False, 'badly': False, 'meditation': False, 'complete': False, 'soundtrack': False, 'goofy': False, 'substance': False, 'drag': False, 'es': False, 'promise': False, 'poetry': False, 'involving': False, 'runs': False, 'company': False, 'monster': False, 'happens': False, 'business': False, 'heaven': False, 'painful': False, 'flicks': False, 'white': False, 'successful': False, 'recommend': False, 'considerable': False, 'presents': False, 'absolutely': False, 'appears': False, 'friendship': False, 'colorful': False, 'missing': False, 'called': False, 'masterpiece': False, 'disturbing': False, 'happy': False, 'typical': False, 'clichs': False, 'forced': False, 'wanted': False, 'forget': False, 'evil': False, 'effect': False, 'sandler': False, 'interested': False, 'target': False, 'share': False, 'franchise': False, 'terrible': False, 'viewing': False, 'green': False, 'oscar': False, 'murphy': False, 'strangely': False, 'word': False, 'situations': False, 'equally': False, 'mean': False, 'general': False, 'parts': False, 'gay': False, 'loses': False, 'british': False, 'tom': False, 'kid': False, 'bizarre': False, 'pieces': False, 'person': False, 'blend': False, 'urban': False, 'politics': False, 'somehow': False, 'bright': False, 'manner': False, 'hits': False, 'played': False, 'triumph': False, 'absorbing': False, 'soul': False, 'sentimentality': False, 'originality': False, 'skin': False, 'imax': False, 'refreshing': False, 'somewhere': False, 'name': False, 'said': False, 'please': False, 'report': False, 'questions': False, 'battle': False, 'lame': False, 'well-acted': False, 'el': False, 'derivative': False, 'wedding': False, 'crafted': False, 'doubt': False, 'eventually': False, 'twist': False, 'standard': False, 'television': False, 'understand': False, 'sophisticated': False, 'conflict': False, 'night': False, 'tells': False, 'setting': False, 'today': False, 'depressing': False, 'average': False, 'miss': False, 'whatever': False, 'poor': False, 'sexy': False, 'soderbergh': False, 'frame': False, 'virtually': False, 'hate': False, 'liked': False, 'means': False, 'central': False, 'dry': False, 'stunning': False, 'painfully': False, 'fast': False, 'fan': False, 'created': False, 'dream': False, 'energetic': False, 'alive': False, 'obviously': False, 'loss': False, 'fare': False, 'haunting': False, 'grief': False, 'possibly': False, 'room': False, 'footage': False, 'deliver': False, 'finish': False, 'match': False, 'bears': False, 'faith': False, 'heavy-handed': False, 'brain': False, 'sitting': False, 'huge': False, 'una': False, 'red': False, 'fat': False, 'parker': False, 'holds': False, 'toward': False, 'inspired': False, 'opportunity': False, 'atmosphere': False, 'peter': False, 'worthwhile': False, 'genuinely': False, 'price': False, 'moore': False, 'sea': False, 'weak': False, 'japanese': False, 'blue': False, 'generation': False, 'allows': False, 'superficial': False, 'unlike': False, 'generally': False, 'edge': False, 'break': False, 'remarkably': False, 'thought-provoking': False, 'x': False, 'clearly': False, 'humanity': False, 'essentially': False, 'excitement': False, 'slapstick': False, 'fiction': False, 'lines': False, 'lets': False, 'amazing': False, 'popcorn': False, 'treasure': False, 'tough': False, 'insightful': False, 'imaginative': False, 'screenwriter': False, 'vivid': False, 'conventional': False, 'refreshingly': False, 'places': False, 'affecting': False, 'warmth': False, 'riveting': False, 'simplistic': True, 'treatment': False, 'sports': False, 'crowd': False, 'shallow': False, 'trip': False, 'large': False, 'pay': False, 'queen': False, 'ice': False, 'filmed': False, 'solondz': False, 'affair': False, 'core': False, 'powers': False, 'wildly': False, 'believable': False, 'balance': False, 'jones': False, 'martin': False, 'usually': False, 'brown': False, 'needed': False, 'damned': False, 'wait': False, 'wish': False, 'guilty': False, 'fit': False, 'purpose': False, 'chan': False, 'bullock': False, 'car': False, 'spectacle': False, 'particular': False, 'aside': False, 'mindless': False, 'lazy': False, 'god': False, 'slice': False, 'within': False, 'unusual': False, 'wife': False, 'charisma': False, 'equivalent': False, 'efforts': False, 'heartfelt': False, 'minor': False, 'intended': False, 'delicate': False, 'devoid': False, 'stale': False, 'vehicle': False, 'party': False, 'revenge': False, 'editing': False, 'spiritual': False, 'empty': False, 'hoffman': False, 'festival': False, 'directors': False, 'space': False, 'telling': False, 'value': False, 'mesmerizing': False, 'sequence': False, 'offering': False, 'fear': False, 'talk': False, 'century': False, 'spectacular': False, 'longer': False, 'poorly': False, 'combination': False, 'ridiculous': False, 'score': False, 'promising': False, 'motion': False, 'theme': False, 'sum': False, 'directorial': False, 'subjects': False, 'decades': False, 'universal': False, 'gangster': False, 'sounds': False, 'b': False, 'detail': False, 'open': False, 'funnier': False, 'figure': False, 'greatest': False, 'meaning': False, 'dreams': False, 'indie': False, 'provide': False, 'stay': False, 'skill': False, 'credits': False, 'quietly': False, 'fashion': False, 'extraordinary': False, 'deeper': False, 'exhilarating': False, 'natural': False, 'deftly': False, 'delight': False, 'son': False, 'realistic': False, 'crimes': False, 'count': False, 'numbers': False, 'farce': False, 'results': False, 'poetic': False, 'seagal': False, 'shots': False, 'roger': False, 'studio': False, 'desire': False, 'pointless': False, 'oddly': False, 'j': False, 'credit': False, 'members': False, 'avoid': False, 'chase': False, 'move': False, 'behavior': False, 'win': False, 'stunts': False, 'kevin': False, 'affection': False, 'dreary': False, 'reading': False, 'strength': False, 'society': False, 'cinematography': False, 'turned': False, 'free': False, 'repetitive': False, 'consider': False, 'justice': False, 'visuals': False, 'expected': False, 'public': False, 'sight': False, 'irritating': False, 'paced': False, 'endearing': False, 'talking': False, 'achieves': False, 'release': False, 'disguise': False, 'blade': False, 'represents': False, 'number': False, 'striking': False, 'holes': False, 'king': False, 'manipulative': False, 'identity': False, 'frequently': False, 'profound': False, 'exploration': False, 'complicated': False, 'daring': False, 'awkward': False, 'values': False, 'child': False, 'performers': False, 'jason': False, 'shame': False, 'diverting': False, 'surface': False, 'overly': False, 'attraction': False, 'development': False, 'gross-out': False, 'lee': False, 'intense': False, 'stage': False, 'constructed': False, 'accessible': False, 'james': False, 'group': False, 'pleasures': False, 'perspective': False, 'prove': False, 'ages': False, 'gem': False, 'frustrating': False, 'courage': False, 'top': False, 'reno': False, 'annoying': False, 'trifle': False, 'buy': False, 'tiresome': False, 'failure': False, 'waiting': False, 'happen': False, 'tribute': False, 'produced': False, 'adam': False, 'clumsy': False, 'offensive': False, 'incredibly': False, 'shake': False, 'intentions': False, 'ground': False, 'predecessor': False, 'beat': False, 'voice': False, 'yarn': False, 'machine': False, 'save': False, 'wise': False, 'struggle': False, 'using': False, 'hackneyed': False, 'emerges': False, 'ryan': False, 'presence': False, 'glimpse': False, 'walk': False, 'killer': False, 'weight': False, 'friday': False, 'designed': False, 'songs': False, 'delivered': False, 'monty': False, 'adult': False, 'giant': False, 'hot': False, 'friends': False, 'davis': False, 'ghost': False, 'blood': False, 'nowhere': False, 'concerned': False, 'enjoyed': False, 'levels': False, 'thinks': False, 'body': False, 'musical': False, 'main': False, 'fears': False, 'overcome': False, 'bits': False, 'hill': False, 'commercial': False, 'damn': False, 'scorsese': False, 'admirable': False, 'return': False, 'fall': False, 'necessary': False, 'unless': False, 'nicely': False, 'moviemaking': False, 'stands': False, 'games': False, 'chilling': False, 'intrigue': False, 'nonsense': False, 'structure': False, 'brothers': False, 'example': False, 'del': False, 'follow': False, 'folks': False, 'artistic': False, 'imagery': False, 'list': False, 'raw': False, 'determined': False, 'ring': False, 'community': False, 'beneath': False, 'serves': False, 'kaufman': False, 'um': False, 'pulls': False, 'loved': False, 'chance': False, 'marks': False, 'challenging': False, 'stock': False, 'excuse': False, 'vs': False, 'desperate': False, 'reach': False, 'deserve': False, 'present': False, 'standards': False, 'humorous': False, 'team': False, 'budget': False, 'eight': False, 'twice': False, 'funniest': False, 'mike': False, 'mainstream': False, 'sheer': False, 'showtime': False, 'sappy': False, 'sitcom': False, 'b-movie': False, 'seat': False, 'winds': False, 'meandering': False, 'type': False, 'spend': False, 'cause': False, 'first-time': False, 'source': False, 'lawrence': False, 'flair': False, 'talents': False, 'unpleasant': False, 'emotion': False, 'comedic': False, 'grows': False, 'woody': False, 'national': False, 'adolescent': False, 'fair': False, 'superior': False, 'hip-hop': False, 'un': False, 'apparently': False, 'maudlin': False, 'bore': False, 'authentic': False, 'madonna': False, 'inspiring': False, 'favor': False, 'delivery': False, 'bunch': False, 'dance': False, 'sade': False, 'chris': False, 'well-made': False, 'search': False, \"'the\": False, 'damage': False, 'overwrought': False, 'surely': False, 'industry': False, 'precious': False, 'violent': False, 'moviegoers': False, 'benigni': False, 'storyline': False, 'modest': False, 'realism': False, 'document': False, 'burns': False, 'arnold': False, 'early': False, 'broad': False, 'accomplished': False, 'protagonist': False, 'disappointing': False, 'chinese': False, 'creating': False, 'outrageous': False, 'dazzling': False, 'directing': False, 'matters': False, 'miller': False, 'mother': False, 'vibrant': False, 'writer/director': False, 'grand': False, 'scenario': False, 'band': False, 'roles': False, 'land': False, 'digital': False, 'bittersweet': False, 'wry': False, 'father': False, 'tender': False, 'wonderfully': False, 'served': False, 'relatively': False, 'worked': False, 'lies': False, 'starring': False, 'common': False, 'product': False, 'cynical': False, 'sloppy': False, 'pass': False, 'conclusion': False, 'hey': False, 'barry': False, 'frank': False, 'glass': False, 'holiday': False, 'respect': False, 'makers': False, 'thrilling': False, 'escape': False, 'foreign': False, 'greek': False, 'growing': False, 'territory': False, 'soon': False, 'sign': False, 'harvard': False, 'wears': False, 'secrets': False, 'empathy': False, 'pain': False, 'feel-good': False, 'mention': False, 'mild': False, 'plotting': False, 'disaster': False, 'die': False, 'fable': False, 'woo': False, 'joy': False, 'roll': False, 'confusing': False, 'mayhem': False, 'self-indulgent': False, 'cliche': False, 'mile': False, 'pokemon': False, 'mistake': False, 'male': False, 'notion': False, 'increasingly': False, 'featuring': False, 'stays': False, 'morality': False, 'late': False, 'dangerous': False, 'philosophical': False, 'unfolds': False, 'features': False, 'zone': False, 'broomfield': False, 'trick': False, 'forgotten': False, 'choices': False, 'showing': False, 'personality': False, 'romp': False, 'lesson': False, 'paid': False, 'fight': False, 'beginning': False, 'song': False, 'retread': False, 'reasonably': False, 'howard': False, 'aspects': False, 'teacher': False, 'check': False, 'slick': False, 'low-budget': False, 'metaphor': False, 'xxx': False, 'experiences': False, 'gritty': False, 'cautionary': False, 'moves': False, 'surreal': False, 'frida': False, 'addition': False, 'state': False, 'godard': False, 'faithful': False, 'becoming': False, 'eccentric': False, 'compassion': False, 'carries': False, 'harmless': False, 'reign': False, 'consistently': False, 'angst': False, 'depiction': False, 'including': False, 'cho': False, 'italian': False, 'near': False, 'revolution': False, 'complexity': False, 'fantastic': False, 'brought': False, 'polanski': False, 'playful': False, 'lively': False, 'vividly': False, 'heartwarming': False, 'collection': False, 'unlikely': False, 'rises': False, 'over-the-top': False, 'amateurish': False, 'brutal': False, 'ordinary': False, 'pity': False, 'banal': False, 'sick': False, 'took': False, 'biggest': False, 'older': False, 'punch': False, 'brother': False, 'rhythms': False, 'laughter': False, 'mixed': False, 'iranian': False, 'plodding': False, 'resonance': False, 'pull': False, 'vampire': False, 'van': False, 'wasted': False, 'capable': False, 'acts': False, 'cheesy': False, 'sequels': False, 'vulgar': False, 'demands': False, 'speaking': False, 'stuck': False, 'cloying': False, 'leaving': False, 'suspenseful': False, 'clich': False, 'desperately': False, 'intellectual': False, 'austin': False, 'front': False, 'ludicrous': False, 'spoof': False, 'snow': False, 'spark': False, 'downright': False, 'christmas': False, 'likable': False, 'appreciate': False, 'potentially': False, 'length': False, 'willing': False, 'em': False, 'fisher': False, 'creativity': False, 'asks': False, 'shyamalan': False, 'horrible': False, 'logic': False, 'opening': False, 'totally': False, 'conviction': False, 'details': False, 'technical': False, 'drawn': False, 'teens': False, 'south': False, 'stomach': False, 'families': False, 'constantly': False, 'sympathy': False, 'belongs': False, 'dragon': False, 'step': False, 'real-life': False, 'literally': False, 'strictly': False, 'persona': False, 'pinocchio': False, 'center': False, 'paul': False, 'caper': False, 'visceral': False, 'captivating': False, 'went': False, 'utter': False, 'preposterous': False, 'following': False, 'sides': False, 'science': False, 'revealing': False, 'bored': False, 'marriage': False, 'stirring': False, 'nasty': False, 'due': False, 'intensity': False, 'patience': False, 'messages': False, 'assured': False, 'manage': False, 'event': False, 'safe': False, 'literary': False, 'washington': False, 'capture': False, 'hearts': False, 'spooky': False, 'elegant': False, 'low-key': False, 'kissinger': False, 'finding': False, 'martha': False, 'resonant': False, 'detailed': False, 'spare': False, 'polished': False, 'teenage': False, 'flashy': False, 'loose': False, 'screenwriting': False, 'commentary': False, 'homage': False, 'catch': False, 'spent': False, 'quest': False, 'understanding': False, 'entertain': False, 'camp': False, 'expectations': False, 'ask': False, 'memories': False, 'fly': False, 'actresses': False, 'sentiment': False, 'skip': False, 'bag': False, 'offbeat': False, 'touches': False, 'realize': False, 'wow': False, 'poignancy': False, 'trek': False, 'trite': False, 'realized': False, 'lousy': False, 'knowing': False, 'content': False, 'finale': False, 'inept': False, 'predictably': False, 'rent': False, 'clarity': False, 'pathetic': False, 'park': False, 'tales': False, 'cult': False, 'basic': False, 'charms': False, 'nostalgia': False, 'hybrid': False, 'preachy': False, 'birthday': False, 'southern': False, 'total': False, 'third': False, 'dealing': False, 'fatal': False, 'predecessors': False, 'sugar': False, 'hip': False, 'lifeless': False, 'issue': False, 'rewarding': False, 'lady': False, 'rap': False, 'released': False, 'reminds': False, 'uninspired': False, 'embarrassment': False, 'self-conscious': False, 'closer': False, 'suggests': False, 'animal': False, 'afraid': False, 'signs': False, 'pretension': False, 'learn': False, 'guns': False, 'mainly': False, 'race': False, 'design': False, 'food': False, 'sadly': False, 'kiss': False, 'grow': False, 'bottom': False, 'bitter': False, 'quick': False, 'timely': False, 'brilliantly': False, 'harry': False, 'costumes': False, 'theaters': False, 'wacky': False, 'slowly': False, 'control': False, 'frontal': False, 'traditional': False, 'wars': False, 'test': False, 'admire': False, 'account': False, 'silliness': False, \"'70s\": False, 'false': False, 'bold': False, 'degree': False, 'onto': False, 'credibility': False, 'shock': False, 'helps': False, 'stereotypes': False, 'bite': False, 'inner': False, 'winner': False, 'observations': False, 'happened': False, 'insights': False, 'outside': False, 'barbershop': False, 'tasty': False, 'blair': False, 'u': False, 'required': False, 'hopkins': False, 'jack': False, 'seemingly': False, 'directs': False, 'packed': False, 'week': False, 'tears': False, 'evocative': False, 'channel': False, 'leigh': False, 'huppert': False, 'artists': False, 'supporting': False, 'subversive': False, 'bigger': False, 'current': False, 'stand-up': False, 'key': False, 'transcends': False, 'honesty': False, 'record': False, 'twisted': False, 'books': False, 'lyrical': False, 'graphic': False, 'notice': False, 'ritchie': False, 'schneider': False, 'parody': False, 'mere': False, 'smile': False, 'incoherent': False, 'achievement': False, 'ambition': False, 'prison': False, 'pat': False, 'after-school': False, 'trapped': False, 'rhythm': False, 'shocking': False, 'appear': False, 'saying': False, 'subtlety': False, 'disappointed': False, 'hook': False, 'unfaithful': False, 'rip-off': False, 'engage': False, 'h': False, 'importance': False, 'vincent': False, 'inspire': False, 'victims': False, 'artificial': False, 'parable': False, 'humour': False, 'crude': False, 'stealing': False, 'drags': False, 'santa': False, 'nightmare': False, 'proceedings': False, 'language': False, 'missed': False, 'tuxedo': False, 'teenagers': False, 'monsters': False, 'impression': False, 'astonishing': False, 'lane': False, 'computer': False, 'context': False, 'saving': False, 'distinctive': False, 'rush': False, 'bother': False, 'pathos': False, 'ingredients': False, 'revelatory': False, 'c': False, 'trappings': False, 'absurd': False, 'hong': False, 'kong': False, 'windtalkers': False, 'holocaust': False, 'kung': False, 'trash': False, 'background': False, 'dramatically': False, 'cliched': False, 'broken': False, 'service': False, 'inoffensive': False, 'hugh': False, 'drugs': False, 'saturday': False, 'meant': False, 'britney': False, 'contains': False, 'friend': False, 'endeavor': False, 'comfort': False, 'heard': False, 'escapism': False, 'filme': False, 'noir': False, 'husband': False, 'seven': False, 'characterizations': False, 'unintentional': False, 'superb': False, 'earlier': False, 'earth': False, 'drive': False, 'innocence': False, 'excess': False, 'turning': False, 'smarter': False, 'stuart': False, 'fill': False, 'uplifting': False, 'season': False, 'string': False, 'secret': False, 'relentless': False, 'apparent': False, 'enterprise': False, 'scores': False, 'herzog': False, 'smug': False, 'curiosity': False, 'committed': False, 'minute': False, 'path': False, 'justify': False, 'americans': False, 'onscreen': False, 'disbelief': False, 'fierce': False, 'devastating': False, 'con': False, 'street': False, 'mixture': False, 'pick': False, 'continues': False, 'menace': False, 'junk': False, 'relies': False, 'effectively': False, 'cuts': False, 'yu': False, 'fate': False, 'whimsy': False, 'news': False, 'distance': False, 'wilde': False, 'competent': False, 'poem': False, 'honestly': False, 'contrivances': False, 'amused': False, 'figures': False, 'undeniably': False, 'somber': False, 'stylized': False, 'finest': False, 'planet': False, 'diversion': False, 'changing': False, 'lived': False, 'held': False, 'hair': False, 'photography': False, 'chaotic': False, 'manhattan': False, 'equal': False, 'witch': False, 'dancing': False, 'nair': False, 'mad': False, 'bringing': False, 'bloody': False, 'answers': False, 'charlie': False, 'adds': False, 'timing': False, 'providing': False, 'spirited': False, 'cruel': False, 'format': False, 'understands': False, 'pianist': False, 'dong': False, 'tsai': False, 'gradually': False, 'terrifying': False, 'startling': False, 'heartbreaking': False, 'jealousy': False, 'tour': False, 'exploitative': False, 'sour': False, 'difference': False, 'analyze': False, 'window': False, 'forgive': False, 'knowledge': False, 'loving': False, 'pile': False, 'stop': False, 'freaks': False, 'matinee': False, 'ballistic': False, 'static': False, 'virtues': False, 'built': False, 'halloween': False, 'hollow': False, 'candy': False, 'office': False, 'overlong': False, 'harris': False, 'en': False, 'obnoxious': False, 'spell': False, 'root': False, 'dahmer': False, 'saga': False, 'remembered': False, 'wondering': False, 'carefully': False, 'limited': False, 'choppy': False, 'feature-length': False, 'building': False, 'smith': False, 'ya-ya': False, 'generate': False, 'wannabe': False, 'vital': False, 'follows': False, 'build': False, 'crap': False, 'connect': False, 'leaden': False, 'unfocused': False, 'handsome': False, 'various': False, 'saccharine': False, 'throws': False, 'inherent': False, 'private': False, 'muddled': False, 'piano': False, 'carvey': False, 'slasher': False, 'misses': False, 'spot': False, 'anywhere': False, 'destination': False, 'pow': False, 'gag': False, 'loves': False, 'nicholas': False, 'critics': False, 'relentlessly': False}, 'neg')\n"
     ]
    }
   ],
   "source": [
    "def word_features(text, n):\n",
    "    '''\n",
    "    Converts a sentence into features accepted by the NLTK classifier\n",
    "    :param text: a sentence\n",
    "    :type text: str\n",
    "    :param n: number of most common words from `most_common_words` to use\n",
    "    :type n: int\n",
    "    :return: a dictionary mapping words from `most_common_words` to bool values:\n",
    "    True if a word containg in `text`, False otherwise (so called featureset)\n",
    "    :rtype: dict[str, bool]\n",
    "    '''\n",
    "    tokens = set(preprocess(text))  # Preprocess the text to get its words (tokens)\n",
    "    return {word: word in tokens for word in most_common_words[:n]}\n",
    "\n",
    "# Conctruct data from negative and positive reviews as featuresets\n",
    "text_data = [\n",
    "    (word_features(text, 2000), 'neg') for text in texts_neg\n",
    "] + [\n",
    "    (word_features(text, 2000), 'pos') for text in texts_pos\n",
    "]\n",
    "\n",
    "print('Format of text_data (featureset):')\n",
    "print(text_data[0])"
   ]
  },
  {
   "cell_type": "code",
   "execution_count": 70,
   "metadata": {},
   "outputs": [
    {
     "name": "stdout",
     "output_type": "stream",
     "text": [
      "Total number of samples: 10662\n",
      "Number of training samples: 8529\n",
      "Number of test samples: 2133\n"
     ]
    }
   ],
   "source": [
    "import random\n",
    "random.seed(0)\n",
    "\n",
    "# Split text_data into training and test sets (80% for training set, 20% for test set)\n",
    "random.shuffle(text_data)\n",
    "threshold = int(0.8 * len(text_data))\n",
    "text_train, text_test = text_data[:threshold], text_data[threshold:]\n",
    "\n",
    "print('Total number of samples:', len(text_data))\n",
    "print('Number of training samples:', len(text_train))\n",
    "print('Number of test samples:', len(text_test))"
   ]
  },
  {
   "cell_type": "code",
   "execution_count": 71,
   "metadata": {},
   "outputs": [
    {
     "name": "stdout",
     "output_type": "stream",
     "text": [
      "Naive Bayes:\n",
      "accuracy: 0.7431\n",
      "\n",
      "Most Informative Features\n",
      "              engrossing = True              pos : neg    =     19.7 : 1.0\n",
      "                    warm = True              pos : neg    =     19.7 : 1.0\n",
      "                 generic = True              neg : pos    =     15.6 : 1.0\n",
      "             examination = True              pos : neg    =     14.4 : 1.0\n",
      "                 routine = True              neg : pos    =     14.3 : 1.0\n",
      "               inventive = True              pos : neg    =     13.7 : 1.0\n",
      "                  boring = True              neg : pos    =     13.0 : 1.0\n",
      "                    flat = True              neg : pos    =     12.6 : 1.0\n",
      "              refreshing = True              pos : neg    =     11.7 : 1.0\n",
      "                mediocre = True              neg : pos    =     11.7 : 1.0\n"
     ]
    }
   ],
   "source": [
    "from nltk import NaiveBayesClassifier\n",
    "from nltk.classify import accuracy as nltk_accuracy\n",
    "\n",
    "# Use Naive Bayes to perform review classification \n",
    "clf_nb = NaiveBayesClassifier.train(text_train)\n",
    "\n",
    "print('Naive Bayes:')\n",
    "print(f'accuracy: {nltk_accuracy(clf_nb, text_test):.4f}', end='\\n\\n')\n",
    "\n",
    "# Find top 10 most informative features (words) from most_common_words\n",
    "clf_nb.show_most_informative_features(10)"
   ]
  },
  {
   "cell_type": "code",
   "execution_count": 72,
   "metadata": {},
   "outputs": [],
   "source": [
    "import warnings\n",
    "warnings.filterwarnings('ignore')"
   ]
  },
  {
   "cell_type": "code",
   "execution_count": 73,
   "metadata": {},
   "outputs": [
    {
     "data": {
      "text/html": [
       "<div>\n",
       "<style scoped>\n",
       "    .dataframe tbody tr th:only-of-type {\n",
       "        vertical-align: middle;\n",
       "    }\n",
       "\n",
       "    .dataframe tbody tr th {\n",
       "        vertical-align: top;\n",
       "    }\n",
       "\n",
       "    .dataframe thead th {\n",
       "        text-align: right;\n",
       "    }\n",
       "</style>\n",
       "<table border=\"1\" class=\"dataframe\">\n",
       "  <thead>\n",
       "    <tr style=\"text-align: right;\">\n",
       "      <th></th>\n",
       "      <th>review</th>\n",
       "      <th>rating</th>\n",
       "    </tr>\n",
       "  </thead>\n",
       "  <tbody>\n",
       "    <tr>\n",
       "      <th>0</th>\n",
       "      <td>simplistic , silly and tedious .</td>\n",
       "      <td>0</td>\n",
       "    </tr>\n",
       "    <tr>\n",
       "      <th>1</th>\n",
       "      <td>it's so laddish and juvenile , only teenage bo...</td>\n",
       "      <td>0</td>\n",
       "    </tr>\n",
       "    <tr>\n",
       "      <th>2</th>\n",
       "      <td>exploitative and largely devoid of the depth o...</td>\n",
       "      <td>0</td>\n",
       "    </tr>\n",
       "    <tr>\n",
       "      <th>3</th>\n",
       "      <td>[garbus] discards the potential for pathologic...</td>\n",
       "      <td>0</td>\n",
       "    </tr>\n",
       "    <tr>\n",
       "      <th>4</th>\n",
       "      <td>a visually flashy but narratively opaque and e...</td>\n",
       "      <td>0</td>\n",
       "    </tr>\n",
       "    <tr>\n",
       "      <th>...</th>\n",
       "      <td>...</td>\n",
       "      <td>...</td>\n",
       "    </tr>\n",
       "    <tr>\n",
       "      <th>10657</th>\n",
       "      <td>both exuberantly romantic and serenely melanch...</td>\n",
       "      <td>1</td>\n",
       "    </tr>\n",
       "    <tr>\n",
       "      <th>10658</th>\n",
       "      <td>mazel tov to a film about a family's joyous li...</td>\n",
       "      <td>1</td>\n",
       "    </tr>\n",
       "    <tr>\n",
       "      <th>10659</th>\n",
       "      <td>standing in the shadows of motown is the best ...</td>\n",
       "      <td>1</td>\n",
       "    </tr>\n",
       "    <tr>\n",
       "      <th>10660</th>\n",
       "      <td>it's nice to see piscopo again after all these...</td>\n",
       "      <td>1</td>\n",
       "    </tr>\n",
       "    <tr>\n",
       "      <th>10661</th>\n",
       "      <td>provides a porthole into that noble , tremblin...</td>\n",
       "      <td>1</td>\n",
       "    </tr>\n",
       "  </tbody>\n",
       "</table>\n",
       "<p>10662 rows × 2 columns</p>\n",
       "</div>"
      ],
      "text/plain": [
       "                                                  review  rating\n",
       "0                      simplistic , silly and tedious .        0\n",
       "1      it's so laddish and juvenile , only teenage bo...       0\n",
       "2      exploitative and largely devoid of the depth o...       0\n",
       "3      [garbus] discards the potential for pathologic...       0\n",
       "4      a visually flashy but narratively opaque and e...       0\n",
       "...                                                  ...     ...\n",
       "10657  both exuberantly romantic and serenely melanch...       1\n",
       "10658  mazel tov to a film about a family's joyous li...       1\n",
       "10659  standing in the shadows of motown is the best ...       1\n",
       "10660  it's nice to see piscopo again after all these...       1\n",
       "10661  provides a porthole into that noble , tremblin...       1\n",
       "\n",
       "[10662 rows x 2 columns]"
      ]
     },
     "execution_count": 73,
     "metadata": {},
     "output_type": "execute_result"
    }
   ],
   "source": [
    "import pandas as pd\n",
    "\n",
    "# Build DataFrame containing reviews and their ratings (0 for negative, 1 for positive) to use with scikit-learn classifiers\n",
    "texts_df = pd.DataFrame({'review': (texts_neg + texts_pos), 'rating': ([0]*len(texts_neg) + [1]*len(texts_pos))})\n",
    "texts_df"
   ]
  },
  {
   "cell_type": "code",
   "execution_count": 74,
   "metadata": {},
   "outputs": [],
   "source": [
    "from sklearn.model_selection import train_test_split\n",
    "\n",
    "# Split texts_df into training (80%) and test (20%) sets\n",
    "X_train, X_test, y_train, y_test = train_test_split(texts_df['review'], texts_df['rating'], train_size=0.8, random_state=0)"
   ]
  },
  {
   "cell_type": "code",
   "execution_count": 75,
   "metadata": {},
   "outputs": [],
   "source": [
    "from sklearn.feature_extraction.text import CountVectorizer\n",
    "\n",
    "# Transform texts into a matrix of word counts using a count vectorizer\n",
    "vectorizer = CountVectorizer(max_features=50000, ngram_range=(1, 2))\n",
    "X_train_vectorized = vectorizer.fit_transform(X_train)\n",
    "X_test_vectorized = vectorizer.transform(X_test)"
   ]
  },
  {
   "cell_type": "code",
   "execution_count": 76,
   "metadata": {},
   "outputs": [
    {
     "name": "stdout",
     "output_type": "stream",
     "text": [
      "Logistic Regression:\n",
      "accuracy: 0.7764\n",
      "F1 score: 0.7827\n",
      "AUC: 0.8566\n"
     ]
    }
   ],
   "source": [
    "from sklearn.linear_model import LogisticRegression\n",
    "from sklearn.metrics import accuracy_score, f1_score, roc_auc_score\n",
    "\n",
    "# Use logistic regression for classification \n",
    "clf_logreg = LogisticRegression(max_iter=3000, random_state=0).fit(X_train_vectorized, y_train)\n",
    "preds = clf_logreg.predict(X_test_vectorized)\n",
    "scores = clf_logreg.decision_function(X_test_vectorized)\n",
    "\n",
    "# Evaluate the logistic regression model\n",
    "print('Logistic Regression:')\n",
    "print(f'accuracy: {accuracy_score(y_test, preds):.4f}')\n",
    "print(f'F1 score: {f1_score(y_test, preds):.4f}')\n",
    "print(f'AUC: {roc_auc_score(y_test, scores):.4f}')"
   ]
  },
  {
   "cell_type": "code",
   "execution_count": 77,
   "metadata": {},
   "outputs": [
    {
     "name": "stdout",
     "output_type": "stream",
     "text": [
      "Top 10 n-grams which have highest among the -coef values (tend to indicate a negative rating):\n",
      "['neither' 'pretentious' 'unfunny' 'bore' 'worst' 'badly' 'too' 'boring'\n",
      " 'bad' 'dull']\n"
     ]
    }
   ],
   "source": [
    "features = vectorizer.get_feature_names_out()\n",
    "coef = clf_logreg.coef_.squeeze()\n",
    "\n",
    "# Find top 10 n-grams indicating a negative review using -coef of the model\n",
    "coef_neg_index = (-coef).argsort()\n",
    "print('Top 10 n-grams which have highest among the -coef values (tend to indicate a negative rating):')\n",
    "print(features[coef_neg_index[-10:]])"
   ]
  },
  {
   "cell_type": "code",
   "execution_count": 78,
   "metadata": {},
   "outputs": [
    {
     "name": "stdout",
     "output_type": "stream",
     "text": [
      "Top 10 n-grams which have highest among the +coef values (tend to indicate a positive rating):\n",
      "['remarkable' 'unexpected' 'engrossing' 'solid' 'works' 'fun' 'hilarious'\n",
      " 'wonderful' 'enjoyable' 'powerful']\n"
     ]
    }
   ],
   "source": [
    "# Find top 10 n-grams indicating a positive review using coef of the model\n",
    "coef_pos_index = coef.argsort()\n",
    "print('Top 10 n-grams which have highest among the +coef values (tend to indicate a positive rating):')\n",
    "print(features[coef_pos_index[-10:]])"
   ]
  },
  {
   "cell_type": "code",
   "execution_count": 79,
   "metadata": {},
   "outputs": [
    {
     "name": "stdout",
     "output_type": "stream",
     "text": [
      "Linear Support Vector Machines:\n",
      "accuracy: 0.7632\n",
      "F1 score: 0.7701\n",
      "AUC: 0.8455\n"
     ]
    }
   ],
   "source": [
    "from sklearn.svm import LinearSVC\n",
    "\n",
    "# Use support vector machines (linear) for classification\n",
    "clf_svm = LinearSVC(max_iter=3000, random_state=0).fit(X_train_vectorized, y_train)\n",
    "preds = clf_svm.predict(X_test_vectorized)\n",
    "scores = clf_svm.decision_function(X_test_vectorized)\n",
    "\n",
    "# Evaluate the SVM model\n",
    "print('Linear Support Vector Machines:')\n",
    "print(f'accuracy: {accuracy_score(y_test, preds):.4f}')\n",
    "print(f'F1 score: {f1_score(y_test, preds):.4f}')\n",
    "print(f'AUC: {roc_auc_score(y_test, scores):.4f}')"
   ]
  },
  {
   "cell_type": "code",
   "execution_count": 80,
   "metadata": {},
   "outputs": [],
   "source": [
    "from sklearn.feature_extraction.text import TfidfVectorizer\n",
    "\n",
    "# Transform texts into a matrix of words' TF-IDF values using a TF-IDF vectorizer\n",
    "vectorizer = TfidfVectorizer(max_features=50000, ngram_range=(1, 2))\n",
    "X_train_vectorized = vectorizer.fit_transform(X_train)\n",
    "X_test_vectorized = vectorizer.transform(X_test)"
   ]
  },
  {
   "cell_type": "code",
   "execution_count": 81,
   "metadata": {},
   "outputs": [
    {
     "name": "stdout",
     "output_type": "stream",
     "text": [
      "Top 10 words which have lowest TF-IDF values: ['unnamed easily' 'they exist' 'well they' 're coming' 'they they'\n",
      " 'unnamed' 'they well' 're they' 're back' 'whatever terror']\n",
      "\n",
      "Top 10 words which have highest TF-IDF values: ['crummy' 'pathetic' 'fantastic' 'bland' 'fun' 'terrible' 'indeed'\n",
      " 'refreshing' 'slummer' 'and']\n"
     ]
    }
   ],
   "source": [
    "features = vectorizer.get_feature_names_out()\n",
    "\n",
    "# Find top 10 words with lowest TF-IDF values and top 10 words with highest TF-IDF values\n",
    "tfidf_index = X_train_vectorized.max(axis=0).toarray().squeeze().argsort()\n",
    "print(f'Top 10 words which have lowest TF-IDF values: {features[tfidf_index[:10]]}', end='\\n\\n')\n",
    "print(f'Top 10 words which have highest TF-IDF values: {features[tfidf_index[-10:]]}')"
   ]
  },
  {
   "cell_type": "code",
   "execution_count": 82,
   "metadata": {},
   "outputs": [
    {
     "name": "stdout",
     "output_type": "stream",
     "text": [
      "Logistic Regression:\n",
      "accuracy: 0.7689\n",
      "F1 score: 0.7774\n",
      "AUC: 0.8511\n"
     ]
    }
   ],
   "source": [
    "# Use logistic regression for classification\n",
    "clf_logreg = LogisticRegression(max_iter=3000, random_state=0).fit(X_train_vectorized, y_train)\n",
    "preds = clf_logreg.predict(X_test_vectorized)\n",
    "scores = clf_logreg.decision_function(X_test_vectorized)\n",
    "\n",
    "# Evaluate the logistic regression model\n",
    "print('Logistic Regression:')\n",
    "print(f'accuracy: {accuracy_score(y_test, preds):.4f}')\n",
    "print(f'F1 score: {f1_score(y_test, preds):.4f}')\n",
    "print(f'AUC: {roc_auc_score(y_test, scores):.4f}')"
   ]
  },
  {
   "cell_type": "code",
   "execution_count": 83,
   "metadata": {},
   "outputs": [
    {
     "name": "stdout",
     "output_type": "stream",
     "text": [
      "Linear Support Vector Machines:\n",
      "accuracy: 0.7886\n",
      "F1 score: 0.7951\n",
      "AUC: 0.8686\n"
     ]
    }
   ],
   "source": [
    "# Use support vector machines (linear) for classification\n",
    "clf_svm = LinearSVC(max_iter=3000, random_state=0).fit(X_train_vectorized, y_train)\n",
    "preds = clf_svm.predict(X_test_vectorized)\n",
    "scores = clf_svm.decision_function(X_test_vectorized)\n",
    "\n",
    "# Evaluate the SVM model\n",
    "print('Linear Support Vector Machines:')\n",
    "print(f'accuracy: {accuracy_score(y_test, preds):.4f}')\n",
    "print(f'F1 score: {f1_score(y_test, preds):.4f}')\n",
    "print(f'AUC: {roc_auc_score(y_test, scores):.4f}')"
   ]
  }
 ],
 "metadata": {
  "kernelspec": {
   "display_name": "Python 3 (ipykernel)",
   "language": "python",
   "name": "python3"
  },
  "language_info": {
   "codemirror_mode": {
    "name": "ipython",
    "version": 3
   },
   "file_extension": ".py",
   "mimetype": "text/x-python",
   "name": "python",
   "nbconvert_exporter": "python",
   "pygments_lexer": "ipython3",
   "version": "3.11.5"
  }
 },
 "nbformat": 4,
 "nbformat_minor": 2
}
