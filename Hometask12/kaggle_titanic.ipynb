{
 "cells": [
  {
   "cell_type": "markdown",
   "metadata": {},
   "source": [
    "# Home task: Kaggle Competition [Titanic - Machine Learning from Disaster](https://www.kaggle.com/c/titanic)"
   ]
  },
  {
   "cell_type": "code",
   "execution_count": 1,
   "metadata": {},
   "outputs": [],
   "source": [
    "import os\n",
    "import numpy as np\n",
    "import pandas as pd\n",
    "import matplotlib.pyplot as plt\n",
    "import seaborn as sns"
   ]
  },
  {
   "cell_type": "code",
   "execution_count": 2,
   "metadata": {},
   "outputs": [],
   "source": [
    "%matplotlib inline"
   ]
  },
  {
   "cell_type": "code",
   "execution_count": 3,
   "metadata": {},
   "outputs": [],
   "source": [
    "CWD = os.getcwd()\n",
    "DATA_DIR = os.path.join(CWD, 'titanic_data')\n",
    "TRAIN_FILE = os.path.join(DATA_DIR, 'train.csv')\n",
    "TEST_FILE = os.path.join(DATA_DIR, 'test.csv')"
   ]
  },
  {
   "cell_type": "markdown",
   "metadata": {},
   "source": [
    "### Exploratory Data Analysis (EDA)"
   ]
  },
  {
   "cell_type": "code",
   "execution_count": 4,
   "metadata": {},
   "outputs": [
    {
     "data": {
      "text/html": [
       "<div>\n",
       "<style scoped>\n",
       "    .dataframe tbody tr th:only-of-type {\n",
       "        vertical-align: middle;\n",
       "    }\n",
       "\n",
       "    .dataframe tbody tr th {\n",
       "        vertical-align: top;\n",
       "    }\n",
       "\n",
       "    .dataframe thead th {\n",
       "        text-align: right;\n",
       "    }\n",
       "</style>\n",
       "<table border=\"1\" class=\"dataframe\">\n",
       "  <thead>\n",
       "    <tr style=\"text-align: right;\">\n",
       "      <th></th>\n",
       "      <th>PassengerId</th>\n",
       "      <th>Survived</th>\n",
       "      <th>Pclass</th>\n",
       "      <th>Name</th>\n",
       "      <th>Sex</th>\n",
       "      <th>Age</th>\n",
       "      <th>SibSp</th>\n",
       "      <th>Parch</th>\n",
       "      <th>Ticket</th>\n",
       "      <th>Fare</th>\n",
       "      <th>Cabin</th>\n",
       "      <th>Embarked</th>\n",
       "    </tr>\n",
       "  </thead>\n",
       "  <tbody>\n",
       "    <tr>\n",
       "      <th>0</th>\n",
       "      <td>1</td>\n",
       "      <td>0</td>\n",
       "      <td>3</td>\n",
       "      <td>Braund, Mr. Owen Harris</td>\n",
       "      <td>male</td>\n",
       "      <td>22.0</td>\n",
       "      <td>1</td>\n",
       "      <td>0</td>\n",
       "      <td>A/5 21171</td>\n",
       "      <td>7.2500</td>\n",
       "      <td>NaN</td>\n",
       "      <td>S</td>\n",
       "    </tr>\n",
       "    <tr>\n",
       "      <th>1</th>\n",
       "      <td>2</td>\n",
       "      <td>1</td>\n",
       "      <td>1</td>\n",
       "      <td>Cumings, Mrs. John Bradley (Florence Briggs Th...</td>\n",
       "      <td>female</td>\n",
       "      <td>38.0</td>\n",
       "      <td>1</td>\n",
       "      <td>0</td>\n",
       "      <td>PC 17599</td>\n",
       "      <td>71.2833</td>\n",
       "      <td>C85</td>\n",
       "      <td>C</td>\n",
       "    </tr>\n",
       "    <tr>\n",
       "      <th>2</th>\n",
       "      <td>3</td>\n",
       "      <td>1</td>\n",
       "      <td>3</td>\n",
       "      <td>Heikkinen, Miss. Laina</td>\n",
       "      <td>female</td>\n",
       "      <td>26.0</td>\n",
       "      <td>0</td>\n",
       "      <td>0</td>\n",
       "      <td>STON/O2. 3101282</td>\n",
       "      <td>7.9250</td>\n",
       "      <td>NaN</td>\n",
       "      <td>S</td>\n",
       "    </tr>\n",
       "    <tr>\n",
       "      <th>3</th>\n",
       "      <td>4</td>\n",
       "      <td>1</td>\n",
       "      <td>1</td>\n",
       "      <td>Futrelle, Mrs. Jacques Heath (Lily May Peel)</td>\n",
       "      <td>female</td>\n",
       "      <td>35.0</td>\n",
       "      <td>1</td>\n",
       "      <td>0</td>\n",
       "      <td>113803</td>\n",
       "      <td>53.1000</td>\n",
       "      <td>C123</td>\n",
       "      <td>S</td>\n",
       "    </tr>\n",
       "    <tr>\n",
       "      <th>4</th>\n",
       "      <td>5</td>\n",
       "      <td>0</td>\n",
       "      <td>3</td>\n",
       "      <td>Allen, Mr. William Henry</td>\n",
       "      <td>male</td>\n",
       "      <td>35.0</td>\n",
       "      <td>0</td>\n",
       "      <td>0</td>\n",
       "      <td>373450</td>\n",
       "      <td>8.0500</td>\n",
       "      <td>NaN</td>\n",
       "      <td>S</td>\n",
       "    </tr>\n",
       "  </tbody>\n",
       "</table>\n",
       "</div>"
      ],
      "text/plain": [
       "   PassengerId  Survived  Pclass  \\\n",
       "0            1         0       3   \n",
       "1            2         1       1   \n",
       "2            3         1       3   \n",
       "3            4         1       1   \n",
       "4            5         0       3   \n",
       "\n",
       "                                                Name     Sex   Age  SibSp  \\\n",
       "0                            Braund, Mr. Owen Harris    male  22.0      1   \n",
       "1  Cumings, Mrs. John Bradley (Florence Briggs Th...  female  38.0      1   \n",
       "2                             Heikkinen, Miss. Laina  female  26.0      0   \n",
       "3       Futrelle, Mrs. Jacques Heath (Lily May Peel)  female  35.0      1   \n",
       "4                           Allen, Mr. William Henry    male  35.0      0   \n",
       "\n",
       "   Parch            Ticket     Fare Cabin Embarked  \n",
       "0      0         A/5 21171   7.2500   NaN        S  \n",
       "1      0          PC 17599  71.2833   C85        C  \n",
       "2      0  STON/O2. 3101282   7.9250   NaN        S  \n",
       "3      0            113803  53.1000  C123        S  \n",
       "4      0            373450   8.0500   NaN        S  "
      ]
     },
     "execution_count": 4,
     "metadata": {},
     "output_type": "execute_result"
    }
   ],
   "source": [
    "# Load train dataset\n",
    "train_data = pd.read_csv(TRAIN_FILE)\n",
    "train_data.head()"
   ]
  },
  {
   "cell_type": "markdown",
   "metadata": {},
   "source": [
    "In the train dataset we have 12 columns:\n",
    " - `PassengerId` - passenger id\n",
    " - `Survived` - survival (0 = No, 1 = Yes)\n",
    " - `Pclass` - ticket class (1 = 1st, 2 = 2nd, 3 = 3rd): a proxy for socio-economic status (1st = upper, 2nd = middle, 3rd = lower)\n",
    " - `Name` - passenger name\n",
    " - `Sex` - passenger sex\n",
    " - `Age` - passenger age in years: age is fractional if less than 1; if age is estimated, is it in the form of xx.5\n",
    " - `SibSp` - number of siblings/spouses aboard the Titanic: sibling = brother, sister, stepbrother, stepsister; spouse = husband, wife (mistresses and fiancés were ignored)\n",
    " - `Parch` - number of parents/children aboard the Titanic: parent = mother, father; child = daughter, son, stepdaughter, stepson; some children travelled only with a nanny, therefore parch = 0 for them\n",
    " - `Ticket` - ticket number\n",
    " - `Fare` - passenger fare\n",
    " - `Cabin` - cabin number\n",
    " - `Embarked` - port of embarkation\t(C = Cherbourg, Q = Queenstown, S = Southampton)"
   ]
  },
  {
   "cell_type": "markdown",
   "metadata": {},
   "source": [
    "Columns `PassengerId`, `Name`, `Ticket` and `Cabin` are irrelevent for prediction whether the passenger were survived, so we will ignore them.\n",
    "\n",
    "Now let's build the plots of column values depending on whether the passenger were survived."
   ]
  },
  {
   "cell_type": "code",
   "execution_count": 5,
   "metadata": {},
   "outputs": [
    {
     "data": {
      "image/png": "[encoded data removed]",
      "text/plain": [
       "<Figure size 1300x400 with 3 Axes>"
      ]
     },
     "metadata": {},
     "output_type": "display_data"
    }
   ],
   "source": [
    "plt.figure(figsize=(13, 4))\n",
    "\n",
    "# Bar chart of Pclass column depending on passenger survival\n",
    "plt.subplot(1, 3, 1, ylabel='Count')\n",
    "sns.countplot(train_data, x='Pclass', hue='Survived')\n",
    "\n",
    "# Histogram of Age column depending on passenger survival\n",
    "plt.subplot(1, 3, 2)\n",
    "sns.histplot(train_data, x='Age', hue='Survived', bins=10)\n",
    "\n",
    "# Bar chart of Sex column depending on passenger survival\n",
    "plt.subplot(1, 3, 3, ylabel='Count')\n",
    "sns.countplot(train_data, x='Sex', hue='Survived');"
   ]
  },
  {
   "cell_type": "markdown",
   "metadata": {},
   "source": [
    "The first plot (`Pclass` column) shows us that the higher the ticket class (from 3rd to 1st), the higher the survival rate. In the 1st class number of passengers who survived higher than the number of passengers who did not survived.\n",
    "\n",
    "In the second plot (`Age` column) we can see that survival rate is low among adult passengers. However, most child passengers under the age of 10 were survived.\n",
    "\n",
    "The third plot (`Sex` column) shows that the survival rate among female passengers is higher than male passengers."
   ]
  },
  {
   "cell_type": "code",
   "execution_count": 6,
   "metadata": {},
   "outputs": [
    {
     "data": {
      "image/png": "[encoded data removed]",
      "text/plain": [
       "<Figure size 1300x400 with 3 Axes>"
      ]
     },
     "metadata": {},
     "output_type": "display_data"
    }
   ],
   "source": [
    "plt.figure(figsize=(13, 4))\n",
    "\n",
    "# Histogram of SibSp column depending on passenger survival\n",
    "plt.subplot(1, 3, 1)\n",
    "sns.histplot(train_data, x='SibSp', hue='Survived', discrete=True)\n",
    "\n",
    "# Histogram of Parch column depending on passenger survival\n",
    "plt.subplot(1, 3, 2)\n",
    "sns.histplot(train_data, x='Parch', hue='Survived', discrete=True)\n",
    "\n",
    "# Histogram of Fare column depending on passenger survival\n",
    "plt.subplot(1, 3, 3)\n",
    "sns.histplot(train_data, x='Fare', hue='Survived', bins=10);"
   ]
  },
  {
   "cell_type": "markdown",
   "metadata": {},
   "source": [
    "In the first and second plots (columns `SibSp` and `Parch`) we can see that number of siblings/spouses or parents/children aboard does not affect the survival ratio. However, it is worth noting that for passengers who had one sibling/spouse or parent/child aboard survival ratio is higher.\n",
    "\n",
    "The third plot (`Fare` column) shows us that the survival ratio is higher among passengers who have paid between 50 and 150."
   ]
  },
  {
   "cell_type": "code",
   "execution_count": 7,
   "metadata": {},
   "outputs": [
    {
     "data": {
      "image/png": "[encoded data removed]",
      "text/plain": [
       "<Figure size 400x400 with 1 Axes>"
      ]
     },
     "metadata": {},
     "output_type": "display_data"
    }
   ],
   "source": [
    "# Bar chart of Embarked column depending on passenger survival\n",
    "plt.figure(figsize=(4, 4))\n",
    "plt.ylabel('Count')\n",
    "sns.countplot(train_data, x='Embarked', hue='Survived');"
   ]
  },
  {
   "cell_type": "markdown",
   "metadata": {},
   "source": [
    "This plot shows that the survival ratio is the highest among passengers who have embarked from Cherbourg."
   ]
  },
  {
   "cell_type": "markdown",
   "metadata": {},
   "source": [
    "### Data Cleaning"
   ]
  },
  {
   "cell_type": "markdown",
   "metadata": {},
   "source": [
    "Before we start cleaning the data, we need to analyze the data types in different columns determine if there are NA values in the dataset."
   ]
  },
  {
   "cell_type": "code",
   "execution_count": 8,
   "metadata": {},
   "outputs": [
    {
     "name": "stdout",
     "output_type": "stream",
     "text": [
      "<class 'pandas.core.frame.DataFrame'>\n",
      "RangeIndex: 891 entries, 0 to 890\n",
      "Data columns (total 12 columns):\n",
      " #   Column       Non-Null Count  Dtype  \n",
      "---  ------       --------------  -----  \n",
      " 0   PassengerId  891 non-null    int64  \n",
      " 1   Survived     891 non-null    int64  \n",
      " 2   Pclass       891 non-null    int64  \n",
      " 3   Name         891 non-null    object \n",
      " 4   Sex          891 non-null    object \n",
      " 5   Age          714 non-null    float64\n",
      " 6   SibSp        891 non-null    int64  \n",
      " 7   Parch        891 non-null    int64  \n",
      " 8   Ticket       891 non-null    object \n",
      " 9   Fare         891 non-null    float64\n",
      " 10  Cabin        204 non-null    object \n",
      " 11  Embarked     889 non-null    object \n",
      "dtypes: float64(2), int64(5), object(5)\n",
      "memory usage: 83.7+ KB\n"
     ]
    }
   ],
   "source": [
    "train_data.info()"
   ]
  },
  {
   "cell_type": "code",
   "execution_count": 9,
   "metadata": {},
   "outputs": [
    {
     "data": {
      "text/plain": [
       "PassengerId      0\n",
       "Survived         0\n",
       "Pclass           0\n",
       "Name             0\n",
       "Sex              0\n",
       "Age            177\n",
       "SibSp            0\n",
       "Parch            0\n",
       "Ticket           0\n",
       "Fare             0\n",
       "Cabin          687\n",
       "Embarked         2\n",
       "dtype: int64"
      ]
     },
     "execution_count": 9,
     "metadata": {},
     "output_type": "execute_result"
    }
   ],
   "source": [
    "train_data.isna().sum()"
   ]
  },
  {
   "cell_type": "markdown",
   "metadata": {},
   "source": [
    "So, `Age` column has 177 NA values and `Embarked` column has 2 NA values (`Cabin` column is ignored). For further forecasting we need fill in the NA values in these columns with the aggregated values from dataset."
   ]
  },
  {
   "cell_type": "markdown",
   "metadata": {},
   "source": [
    "Let's create a new column which contains passenger initials (honorifics): Mr, Miss, Mrs, Sir, Lady etc."
   ]
  },
  {
   "cell_type": "code",
   "execution_count": 10,
   "metadata": {},
   "outputs": [
    {
     "data": {
      "text/plain": [
       "array(['Mr', 'Mrs', 'Miss', 'Master', 'Don', 'Rev', 'Dr', 'Mme', 'Ms',\n",
       "       'Major', 'Lady', 'Sir', 'Mlle', 'Col', 'Capt', 'Countess',\n",
       "       'Jonkheer'], dtype=object)"
      ]
     },
     "execution_count": 10,
     "metadata": {},
     "output_type": "execute_result"
    }
   ],
   "source": [
    "initials = train_data['Name'].str.extract('(\\w+)\\.').squeeze()\n",
    "initials.unique()"
   ]
  },
  {
   "cell_type": "markdown",
   "metadata": {},
   "source": [
    "Now, we reduce the number of possible passenger initials."
   ]
  },
  {
   "cell_type": "code",
   "execution_count": 11,
   "metadata": {},
   "outputs": [
    {
     "data": {
      "text/plain": [
       "array(['Mr', 'Mrs', 'Miss', 'Master', 'Other'], dtype=object)"
      ]
     },
     "execution_count": 11,
     "metadata": {},
     "output_type": "execute_result"
    }
   ],
   "source": [
    "initials.replace(\n",
    "    ['Mlle', 'Mme', 'Ms'] +                  # To Miss\n",
    "    ['Lady', 'Countess'] +                   # To Mrs\n",
    "    ['Dr', 'Major', 'Capt', 'Sir', 'Don'] +  # To Mr\n",
    "    ['Jonkheer', 'Col', 'Rev'],              # To Other\n",
    "    ['Miss'] * 3 + ['Mrs'] * 2 + ['Mr'] * 5 + ['Other'] * 3,\n",
    "    inplace=True\n",
    ")\n",
    "initials.unique()"
   ]
  },
  {
   "cell_type": "markdown",
   "metadata": {},
   "source": [
    "Then we can fill in the NA values in `Age` column with the age mean values for different passenger initials."
   ]
  },
  {
   "cell_type": "code",
   "execution_count": 12,
   "metadata": {},
   "outputs": [
    {
     "data": {
      "text/plain": [
       "0\n",
       "Master     4.5\n",
       "Miss      21.5\n",
       "Mr        32.5\n",
       "Mrs       36.0\n",
       "Other     45.5\n",
       "Name: Age, dtype: float64"
      ]
     },
     "execution_count": 12,
     "metadata": {},
     "output_type": "execute_result"
    }
   ],
   "source": [
    "# Age mean values for different passenger initials (estimation can be xx.0 or xx.5)\n",
    "age_means = train_data.groupby(initials)['Age'].mean().round(1)\n",
    "age_means - (age_means % 0.5)"
   ]
  },
  {
   "cell_type": "markdown",
   "metadata": {},
   "source": [
    "We can fill in the NA values in `Embarked` column with the most common value in this column."
   ]
  },
  {
   "cell_type": "code",
   "execution_count": 13,
   "metadata": {},
   "outputs": [
    {
     "data": {
      "text/plain": [
       "'S'"
      ]
     },
     "execution_count": 13,
     "metadata": {},
     "output_type": "execute_result"
    }
   ],
   "source": [
    "# Most common embarkation value (mode)\n",
    "train_data['Embarked'].value_counts().index[0]"
   ]
  },
  {
   "cell_type": "markdown",
   "metadata": {},
   "source": [
    "Now, we investigate the test dataset."
   ]
  },
  {
   "cell_type": "code",
   "execution_count": 14,
   "metadata": {},
   "outputs": [
    {
     "name": "stdout",
     "output_type": "stream",
     "text": [
      "<class 'pandas.core.frame.DataFrame'>\n",
      "RangeIndex: 418 entries, 0 to 417\n",
      "Data columns (total 11 columns):\n",
      " #   Column       Non-Null Count  Dtype  \n",
      "---  ------       --------------  -----  \n",
      " 0   PassengerId  418 non-null    int64  \n",
      " 1   Pclass       418 non-null    int64  \n",
      " 2   Name         418 non-null    object \n",
      " 3   Sex          418 non-null    object \n",
      " 4   Age          332 non-null    float64\n",
      " 5   SibSp        418 non-null    int64  \n",
      " 6   Parch        418 non-null    int64  \n",
      " 7   Ticket       418 non-null    object \n",
      " 8   Fare         417 non-null    float64\n",
      " 9   Cabin        91 non-null     object \n",
      " 10  Embarked     418 non-null    object \n",
      "dtypes: float64(2), int64(4), object(5)\n",
      "memory usage: 36.1+ KB\n"
     ]
    }
   ],
   "source": [
    "# Load test dataset\n",
    "test_data = pd.read_csv(TEST_FILE)\n",
    "test_data.info()"
   ]
  },
  {
   "cell_type": "markdown",
   "metadata": {},
   "source": [
    "Here we will also determine if the dataset contains NA values."
   ]
  },
  {
   "cell_type": "code",
   "execution_count": 15,
   "metadata": {},
   "outputs": [
    {
     "data": {
      "text/plain": [
       "PassengerId      0\n",
       "Pclass           0\n",
       "Name             0\n",
       "Sex              0\n",
       "Age             86\n",
       "SibSp            0\n",
       "Parch            0\n",
       "Ticket           0\n",
       "Fare             1\n",
       "Cabin          327\n",
       "Embarked         0\n",
       "dtype: int64"
      ]
     },
     "execution_count": 15,
     "metadata": {},
     "output_type": "execute_result"
    }
   ],
   "source": [
    "test_data.isna().sum()"
   ]
  },
  {
   "cell_type": "markdown",
   "metadata": {},
   "source": [
    "In the test dataset `Age` column has 86 NA values and `Fare` column has one NA value."
   ]
  },
  {
   "cell_type": "markdown",
   "metadata": {},
   "source": [
    "To fill in the NA values in `Age` column, we follow the same process."
   ]
  },
  {
   "cell_type": "code",
   "execution_count": 16,
   "metadata": {},
   "outputs": [
    {
     "data": {
      "text/plain": [
       "array(['Mr', 'Mrs', 'Miss', 'Master', 'Ms', 'Col', 'Rev', 'Dr', 'Dona'],\n",
       "      dtype=object)"
      ]
     },
     "execution_count": 16,
     "metadata": {},
     "output_type": "execute_result"
    }
   ],
   "source": [
    "initials = test_data['Name'].str.extract('(\\w+)\\.').squeeze()\n",
    "initials.unique()"
   ]
  },
  {
   "cell_type": "code",
   "execution_count": 17,
   "metadata": {},
   "outputs": [
    {
     "data": {
      "text/plain": [
       "array(['Mr', 'Mrs', 'Miss', 'Master', 'Other'], dtype=object)"
      ]
     },
     "execution_count": 17,
     "metadata": {},
     "output_type": "execute_result"
    }
   ],
   "source": [
    "initials.replace(\n",
    "    ['Ms'] +            # To Miss\n",
    "    ['Lady', 'Dona'] +  # To Mrs\n",
    "    ['Dr'] +            # To Mr\n",
    "    ['Col', 'Rev'],     # To Other\n",
    "    ['Miss'] + ['Mrs'] * 2 + ['Mr'] + ['Other'] * 2,\n",
    "    inplace=True\n",
    ")\n",
    "initials.unique()"
   ]
  },
  {
   "cell_type": "code",
   "execution_count": 18,
   "metadata": {},
   "outputs": [
    {
     "data": {
      "text/plain": [
       "0\n",
       "Master     7.0\n",
       "Miss      21.5\n",
       "Mr        32.0\n",
       "Mrs       38.5\n",
       "Other     42.5\n",
       "Name: Age, dtype: float64"
      ]
     },
     "execution_count": 18,
     "metadata": {},
     "output_type": "execute_result"
    }
   ],
   "source": [
    "# Age mean values for different passenger initials (estimation can be xx.0 or xx.5)\n",
    "age_means = test_data.groupby(initials)['Age'].mean().round(1)\n",
    "age_means - (age_means % 0.5)"
   ]
  },
  {
   "cell_type": "markdown",
   "metadata": {},
   "source": [
    "To fill in the NA values in `Fare` column, we can use the average value in this column."
   ]
  },
  {
   "cell_type": "code",
   "execution_count": 19,
   "metadata": {},
   "outputs": [
    {
     "data": {
      "text/plain": [
       "35.627188489208635"
      ]
     },
     "execution_count": 19,
     "metadata": {},
     "output_type": "execute_result"
    }
   ],
   "source": [
    "# Average fare value\n",
    "test_data['Fare'].mean()"
   ]
  },
  {
   "cell_type": "markdown",
   "metadata": {},
   "source": [
    "To be able to apply cleaning process to train and test dataset, we create clean_titanic_data function."
   ]
  },
  {
   "cell_type": "code",
   "execution_count": 20,
   "metadata": {},
   "outputs": [],
   "source": [
    "def clean_titanic_data(data, return_y=True):\n",
    "    '''\n",
    "    Performs data cleaning in titanic dataset.\n",
    "\n",
    "    :param data: A dataset\n",
    "    :type data: DataFrame\n",
    "    :param return_y: If `True`, returns `(ids, X, y)`, if `False`, returns `(ids, X)`\n",
    "    :type return_y: bool\n",
    "\n",
    "    :raises TypeError: Occurs if `data` does not contain `Survived` column when `return_y=True`\n",
    "\n",
    "    :return: `(ids, X, y)` or `(ids, X)` where `ids` is passenger ids, ndarray of shape (?,),\n",
    "    `X` is features values, ndarray of shape (?, n), `y` is target values, ndarray of shape (?,)\n",
    "    :rtype: tuple[ndarray, ndarray, ndarray] | tuple[ndarray, ndarray]\n",
    "    '''\n",
    "    \n",
    "    # Copy the dataset\n",
    "    titanic = data.copy()\n",
    "\n",
    "    # Create columns of passenger initials (honorifics)\n",
    "    titanic['Initial'] = titanic['Name'].str.extract('(\\w+)\\.')\n",
    "    titanic['Initial'] = titanic['Initial'].replace(\n",
    "        ['Mlle', 'Mme', 'Ms'] +                  # Replace to Miss\n",
    "        ['Lady', 'Countess', 'Dona'] +           # Replace to Mrs\n",
    "        ['Dr', 'Major', 'Capt', 'Sir', 'Don'] +  # Replace to Mr\n",
    "        ['Jonkheer', 'Col', 'Rev'],              # Replace to Other\n",
    "        ['Miss'] * 3 + ['Mrs'] * 3 + ['Mr'] * 5 + ['Other'] * 3\n",
    "    )\n",
    "\n",
    "    # Fill in NA values in Age column with age mean values for different passenger initials\n",
    "    age_means = titanic.groupby('Initial')['Age'].mean().round(1)\n",
    "    age_means -= age_means % 0.5\n",
    "    titanic.loc[data['Age'].isna(), 'Age'] = titanic.loc[data['Age'].isna(), 'Initial'].map(age_means.to_dict())\n",
    "\n",
    "    # Fill in NA values in Fare column with fare average value\n",
    "    fare_mean = titanic['Fare'].mean()\n",
    "    titanic['Fare'] = titanic['Fare'].fillna(fare_mean)\n",
    "\n",
    "    # Fill in NA values in Embarked column with embarkation mode value\n",
    "    embarkation_mode = titanic['Embarked'].value_counts().index[0]\n",
    "    titanic['Embarked'] = titanic['Embarked'].fillna(embarkation_mode)\n",
    "\n",
    "    # Convert values in Sex column to numeric\n",
    "    titanic['Sex'] = titanic['Sex'].map({'male': 0, 'female': 1})\n",
    "\n",
    "    # Create dummy features which represent unique values in Embarked column\n",
    "    embarkations = pd.get_dummies(titanic['Embarked'], prefix='Embarked', dtype='int')\n",
    "    titanic = pd.concat([titanic, embarkations], axis=1)\n",
    "\n",
    "    # Name of passenger id column\n",
    "    id_feature = 'PassengerId'\n",
    "\n",
    "    # Names of feature columns and target column\n",
    "    features = ['Pclass', 'Sex', 'Age', 'SibSp', 'Parch', 'Fare'] + embarkations.columns.to_list()\n",
    "    target = 'Survived'\n",
    "\n",
    "    # Return ids values, feature values and target values\n",
    "    if return_y:\n",
    "        if target not in titanic.columns:\n",
    "            raise TypeError(f'Dataset does not contain a {target} column')\n",
    "        return titanic[id_feature].values, titanic[features].values, titanic[target].values\n",
    "    \n",
    "    # Return only ids values and feature values\n",
    "    else:\n",
    "        return titanic[id_feature].values, titanic[features].values"
   ]
  },
  {
   "cell_type": "markdown",
   "metadata": {},
   "source": [
    "### ML Models Building"
   ]
  },
  {
   "cell_type": "code",
   "execution_count": 21,
   "metadata": {},
   "outputs": [
    {
     "name": "stdout",
     "output_type": "stream",
     "text": [
      "Shape of features: (891, 9)\n",
      "Shape of targets: (891,)\n"
     ]
    }
   ],
   "source": [
    "# Clean train dataset\n",
    "_, X_train, y_train = clean_titanic_data(train_data, return_y=True)\n",
    "print(f'Shape of features: {X_train.shape}')\n",
    "print(f'Shape of targets: {y_train.shape}')"
   ]
  },
  {
   "cell_type": "code",
   "execution_count": 22,
   "metadata": {},
   "outputs": [],
   "source": [
    "from sklearn.preprocessing import MinMaxScaler\n",
    "\n",
    "# Normalize train dataset using min-max scaling\n",
    "scaler = MinMaxScaler()\n",
    "X_train_scaled = scaler.fit_transform(X_train)"
   ]
  },
  {
   "cell_type": "code",
   "execution_count": 23,
   "metadata": {},
   "outputs": [],
   "source": [
    "from sklearn.neighbors import KNeighborsClassifier\n",
    "from sklearn.linear_model import LogisticRegression \n",
    "from sklearn.svm import SVC\n",
    "from sklearn.neural_network import MLPClassifier\n",
    "from sklearn.tree import DecisionTreeClassifier\n",
    "from sklearn.ensemble import RandomForestClassifier\n",
    "from sklearn.ensemble import GradientBoostingClassifier\n",
    "from xgboost import XGBClassifier\n",
    "\n",
    "from sklearn.model_selection import GridSearchCV"
   ]
  },
  {
   "cell_type": "markdown",
   "metadata": {},
   "source": [
    "#### K-Nearest Neighbors (KNeighborsClassifier)"
   ]
  },
  {
   "cell_type": "code",
   "execution_count": 24,
   "metadata": {},
   "outputs": [
    {
     "name": "stdout",
     "output_type": "stream",
     "text": [
      "Best parameters (KNeighborsClassifier): {'n_neighbors': 9}\n",
      "Best score (accuracy): 0.8080660347749671\n"
     ]
    }
   ],
   "source": [
    "# Build k-nearest neighbors model and find optimal parameters\n",
    "clf = KNeighborsClassifier()\n",
    "params = {'n_neighbors': list(range(3, 20))}\n",
    "grid_clf = GridSearchCV(clf, params).fit(X_train_scaled, y_train)\n",
    "\n",
    "print('Best parameters (KNeighborsClassifier):', grid_clf.best_params_)\n",
    "print('Best score (accuracy):', grid_clf.best_score_)"
   ]
  },
  {
   "cell_type": "markdown",
   "metadata": {},
   "source": [
    "#### Logistic Regression (LogisticRegression)"
   ]
  },
  {
   "cell_type": "code",
   "execution_count": 25,
   "metadata": {},
   "outputs": [
    {
     "name": "stdout",
     "output_type": "stream",
     "text": [
      "Best parameters (LogisticRegression): {'C': 0.5}\n",
      "Best score (accuracy): 0.7923733601154981\n"
     ]
    }
   ],
   "source": [
    "# Build logistic regression model and find optimal parameters\n",
    "clf = LogisticRegression()\n",
    "params = {'C': [0.001, 0.005, 0.01, 0.05, 0.1, 0.2, 0.5, 1, 2, 5, 10]}\n",
    "grid_clf = GridSearchCV(clf, params).fit(X_train_scaled, y_train)\n",
    "\n",
    "print('Best parameters (LogisticRegression):', grid_clf.best_params_)\n",
    "print('Best score (accuracy):', grid_clf.best_score_)"
   ]
  },
  {
   "cell_type": "markdown",
   "metadata": {},
   "source": [
    "#### Support Vector Machine (SVC)"
   ]
  },
  {
   "cell_type": "code",
   "execution_count": 26,
   "metadata": {},
   "outputs": [
    {
     "name": "stdout",
     "output_type": "stream",
     "text": [
      "Best parameters (SVC): {'C': 5, 'gamma': 1}\n",
      "Best score (accuracy): 0.8226727763480006\n"
     ]
    }
   ],
   "source": [
    "# Build SVM model and find optimal parameters\n",
    "clf = SVC(kernel='rbf')\n",
    "params = {\n",
    "    'C': [0.001, 0.005, 0.01, 0.05, 0.1, 0.2, 0.5, 1, 2, 5, 10],\n",
    "    'gamma': [0.001, 0.01, 0.05, 0.1, 0.5, 1, 10, 50]\n",
    "}\n",
    "grid_clf = GridSearchCV(clf, params).fit(X_train_scaled, y_train)\n",
    "\n",
    "print('Best parameters (SVC):', grid_clf.best_params_)\n",
    "print('Best score (accuracy):', grid_clf.best_score_)"
   ]
  },
  {
   "cell_type": "markdown",
   "metadata": {},
   "source": [
    "#### Decision Tree Algorithm"
   ]
  },
  {
   "cell_type": "code",
   "execution_count": 27,
   "metadata": {},
   "outputs": [
    {
     "name": "stdout",
     "output_type": "stream",
     "text": [
      "Best parameters (DecisionTreeClassifier): {'criterion': 'entropy', 'max_depth': 5}\n",
      "Best score (accuracy): 0.818172117255665\n"
     ]
    }
   ],
   "source": [
    "# Build decision tree model and find optimal parameters\n",
    "clf = DecisionTreeClassifier(random_state=2023)\n",
    "params = {\n",
    "    'criterion': ['gini', 'entropy'],\n",
    "    'max_depth': [2, 5, 7, 10, 20, 30, 35, 40, 50]\n",
    "}\n",
    "grid_clf = GridSearchCV(clf, params).fit(X_train_scaled, y_train)\n",
    "\n",
    "print('Best parameters (DecisionTreeClassifier):', grid_clf.best_params_)\n",
    "print('Best score (accuracy):', grid_clf.best_score_)"
   ]
  },
  {
   "cell_type": "markdown",
   "metadata": {},
   "source": [
    "#### Random Forest Algorithm"
   ]
  },
  {
   "cell_type": "code",
   "execution_count": 28,
   "metadata": {},
   "outputs": [
    {
     "name": "stdout",
     "output_type": "stream",
     "text": [
      "Best parameters (RandomForestClassifier): {'criterion': 'entropy', 'n_estimators': 300}\n",
      "Best score (accuracy): 0.815956311593748\n"
     ]
    }
   ],
   "source": [
    "# Build random forest model and find optimal parameters\n",
    "clf = RandomForestClassifier(random_state=2023)\n",
    "params = {\n",
    "    'criterion': ['gini', 'entropy', 'log_loss'],\n",
    "    'n_estimators': [20, 50, 100, 150, 200, 250, 300]\n",
    "}\n",
    "grid_clf = GridSearchCV(clf, params).fit(X_train_scaled, y_train)\n",
    "\n",
    "print('Best parameters (RandomForestClassifier):', grid_clf.best_params_)\n",
    "print('Best score (accuracy):', grid_clf.best_score_)"
   ]
  },
  {
   "cell_type": "markdown",
   "metadata": {},
   "source": [
    "#### Gradient Boosting Decision Trees Algorithm"
   ]
  },
  {
   "cell_type": "code",
   "execution_count": 29,
   "metadata": {},
   "outputs": [
    {
     "name": "stdout",
     "output_type": "stream",
     "text": [
      "Best parameters (GradientBoostingClassifier): {'learning_rate': 0.1, 'n_estimators': 300}\n",
      "Best score (accuracy): 0.8372732408511705\n"
     ]
    }
   ],
   "source": [
    "# Build gradient boosting decision trees model and find optimal parameters\n",
    "clf = GradientBoostingClassifier(random_state=2023)\n",
    "params = {\n",
    "    'learning_rate': [0.01, 0.02, 0.05, 0.1, 0.2, 0.5, 1, 2, 5, 10],\n",
    "    'n_estimators': [20, 50, 100, 150, 200, 250, 300]\n",
    "}\n",
    "grid_clf = GridSearchCV(clf, params).fit(X_train_scaled, y_train)\n",
    "\n",
    "print('Best parameters (GradientBoostingClassifier):', grid_clf.best_params_)\n",
    "print('Best score (accuracy):', grid_clf.best_score_)"
   ]
  },
  {
   "cell_type": "markdown",
   "metadata": {},
   "source": [
    "So, the best classifier is the Gradient Boosting Decision Trees model (GradientBoostingClassifier) with accuracy score equal to 0.8372732408511705."
   ]
  },
  {
   "cell_type": "code",
   "execution_count": 30,
   "metadata": {},
   "outputs": [
    {
     "data": {
      "text/html": [
       "<style>#sk-container-id-1 {color: black;background-color: white;}#sk-container-id-1 pre{padding: 0;}#sk-container-id-1 div.sk-toggleable {background-color: white;}#sk-container-id-1 label.sk-toggleable__label {cursor: pointer;display: block;width: 100%;margin-bottom: 0;padding: 0.3em;box-sizing: border-box;text-align: center;}#sk-container-id-1 label.sk-toggleable__label-arrow:before {content: \"▸\";float: left;margin-right: 0.25em;color: #696969;}#sk-container-id-1 label.sk-toggleable__label-arrow:hover:before {color: black;}#sk-container-id-1 div.sk-estimator:hover label.sk-toggleable__label-arrow:before {color: black;}#sk-container-id-1 div.sk-toggleable__content {max-height: 0;max-width: 0;overflow: hidden;text-align: left;background-color: #f0f8ff;}#sk-container-id-1 div.sk-toggleable__content pre {margin: 0.2em;color: black;border-radius: 0.25em;background-color: #f0f8ff;}#sk-container-id-1 input.sk-toggleable__control:checked~div.sk-toggleable__content {max-height: 200px;max-width: 100%;overflow: auto;}#sk-container-id-1 input.sk-toggleable__control:checked~label.sk-toggleable__label-arrow:before {content: \"▾\";}#sk-container-id-1 div.sk-estimator input.sk-toggleable__control:checked~label.sk-toggleable__label {background-color: #d4ebff;}#sk-container-id-1 div.sk-label input.sk-toggleable__control:checked~label.sk-toggleable__label {background-color: #d4ebff;}#sk-container-id-1 input.sk-hidden--visually {border: 0;clip: rect(1px 1px 1px 1px);clip: rect(1px, 1px, 1px, 1px);height: 1px;margin: -1px;overflow: hidden;padding: 0;position: absolute;width: 1px;}#sk-container-id-1 div.sk-estimator {font-family: monospace;background-color: #f0f8ff;border: 1px dotted black;border-radius: 0.25em;box-sizing: border-box;margin-bottom: 0.5em;}#sk-container-id-1 div.sk-estimator:hover {background-color: #d4ebff;}#sk-container-id-1 div.sk-parallel-item::after {content: \"\";width: 100%;border-bottom: 1px solid gray;flex-grow: 1;}#sk-container-id-1 div.sk-label:hover label.sk-toggleable__label {background-color: #d4ebff;}#sk-container-id-1 div.sk-serial::before {content: \"\";position: absolute;border-left: 1px solid gray;box-sizing: border-box;top: 0;bottom: 0;left: 50%;z-index: 0;}#sk-container-id-1 div.sk-serial {display: flex;flex-direction: column;align-items: center;background-color: white;padding-right: 0.2em;padding-left: 0.2em;position: relative;}#sk-container-id-1 div.sk-item {position: relative;z-index: 1;}#sk-container-id-1 div.sk-parallel {display: flex;align-items: stretch;justify-content: center;background-color: white;position: relative;}#sk-container-id-1 div.sk-item::before, #sk-container-id-1 div.sk-parallel-item::before {content: \"\";position: absolute;border-left: 1px solid gray;box-sizing: border-box;top: 0;bottom: 0;left: 50%;z-index: -1;}#sk-container-id-1 div.sk-parallel-item {display: flex;flex-direction: column;z-index: 1;position: relative;background-color: white;}#sk-container-id-1 div.sk-parallel-item:first-child::after {align-self: flex-end;width: 50%;}#sk-container-id-1 div.sk-parallel-item:last-child::after {align-self: flex-start;width: 50%;}#sk-container-id-1 div.sk-parallel-item:only-child::after {width: 0;}#sk-container-id-1 div.sk-dashed-wrapped {border: 1px dashed gray;margin: 0 0.4em 0.5em 0.4em;box-sizing: border-box;padding-bottom: 0.4em;background-color: white;}#sk-container-id-1 div.sk-label label {font-family: monospace;font-weight: bold;display: inline-block;line-height: 1.2em;}#sk-container-id-1 div.sk-label-container {text-align: center;}#sk-container-id-1 div.sk-container {/* jupyter's `normalize.less` sets `[hidden] { display: none; }` but bootstrap.min.css set `[hidden] { display: none !important; }` so we also need the `!important` here to be able to override the default hidden behavior on the sphinx rendered scikit-learn.org. See: https://github.com/scikit-learn/scikit-learn/issues/21755 */display: inline-block !important;position: relative;}#sk-container-id-1 div.sk-text-repr-fallback {display: none;}</style><div id=\"sk-container-id-1\" class=\"sk-top-container\"><div class=\"sk-text-repr-fallback\"><pre>GradientBoostingClassifier(n_estimators=300, random_state=2023)</pre><b>In a Jupyter environment, please rerun this cell to show the HTML representation or trust the notebook. <br />On GitHub, the HTML representation is unable to render, please try loading this page with nbviewer.org.</b></div><div class=\"sk-container\" hidden><div class=\"sk-item\"><div class=\"sk-estimator sk-toggleable\"><input class=\"sk-toggleable__control sk-hidden--visually\" id=\"sk-estimator-id-1\" type=\"checkbox\" checked><label for=\"sk-estimator-id-1\" class=\"sk-toggleable__label sk-toggleable__label-arrow\">GradientBoostingClassifier</label><div class=\"sk-toggleable__content\"><pre>GradientBoostingClassifier(n_estimators=300, random_state=2023)</pre></div></div></div></div></div>"
      ],
      "text/plain": [
       "GradientBoostingClassifier(n_estimators=300, random_state=2023)"
      ]
     },
     "execution_count": 30,
     "metadata": {},
     "output_type": "execute_result"
    }
   ],
   "source": [
    "# Find the gradient boosting decision trees models again\n",
    "grid = GridSearchCV(\n",
    "    GradientBoostingClassifier(random_state=2023),\n",
    "    {'learning_rate': [0.01, 0.02, 0.05, 0.1, 0.2, 0.5, 1, 2, 5, 10], 'n_estimators': [20, 50, 100, 150, 200, 250, 300]}\n",
    ").fit(X_train_scaled, y_train)\n",
    "\n",
    "# The best classifier\n",
    "model = grid.best_estimator_\n",
    "model"
   ]
  },
  {
   "cell_type": "markdown",
   "metadata": {},
   "source": [
    "### Predict test dataset using the best model"
   ]
  },
  {
   "cell_type": "code",
   "execution_count": 32,
   "metadata": {},
   "outputs": [
    {
     "name": "stdout",
     "output_type": "stream",
     "text": [
      "Shape of passenger ids: (418,)\n",
      "Shape of features: (418, 9)\n"
     ]
    }
   ],
   "source": [
    "# Clean test dataset\n",
    "passenger_ids, X_test = clean_titanic_data(test_data, return_y=False)\n",
    "print(f'Shape of passenger ids: {passenger_ids.shape}')\n",
    "print(f'Shape of features: {X_test.shape}')"
   ]
  },
  {
   "cell_type": "code",
   "execution_count": 33,
   "metadata": {},
   "outputs": [],
   "source": [
    "# Normalize test dataset using min-max scaling\n",
    "scaler = MinMaxScaler()\n",
    "X_test_scaled = scaler.fit_transform(X_test)"
   ]
  },
  {
   "cell_type": "code",
   "execution_count": 35,
   "metadata": {},
   "outputs": [
    {
     "name": "stdout",
     "output_type": "stream",
     "text": [
      "Shape of predictions: (418,)\n"
     ]
    }
   ],
   "source": [
    "# Compute the target predictions for test dataset \n",
    "predictions = model.predict(X_test_scaled)\n",
    "print(f'Shape of predictions: {predictions.shape}')"
   ]
  },
  {
   "cell_type": "markdown",
   "metadata": {},
   "source": [
    "### Submit predictions to Kaggle Competition"
   ]
  },
  {
   "cell_type": "code",
   "execution_count": 38,
   "metadata": {},
   "outputs": [],
   "source": [
    "# Merge passenger ids and target predictions, and save them to a CSV file\n",
    "submition_data = np.hstack([passenger_ids.reshape(-1, 1), predictions.reshape(-1, 1)])\n",
    "pd.DataFrame(submition_data, columns=['PassengerId', 'Survived']).to_csv('submition.csv', index=False)"
   ]
  },
  {
   "cell_type": "markdown",
   "metadata": {},
   "source": [
    "#### Kaggle submition score\n",
    "\n",
    "![image](kaggle_submit.png)"
   ]
  }
 ],
 "metadata": {
  "kernelspec": {
   "display_name": "Python 3 (ipykernel)",
   "language": "python",
   "name": "python3"
  },
  "language_info": {
   "codemirror_mode": {
    "name": "ipython",
    "version": 3
   },
   "file_extension": ".py",
   "mimetype": "text/x-python",
   "name": "python",
   "nbconvert_exporter": "python",
   "pygments_lexer": "ipython3",
   "version": "3.11.5"
  }
 },
 "nbformat": 4,
 "nbformat_minor": 2
}
