{
 "cells": [
  {
   "cell_type": "markdown",
   "metadata": {
    "id": "OfC8n5bDZ52u"
   },
   "source": [
    "## Home task: PyTorch"
   ]
  },
  {
   "cell_type": "markdown",
   "metadata": {
    "id": "hSf0VGkVZ52z"
   },
   "source": [
    "1. Train NN model with custom linear architecture on MNIST or on any dataset from Kaggle (image data with resolution not higher than 80x80 pixels -\n",
    "[Sign language MNIST](https://www.kaggle.com/datasets/datamunge/sign-language-mnist),\n",
    "[A-Z Handwritten Alphabet](https://www.kaggle.com/datasets/sachinpatel21/az-handwritten-alphabets-in-csv-format), etc.)\n",
    "2. Visualize epoch progress (loss and accuracy curves)\n",
    "3. Visualize 10 random elements from test set and model results for those elements"
   ]
  },
  {
   "cell_type": "markdown",
   "metadata": {
    "id": "liSZzElV71UM"
   },
   "source": [
    "#### Dataset"
   ]
  },
  {
   "cell_type": "markdown",
   "metadata": {
    "id": "5cg9pljS71UO"
   },
   "source": [
    "Dataset from Kaggle [A-Z Handwritten Alphabets in .csv format](https://www.kaggle.com/datasets/sachinpatel21/az-handwritten-alphabets-in-csv-format). It contains 26 classes (english letters A-Z) containing handwritten images in size 28x28 pixels, each alphabet in the image is center fitted to 20x20 pixel box. Each image is stored as Gray-level."
   ]
  },
  {
   "cell_type": "code",
   "execution_count": 2,
   "metadata": {
    "id": "PVehsQxPZ523"
   },
   "outputs": [],
   "source": [
    "import os\n",
    "import numpy as np\n",
    "import pandas as pd\n",
    "import matplotlib.pyplot as plt\n",
    "\n",
    "%matplotlib inline"
   ]
  },
  {
   "cell_type": "code",
   "execution_count": 3,
   "metadata": {
    "id": "lv7dM02HZ526"
   },
   "outputs": [],
   "source": [
    "import torch\n",
    "\n",
    "class HandwrittenLettersDataset(torch.utils.data.Dataset):\n",
    "    '''\n",
    "    Represents iterable over Handwritten A-Z letters dataset\n",
    "    :param filename: the name of CSV file where dataset is stored\n",
    "    :type filename: str\n",
    "    :param image_size: size of images in dataset, should be tuple of two integers\n",
    "    :type image_size: tuple[int, int]\n",
    "    :param transform: supported CV transformation, can be found in `torchvision.transforms`\n",
    "    '''\n",
    "    def __init__(self, filename, image_size, transform=None):\n",
    "        # Read the data as integers from CSV\n",
    "        self.data = np.loadtxt(filename, delimiter=',', skiprows=1, dtype='int')\n",
    "        self.image_size = image_size\n",
    "        self.transform = transform\n",
    "        self.size = len(self.data)\n",
    "\n",
    "    def __len__(self):\n",
    "        return self.size\n",
    "\n",
    "    def __getitem__(self, idx):\n",
    "        # A label (class, letter index) is the first column\n",
    "        label = self.data[idx, 0]\n",
    "\n",
    "        # Other columns form a flatten image\n",
    "        image = self.data[idx, 1:].reshape(self.image_size)\n",
    "\n",
    "        # Convert the image to pytorch Tensor\n",
    "        image = torch.from_numpy(image)\n",
    "\n",
    "        # Apply transformation to the image, if any\n",
    "        if self.transform:\n",
    "            image = self.transform(image)\n",
    "\n",
    "        return image, label"
   ]
  },
  {
   "cell_type": "code",
   "execution_count": 4,
   "metadata": {
    "id": "zBeVrJL8Z527"
   },
   "outputs": [],
   "source": [
    "import string\n",
    "\n",
    "from sklearn.model_selection import train_test_split\n",
    "from torch.utils.data import DataLoader\n",
    "\n",
    "LETTERS = dict(enumerate(string.ascii_uppercase))  # Mapping numbers (indexes) to alphabet letters\n",
    "DATA_DIR = 'data'\n",
    "DATA_FILE = os.path.join(DATA_DIR, 'A_Z_Handwritten_Data.csv')\n",
    "BATCH_SIZE = 8\n",
    "\n",
    "\n",
    "# Read dataset from CSV file and split it into training and test sets\n",
    "data_set = HandwrittenLettersDataset(DATA_FILE, (28, 28))\n",
    "train_set, test_set = train_test_split(data_set, random_state=0)\n",
    "\n",
    "# Create data loaders for training and test datasets\n",
    "train_loader = DataLoader(train_set, batch_size=BATCH_SIZE, shuffle=True)\n",
    "test_loader = DataLoader(test_set, batch_size=BATCH_SIZE, shuffle=False)"
   ]
  },
  {
   "cell_type": "code",
   "execution_count": 5,
   "metadata": {
    "colab": {
     "base_uri": "https://localhost:8080/"
    },
    "id": "qdcBzOOWlaqB",
    "outputId": "cd62c890-9317-4232-c384-0955dd1c4a7a"
   },
   "outputs": [
    {
     "name": "stdout",
     "output_type": "stream",
     "text": [
      "Input size: 784 (= 28 * 28)\n",
      "Output size: 26\n"
     ]
    }
   ],
   "source": [
    "# Define input and output of neural network:\n",
    "# - input size: number of image pixels (28 * 28)\n",
    "# - output size: number of alphabet letters (26)\n",
    "img, _ = data_set[0]\n",
    "input_size = torch.numel(img)\n",
    "output_size = len(LETTERS)\n",
    "\n",
    "print(f'Input size: {input_size} (= 28 * 28)')\n",
    "print(f'Output size: {output_size}')"
   ]
  },
  {
   "cell_type": "markdown",
   "metadata": {
    "id": "K8ytr4Qg71UW"
   },
   "source": [
    "#### NN model"
   ]
  },
  {
   "cell_type": "code",
   "execution_count": 6,
   "metadata": {
    "id": "eEfjhOCXhOcg"
   },
   "outputs": [],
   "source": [
    "from torch import nn\n",
    "\n",
    "class HandwrittenLettersNeuralNetwork(nn.Module):\n",
    "    '''\n",
    "    Represents neural network model. Structure:\n",
    "    - flatten layer\n",
    "    - 1st linear layer with 512 units and ReLU activation\n",
    "    - 2nd linear layer with 512 units and ReLU activation\n",
    "    - 3rd (output) linear layer with Softmax activation\n",
    "    :param input_size:\n",
    "    :type input_size: tuple[int, int]\n",
    "    :param output_size:\n",
    "    :type output_size: int\n",
    "    '''\n",
    "    def __init__(self, input_size, output_size):\n",
    "        super().__init__()\n",
    "        self.flatten = nn.Flatten()\n",
    "        self.linear_stack = nn.Sequential(\n",
    "            nn.Linear(input_size, 512),\n",
    "            nn.ReLU(),\n",
    "            nn.Linear(512, 512),\n",
    "            nn.ReLU(),\n",
    "            nn.Linear(512, output_size),\n",
    "            nn.Softmax(dim=1)\n",
    "        )\n",
    "\n",
    "    def forward(self, x):\n",
    "        '''\n",
    "        Performs the computation at every model call\n",
    "        :param x: input data\n",
    "        :type x: torch Tensor with size `[n, length, width]`\n",
    "        '''\n",
    "        x = self.flatten(x).to(torch.float)\n",
    "        logits = self.linear_stack(x)\n",
    "        return logits"
   ]
  },
  {
   "cell_type": "code",
   "execution_count": 7,
   "metadata": {
    "colab": {
     "base_uri": "https://localhost:8080/"
    },
    "id": "0W0Et1jMoYlg",
    "outputId": "bdf30299-913d-4e89-c77e-0e8ac3e029f7"
   },
   "outputs": [
    {
     "name": "stdout",
     "output_type": "stream",
     "text": [
      "Neural network structure:\n",
      "HandwrittenLettersNeuralNetwork(\n",
      "  (flatten): Flatten(start_dim=1, end_dim=-1)\n",
      "  (linear_stack): Sequential(\n",
      "    (0): Linear(in_features=784, out_features=512, bias=True)\n",
      "    (1): ReLU()\n",
      "    (2): Linear(in_features=512, out_features=512, bias=True)\n",
      "    (3): ReLU()\n",
      "    (4): Linear(in_features=512, out_features=26, bias=True)\n",
      "    (5): Softmax(dim=1)\n",
      "  )\n",
      ")\n"
     ]
    }
   ],
   "source": [
    "# Set device for computation: CPU or cuda GPU, if available\n",
    "device = torch.device('cuda' if torch.cuda.is_available() else 'cpu')\n",
    "\n",
    "# Create a neural network model\n",
    "model = HandwrittenLettersNeuralNetwork(input_size, output_size).to(device)\n",
    "\n",
    "print('Neural network structure:')\n",
    "print(model)"
   ]
  },
  {
   "cell_type": "code",
   "execution_count": 8,
   "metadata": {
    "id": "yG0A2LF9o50V"
   },
   "outputs": [],
   "source": [
    "LEARNING_RATE = 1e-3\n",
    "EPOCHS = 10\n",
    "\n",
    "# Define cross entropy as loss function and SGD as optimizer\n",
    "cross_entropy = nn.CrossEntropyLoss()\n",
    "sgd = torch.optim.SGD(model.parameters(), lr=LEARNING_RATE)"
   ]
  },
  {
   "cell_type": "code",
   "execution_count": 9,
   "metadata": {
    "id": "TA0RajnHp4FK"
   },
   "outputs": [],
   "source": [
    "from tqdm import tqdm\n",
    "\n",
    "def train_loop(dataloader, model, loss_fn, optimizer, epoch):\n",
    "    '''\n",
    "    Performs the neural network training which includes prediction, loss computation and backpropagation\n",
    "    :param dataloader: data loader with dataset\n",
    "    :type dataloader: torch.utils.data.DataLoader\n",
    "    :param model: neural network model\n",
    "    :type model: torch.nn.Module\n",
    "    :param loss_fn: loss function\n",
    "    :type loss_fn: loss class from torch.nn\n",
    "    :param optimizer: optimizer\n",
    "    :type optimizer: optimizer class from torch.optim\n",
    "    :param epoch: epoch number\n",
    "    :type epoch: int\n",
    "    '''\n",
    "    # Set the model to training mode\n",
    "    model.train()\n",
    "\n",
    "    tqdm_loader = tqdm(dataloader, unit='batch', desc=f'Epoch {epoch}', total=len(dataloader))\n",
    "    for batch, (x, y) in enumerate(tqdm_loader):\n",
    "\n",
    "        # Compute prediction and loss\n",
    "        x, y = x.to(device), y.to(device)\n",
    "        pred = model(x)\n",
    "        loss = loss_fn(pred, y)\n",
    "\n",
    "        # Backpropagation\n",
    "        loss.backward()\n",
    "        optimizer.step()\n",
    "        optimizer.zero_grad()\n",
    "\n",
    "        if batch % 1000 == 0:\n",
    "            tqdm_loader.set_postfix(loss=loss.item())\n",
    "\n",
    "\n",
    "def test_loop(dataloader, model, loss_fn):\n",
    "    '''\n",
    "    Performs the neural network testing which includes prediction, loss and accuracy computation\n",
    "    :param dataloader: data loader with dataset\n",
    "    :type dataloader: torch.utils.data.DataLoader\n",
    "    :param model: neural network model\n",
    "    :type model: torch.nn.Module\n",
    "    :param loss_fn: loss function\n",
    "    :type loss_fn: loss class from torch.nn\n",
    "    :return: testing results, tuple of `(loss, accuracy)`\n",
    "    :rtype: tuple[float, float]\n",
    "    '''\n",
    "    # Set the model to evaluation mode\n",
    "    model.eval()\n",
    "\n",
    "    size = len(dataloader.dataset)\n",
    "    num_batches = len(dataloader)\n",
    "    loss, correct = 0, 0\n",
    "\n",
    "    with torch.no_grad():\n",
    "        for x, y in dataloader:\n",
    "\n",
    "            # Compute prediction and loss\n",
    "            x, y = x.to(device), y.to(device)\n",
    "            pred = model(x)\n",
    "            loss += loss_fn(pred, y).item()\n",
    "            correct += (pred.argmax(dim=1) == y).type(torch.float).sum().item()\n",
    "\n",
    "    # Compute average loss and accuracy\n",
    "    test_loss = loss / num_batches\n",
    "    test_acc = correct / size\n",
    "    print(f'Test Error: accuracy: {(test_acc):>0.1%}, avg loss: {test_loss:>8f}\\n')\n",
    "\n",
    "    # And return them\n",
    "    return test_loss, test_acc"
   ]
  },
  {
   "cell_type": "code",
   "execution_count": 10,
   "metadata": {
    "colab": {
     "base_uri": "https://localhost:8080/"
    },
    "id": "ZGegi3tWr8eJ",
    "outputId": "4fb61768-3c5a-4530-fd02-b4e82d7e92f0"
   },
   "outputs": [
    {
     "name": "stderr",
     "output_type": "stream",
     "text": [
      "Epoch 0: 100%|██████████| 34918/34918 [00:54<00:00, 644.20batch/s, loss=2.83]\n"
     ]
    },
    {
     "name": "stdout",
     "output_type": "stream",
     "text": [
      "Test Error: accuracy: 60.9%, avg loss: 2.712520\n",
      "\n"
     ]
    },
    {
     "name": "stderr",
     "output_type": "stream",
     "text": [
      "Epoch 1: 100%|██████████| 34918/34918 [00:48<00:00, 726.70batch/s, loss=2.32]\n"
     ]
    },
    {
     "name": "stdout",
     "output_type": "stream",
     "text": [
      "Test Error: accuracy: 78.2%, avg loss: 2.541099\n",
      "\n"
     ]
    },
    {
     "name": "stderr",
     "output_type": "stream",
     "text": [
      "Epoch 2: 100%|██████████| 34918/34918 [00:48<00:00, 713.69batch/s, loss=2.32]\n"
     ]
    },
    {
     "name": "stdout",
     "output_type": "stream",
     "text": [
      "Test Error: accuracy: 80.7%, avg loss: 2.516143\n",
      "\n"
     ]
    },
    {
     "name": "stderr",
     "output_type": "stream",
     "text": [
      "Epoch 3: 100%|██████████| 34918/34918 [00:48<00:00, 717.82batch/s, loss=2.58]\n"
     ]
    },
    {
     "name": "stdout",
     "output_type": "stream",
     "text": [
      "Test Error: accuracy: 82.2%, avg loss: 2.500949\n",
      "\n"
     ]
    },
    {
     "name": "stderr",
     "output_type": "stream",
     "text": [
      "Epoch 4: 100%|██████████| 34918/34918 [00:48<00:00, 717.84batch/s, loss=2.64]\n"
     ]
    },
    {
     "name": "stdout",
     "output_type": "stream",
     "text": [
      "Test Error: accuracy: 83.1%, avg loss: 2.491390\n",
      "\n"
     ]
    },
    {
     "name": "stderr",
     "output_type": "stream",
     "text": [
      "Epoch 5: 100%|██████████| 34918/34918 [00:48<00:00, 714.84batch/s, loss=2.57]\n"
     ]
    },
    {
     "name": "stdout",
     "output_type": "stream",
     "text": [
      "Test Error: accuracy: 83.3%, avg loss: 2.489432\n",
      "\n"
     ]
    },
    {
     "name": "stderr",
     "output_type": "stream",
     "text": [
      "Epoch 6: 100%|██████████| 34918/34918 [00:48<00:00, 716.32batch/s, loss=2.7]\n"
     ]
    },
    {
     "name": "stdout",
     "output_type": "stream",
     "text": [
      "Test Error: accuracy: 83.4%, avg loss: 2.488467\n",
      "\n"
     ]
    },
    {
     "name": "stderr",
     "output_type": "stream",
     "text": [
      "Epoch 7: 100%|██████████| 34918/34918 [00:48<00:00, 724.68batch/s, loss=2.32]\n"
     ]
    },
    {
     "name": "stdout",
     "output_type": "stream",
     "text": [
      "Test Error: accuracy: 83.8%, avg loss: 2.483620\n",
      "\n"
     ]
    },
    {
     "name": "stderr",
     "output_type": "stream",
     "text": [
      "Epoch 8: 100%|██████████| 34918/34918 [00:56<00:00, 613.81batch/s, loss=2.45]\n"
     ]
    },
    {
     "name": "stdout",
     "output_type": "stream",
     "text": [
      "Test Error: accuracy: 83.9%, avg loss: 2.482883\n",
      "\n"
     ]
    },
    {
     "name": "stderr",
     "output_type": "stream",
     "text": [
      "Epoch 9: 100%|██████████| 34918/34918 [00:50<00:00, 691.15batch/s, loss=2.57]\n"
     ]
    },
    {
     "name": "stdout",
     "output_type": "stream",
     "text": [
      "Test Error: accuracy: 84.0%, avg loss: 2.482386\n",
      "\n"
     ]
    }
   ],
   "source": [
    "# Train the neural network for 10 epochs\n",
    "loss_history = []\n",
    "acc_history = []\n",
    "for t in range(EPOCHS):\n",
    "    train_loop(train_loader, model, cross_entropy, sgd, epoch=t)\n",
    "    loss, accuracy = test_loop(test_loader, model, cross_entropy)\n",
    "\n",
    "    loss_history.append(loss)\n",
    "    acc_history.append(accuracy)\n",
    "\n",
    "# Save the neural network model\n",
    "torch.save(model, 'model.pth')"
   ]
  },
  {
   "cell_type": "markdown",
   "metadata": {
    "id": "YeDnfbYW71Ub"
   },
   "source": [
    "#### Epoch progress"
   ]
  },
  {
   "cell_type": "code",
   "execution_count": 11,
   "metadata": {
    "colab": {
     "base_uri": "https://localhost:8080/",
     "height": 472
    },
    "id": "p_WihKaJKzMU",
    "outputId": "f6de8ee8-a568-4b58-d491-646e5b022d37"
   },
   "outputs": [
    {
     "data": {
      "image/png": "[encoded data removed]",
      "text/plain": [
       "<Figure size 640x480 with 1 Axes>"
      ]
     },
     "metadata": {},
     "output_type": "display_data"
    }
   ],
   "source": [
    "# Display the loss curve (average loss for each epoch)\n",
    "plt.title('Loss curve')\n",
    "plt.ylabel('Average loss')\n",
    "plt.xlabel('Epoch')\n",
    "plt.plot(loss_history, color='b', marker='.');"
   ]
  },
  {
   "cell_type": "code",
   "execution_count": 12,
   "metadata": {
    "colab": {
     "base_uri": "https://localhost:8080/",
     "height": 472
    },
    "id": "kyBhLAdV3rD6",
    "outputId": "adf71010-7291-4ff1-d966-749e223f2b43"
   },
   "outputs": [
    {
     "data": {
      "image/png": "[encoded data removed]",
      "text/plain": [
       "<Figure size 640x480 with 1 Axes>"
      ]
     },
     "metadata": {},
     "output_type": "display_data"
    }
   ],
   "source": [
    "# Display the accuracy curve (accuracy for each epoch)\n",
    "plt.title('Accuracy curve')\n",
    "plt.ylabel('Accuracy')\n",
    "plt.xlabel('Epoch')\n",
    "plt.plot(acc_history, color='g', marker='.');"
   ]
  },
  {
   "cell_type": "markdown",
   "metadata": {
    "id": "2F4fq0o471Uc"
   },
   "source": [
    "#### Test set visualization"
   ]
  },
  {
   "cell_type": "code",
   "execution_count": 13,
   "metadata": {
    "id": "UPvTf3h7QCsp"
   },
   "outputs": [],
   "source": [
    "np.random.seed(0)\n",
    "\n",
    "# Choose 10 random samples from test set\n",
    "indexes = np.random.randint(len(test_set), size=10)\n",
    "test_samples = [test_set[i] for i in indexes]\n",
    "\n",
    "# Get image data and labels\n",
    "x_data, y_data = zip(*test_samples)\n",
    "x_data = torch.stack(x_data, dim=0)  # Build images as pytorch Tensor"
   ]
  },
  {
   "cell_type": "code",
   "execution_count": 14,
   "metadata": {
    "id": "T412MlDp71Ud"
   },
   "outputs": [],
   "source": [
    "def predict(model, x):\n",
    "    '''\n",
    "    Performs the neural network prediction\n",
    "    :param x: input data\n",
    "    :type x: torch Tensor with size `[n, length, width]`\n",
    "    :return: predictions (for classification)\n",
    "    :rtype: torch Tensor\n",
    "    '''\n",
    "    # Set the model to evaluation mode\n",
    "    model.eval()\n",
    "\n",
    "    with torch.no_grad():\n",
    "        x = x.to(device)\n",
    "        pred = model(x)\n",
    "        return pred.argmax(dim=1)\n",
    "\n",
    "\n",
    "# Compute predicions for chosen samples\n",
    "predictions = predict(model, x_data)"
   ]
  },
  {
   "cell_type": "code",
   "execution_count": 15,
   "metadata": {
    "colab": {
     "base_uri": "https://localhost:8080/"
    },
    "id": "L7hdAtp671Ud",
    "outputId": "fb699066-e5f7-41a4-f72a-563362c2ad1e"
   },
   "outputs": [
    {
     "name": "stdout",
     "output_type": "stream",
     "text": [
      "{0: 'A', 1: 'B', 2: 'C', 3: 'D', 4: 'E', 5: 'F', 6: 'G', 7: 'H', 8: 'I', 9: 'J', 10: 'K', 11: 'L', 12: 'M', 13: 'N', 14: 'O', 15: 'P', 16: 'Q', 17: 'R', 18: 'S', 19: 'T', 20: 'U', 21: 'V', 22: 'W', 23: 'X', 24: 'Y', 25: 'Z'}\n"
     ]
    }
   ],
   "source": [
    "# Show mapping numbers to alphabet letters\n",
    "print(LETTERS)"
   ]
  },
  {
   "cell_type": "code",
   "execution_count": 16,
   "metadata": {
    "colab": {
     "base_uri": "https://localhost:8080/",
     "height": 1000
    },
    "id": "cDhUqo-RBT9m",
    "outputId": "ad1b670d-4e4d-4702-f5ae-e413cb1afa61"
   },
   "outputs": [
    {
     "data": {
      "image/png": "[encoded data removed]",
      "text/plain": [
       "<Figure size 1200x1500 with 10 Axes>"
      ]
     },
     "metadata": {},
     "output_type": "display_data"
    }
   ],
   "source": [
    "# Display the samples with 3 images in row and 4 images in column\n",
    "fig, axes = plt.subplots(4, 3, figsize=(12, 15))\n",
    "axes = axes.ravel()\n",
    "\n",
    "for ax in axes[-2:]:\n",
    "    fig.delaxes(ax)\n",
    "axes = axes[:-2]\n",
    "\n",
    "# Plot the images from samples, actual values and their predictions\n",
    "for i, ax in enumerate(axes):\n",
    "    y = y_data[i]\n",
    "    pred = predictions[i].item()\n",
    "    ax.set_title(\n",
    "        f\"Actual: '{LETTERS[y]}' ({y}) / \"\n",
    "        f\"Predicted: '{LETTERS[pred]}' ({pred})\"\n",
    "    )\n",
    "    ax.imshow(x_data[i], cmap='gray', vmin=0, vmax=255)\n",
    "    ax.set_axis_off()"
   ]
  }
 ],
 "metadata": {
  "accelerator": "GPU",
  "colab": {
   "gpuType": "T4",
   "provenance": []
  },
  "kernelspec": {
   "display_name": "Python 3 (ipykernel)",
   "language": "python",
   "name": "python3"
  },
  "language_info": {
   "codemirror_mode": {
    "name": "ipython",
    "version": 3
   },
   "file_extension": ".py",
   "mimetype": "text/x-python",
   "name": "python",
   "nbconvert_exporter": "python",
   "pygments_lexer": "ipython3",
   "version": "3.11.5"
  }
 },
 "nbformat": 4,
 "nbformat_minor": 1
}
