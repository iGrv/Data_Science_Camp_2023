{
 "cells": [
  {
   "cell_type": "markdown",
   "metadata": {},
   "source": [
    "# Task about glasses and floors\n",
    "\n"
   ]
  },
  {
   "cell_type": "markdown",
   "metadata": {},
   "source": [
    "Two identical glasses and a building ten floors high are given. You should to determine the minimum number of times the glasses are thrown from a floor to find the floor where the glasses start to break, or to determine that the glasses do not break when dropped from any floor.\n",
    "\n",
    "Find the minimum number of times if\n",
    "\n",
    " - 2 glasses and a 10 floors high building are given\n",
    " - 2 glasses and a 100 floors high building are given\n",
    " - 3 glasses and a 100 floors high building are given\n",
    " - 3 glasses and a 1000 floors high building are given\n",
    " - 5 glasses and a 1000 floors high building are given\n",
    "\n",
    "---"
   ]
  },
  {
   "cell_type": "markdown",
   "metadata": {},
   "source": [
    "Let the number of glasses be $K$ and the number of floors be $N$. According to the [paper](glasses_and_floors.pdf) the minimum number of times the glasses are thrown from a floor is marked as ${f_K}(N)$ and calculated using a formula\n",
    "\n",
    "$${f_K}(N) = \\ell  + 1$$\n",
    "\n",
    "where $\\ell$ is the smallest positive integer that satisfies the inequality\n",
    "\n",
    "$${S^{K-1}_\\ell} + \\ell  + 1 \\ge N$$\n",
    "\n",
    "Here ${S^{K-1}_\\ell}$ is the sum of the first $\\ell$ terms of the sequence $a^{K-1}_n$, where $a^{K-1}_n$ is the minimum number of time the glasses are thrown from a floor, given $n$ floors and $K-1$ glasses."
   ]
  },
  {
   "cell_type": "markdown",
   "metadata": {},
   "source": [
    "According to the [paper](glasses_and_floors.pdf)\n",
    "\n",
    " - if 1 glass is given, then ${f_1}(N) = N$\n",
    " - if 2 glasses are given, then ${f_2}(N) = \\left\\lceil {\\frac{{\\sqrt {8N + 1}  - 1}}{2}} \\right\\rceil$\n",
    " - if 3 glasses are fiven, then ${f_3}(N) = \\left\\lceil {\\sqrt[3]{{3N - \\sqrt {9{N^2} + \\frac{{125}}{{27}}} }} + \\sqrt[3]{{3N + \\sqrt {9{N^2} + \\frac{{125}}{{27}}} }}} \\right\\rceil$"
   ]
  },
  {
   "cell_type": "markdown",
   "metadata": {},
   "source": [
    "To determinate the minimum number of time the glasses are thrown from a floor if more then 3 glasses are given, we can create a function `f` that can call itself recursively."
   ]
  },
  {
   "cell_type": "code",
   "execution_count": 1,
   "metadata": {},
   "outputs": [],
   "source": [
    "import math\n",
    "\n",
    "def f(N, K):\n",
    "    \"\"\"\n",
    "    Computes the the minimum number of time the glasses are thrown\n",
    "    from a floor, given a `N` floors high building and `K` glasses\n",
    "    :param N: number of floors in the building\n",
    "    :type N: int\n",
    "    :param K: number of glasses\n",
    "    :type K: int\n",
    "    :return: f, the minimum number of time the glasses are thrown from a floor\n",
    "    :rtype: int\n",
    "    \"\"\"\n",
    "    # Consider if one glass is given\n",
    "    if K == 1:\n",
    "        return N\n",
    "    \n",
    "    # Consider if two glasses are given\n",
    "    elif K == 2:\n",
    "        D = 8*N + 1\n",
    "        return math.ceil((math.sqrt(D) - 1) / 2)\n",
    "    \n",
    "    # Consider if three glasses are given\n",
    "    elif K == 3:\n",
    "        D = 9 * N**2 + (125 / 27)\n",
    "        return math.ceil(math.cbrt(3*N - math.sqrt(D)) + math.cbrt(3*N + math.sqrt(D)))\n",
    "\n",
    "    # Compute the values of f function for 1 to N floors, given K - 1 glasses\n",
    "    n = list(range(1, N + 1))\n",
    "    m = list(map(lambda x: f(x, K - 1), n))\n",
    "    F = dict(zip(n, m))\n",
    "\n",
    "    # Get the terms of the sequence that for specified number of floors defines\n",
    "    # the minimum number of time the glasses are thrown from a floor, given K - 1 glasses\n",
    "    # (use the largest number of floors for each unique value of f function)\n",
    "    a = {i: max(filter(lambda x: F[x] == i, F.keys())) for i in set(m)}\n",
    "\n",
    "    # Find el such that the sum of the first el terms\n",
    "    # of the sequence is greater than or equal to N\n",
    "    el = 0\n",
    "    s = 1\n",
    "    while s < N:\n",
    "        el += 1\n",
    "        s += a[el] + 1\n",
    "\n",
    "    return el + 1  # Value of f"
   ]
  },
  {
   "cell_type": "code",
   "execution_count": 2,
   "metadata": {},
   "outputs": [
    {
     "name": "stdout",
     "output_type": "stream",
     "text": [
      "Given 2 glasses and 10 floors the minimum number of time the glasses are thrown from a floor is 4\n",
      "Given 2 glasses and 100 floors the minimum number of time the glasses are thrown from a floor is 14\n",
      "Given 3 glasses and 100 floors the minimum number of time the glasses are thrown from a floor is 9\n",
      "Given 3 glasses and 1000 floors the minimum number of time the glasses are thrown from a floor is 19\n",
      "Given 5 glasses and 1000 floors the minimum number of time the glasses are thrown from a floor is 11\n"
     ]
    }
   ],
   "source": [
    "# Compute the answer values for specified number of floors and number of glasses\n",
    "input_data = [(10, 2), (100, 2), (100, 3), (1000, 3), (1000, 5)]\n",
    "for n, k in input_data:\n",
    "    print(f\"Given {k} glasses and {n} floors the minimum number of time the glasses are thrown from a floor is {f(n, k)}\")"
   ]
  },
  {
   "cell_type": "markdown",
   "metadata": {},
   "source": [
    "So, now we can write down the answers:\n",
    "\n",
    "${f_2}(10) = 4$\n",
    "\n",
    "${f_2}(100) = 14$\n",
    "\n",
    "${f_3}(100) = 9$\n",
    "\n",
    "${f_3}(1000) = 19$\n",
    "\n",
    "${f_5}(1000) = 11$"
   ]
  }
 ],
 "metadata": {
  "kernelspec": {
   "display_name": "Python 3 (ipykernel)",
   "language": "python",
   "name": "python3"
  },
  "language_info": {
   "codemirror_mode": {
    "name": "ipython",
    "version": 3
   },
   "file_extension": ".py",
   "mimetype": "text/x-python",
   "name": "python",
   "nbconvert_exporter": "python",
   "pygments_lexer": "ipython3",
   "version": "3.11.5"
  }
 },
 "nbformat": 4,
 "nbformat_minor": 2
}
