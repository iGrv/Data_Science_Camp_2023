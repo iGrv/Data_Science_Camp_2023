{
 "cells": [
  {
   "cell_type": "markdown",
   "metadata": {},
   "source": [
    "# Home task: Hypothesis Testing"
   ]
  },
  {
   "cell_type": "code",
   "execution_count": 1,
   "metadata": {},
   "outputs": [],
   "source": [
    "import numpy as np\n",
    "import matplotlib.pyplot as plt\n",
    "%matplotlib inline\n",
    "\n",
    "from scipy.stats import norm"
   ]
  },
  {
   "cell_type": "markdown",
   "metadata": {},
   "source": [
    "## Home Task 1. Hypothesis Testing for Proportions"
   ]
  },
  {
   "cell_type": "markdown",
   "metadata": {},
   "source": [
    "A company believes that percentage of resident in Ternopil own vehicle is `60%` or less. <br>\n",
    "Sales manager disagree. He conducted a test surveying `250` residents and `170` responded yes to owning a vehicle. <br>\n",
    "\n",
    "State the null hypothesis and alternative hypothesis. <br>\n",
    "At 10% significance level, is there enough evidence to reject the null hypothesis?\n",
    "\n",
    "\n",
    "**Note**: \n",
    "- Significance level is opposite to confidence level e.g. 10% significance level means 90% of confidence level.\n",
    "- This is one taled task since is percentage `60%` **OR LESS**"
   ]
  },
  {
   "cell_type": "markdown",
   "metadata": {},
   "source": [
    "---\n",
    "\n",
    "First, we define the `null hypothesis` $H_0$ that states that percentage of residents in Ternopil own vehicle is `60%` or less\n",
    "\n",
    "$$H_0: p \\le 0.6$$\n",
    "\n",
    "where $p$ is the percentage of residents own vehicle, the percentage of residents does not own vehicle is $q = 1 - p = 0.4$.\n",
    "\n",
    "The `alternative hypothesis` $H_1$ is\n",
    "\n",
    "$$H_1: p > 0.6$$\n",
    "\n",
    "According to the task data, sample size $n = 250$ and the number of residents responded yes $x = 170$. So, sample proportion\n",
    "\n",
    "$$\\hat{p} = \\frac{x}{n} = \\frac{170}{250} = 0.68$$\n",
    "\n",
    "Significance level is $10\\%$, then confidence level is $100\\% - 10\\% = 90\\%$. So, accepting the null hypothesis $H_0$, the sample proportion of residents own vehicle is included in the confidence interval with probability of $90\\%$."
   ]
  },
  {
   "cell_type": "code",
   "execution_count": 2,
   "metadata": {},
   "outputs": [
    {
     "name": "stdout",
     "output_type": "stream",
     "text": [
      "Task variables:\n",
      "p = 0.6 (q = 0.4)\n",
      "sample size: 250\n",
      "sample proportion: 0.68\n",
      "significance level: 0.1\n",
      "confidence level: 0.9\n"
     ]
    }
   ],
   "source": [
    "# Define percentage of population and inverse of the percentage\n",
    "p = 0.6\n",
    "q = 1 - p\n",
    "\n",
    "# Define sample size and proportion\n",
    "n = 250\n",
    "x = 170\n",
    "proportion = x / n\n",
    "\n",
    "# Define significance and confidence level\n",
    "significance = 0.1\n",
    "confidence = 1 - significance\n",
    "\n",
    "print('Task variables:')\n",
    "print(f'p = {p} (q = {q})')\n",
    "print('sample size:', n)\n",
    "print('sample proportion:', proportion)\n",
    "print('significance level:', significance)\n",
    "print('confidence level:', confidence)"
   ]
  },
  {
   "cell_type": "markdown",
   "metadata": {},
   "source": [
    "Since the null hypothesis $H_0$ uses the `less than or equal to` sign, this task is one tailed. The area out of the confidence interval includes left and right tails each of those has $10\\% : 2 = 5\\%$ significance probability. To accept $H_0$, we need the calculated z-value ($z_{calculated}$) to be included in the left tail or in the confidence interval.\n",
    "\n",
    "So, the z-critical ($z_{critical}$) can be found as argument of CDF with value of $90\\% + 5\\% = 95\\%$.\n",
    "\n",
    "To calculate $z_{calculated}$, we use formula\n",
    "\n",
    "$$z_{calculated} = \\frac{\\Delta}{\\sigma}$$ \n",
    "\n",
    "where $\\Delta = \\hat{p} - p$ and $\\sigma = \\sqrt{\\frac{pq}{n}}$.\n",
    "\n",
    "Then\n",
    "\n",
    "$$z_{calculated} = \\frac{\\hat{p} - p}{\\sqrt{\\frac{pq}{n}}} = \\frac{0.68 - 0.6}{\\sqrt{\\frac{0.6 \\cdot 0.4}{250}}} = 2.58$$\n",
    "\n",
    "After finding the values of $z_{critical}$ and $z_{calculated}$ we can draw the PDF-plot to determine whether to reject $H_0$."
   ]
  },
  {
   "cell_type": "code",
   "execution_count": 3,
   "metadata": {},
   "outputs": [
    {
     "name": "stdout",
     "output_type": "stream",
     "text": [
      "z-critical: 1.64\n",
      "z-value: 2.58\n"
     ]
    }
   ],
   "source": [
    "# Get the z-critical using PPF (inverse of CDF)\n",
    "z_critical = norm.ppf(confidence + significance/2)\n",
    "\n",
    "# Calculate the z-value\n",
    "z_calculated = (proportion - p) / np.sqrt((p * q) / n)\n",
    "\n",
    "print(f'z-critical: {z_critical:.2f}')\n",
    "print(f'z-value: {z_calculated:.2f}')"
   ]
  },
  {
   "cell_type": "code",
   "execution_count": 4,
   "metadata": {},
   "outputs": [
    {
     "data": {
      "image/png": "[encoded data removed]",
      "text/plain": [
       "<Figure size 640x480 with 1 Axes>"
      ]
     },
     "metadata": {},
     "output_type": "display_data"
    }
   ],
   "source": [
    "# Draw the PDF\n",
    "x = np.linspace(-3 ,3, 100)\n",
    "plt.plot(x, norm.pdf(x), 'b-', lw=2, alpha=0.6)\n",
    "\n",
    "# Draw the accept area and mark the z-critical\n",
    "x_fill = x[x < z_critical]\n",
    "plt.fill_between(x_fill, 0, norm.pdf(x_fill), facecolors='green', alpha=0.45)\n",
    "plt.text(z_critical, norm.pdf(z_critical), f'{z_critical:.2f}', ha='left', va='bottom', color='green', fontsize=14)\n",
    "\n",
    "# Mark the calculated z-value\n",
    "plt.plot([z_calculated, z_calculated], [0, norm.pdf(z_calculated)], 'g-')\n",
    "plt.text(z_calculated, norm.pdf(z_calculated), f'{z_calculated:.2f}', ha='left', va='bottom', color='blue', fontsize=14);"
   ]
  },
  {
   "cell_type": "markdown",
   "metadata": {},
   "source": [
    "This plot shows that $z_{critical} = 1.64$ and $z_{calculated} = 2.58$. FTR (fail to reject) area covers the interval from negative infinity to $z_{critical}$, and $z_{calculated}$ does not fall within the accept area.\n",
    "\n",
    "So, we can **_reject_** the null hypothesis $H_0$ which can be interpreted as it is not an _enough sample size_ to accept $H_0$."
   ]
  },
  {
   "cell_type": "markdown",
   "metadata": {},
   "source": [
    "### Expected result\n",
    "\n",
    "<img src = \"hometask1_expected.png\" width=\"570\" align=\"left\">"
   ]
  },
  {
   "cell_type": "markdown",
   "metadata": {},
   "source": [
    "## Home Task 2. Hypothesis Testing for Difference of Two Means \n",
    "\n",
    "A business owner is in the process of deciding whether or not to invest in a new factory that refines oil in order to meet the high demand that commodity. A test showed that the old factory refines oil at a mean rate of `3.1` liters per second at a standard deviation of `1.0` using a sample of `40`. <br>\n",
    "The new factory was measured to refine oil at a mean rate of `3.8` liters per second at a standard deviation of `1.5` using a sample of `36`.\n",
    "\n",
    "Determine if there is any major difference at 10% significance level"
   ]
  },
  {
   "cell_type": "markdown",
   "metadata": {},
   "source": [
    "**Note**: Since sample size is larger than 30, you may use normal distribution to compute the **z-critical** (standard deviation of two populations is known). \n",
    "\n",
    "To compute the **z-value** (z-calculated for two means) use the same formula as for **t-value** above: \n",
    "\n",
    "$$z_{calculated} = \\frac {(\\bar{x}_1 - \\bar{x}_2) - (\\mu_1 - \\mu_2)}{\\sqrt{\\frac{\\sigma_1^2}{n_1} + \\frac{\\sigma_2^2}{n_2}}}$$"
   ]
  },
  {
   "cell_type": "markdown",
   "metadata": {},
   "source": [
    "---\n",
    "\n",
    "Let the values related to the old factory have index $1$, and the values related to the new factory have index $2$. So the oil refinig parameters of the old factory:\n",
    "\n",
    " - mean $\\bar{x}_1 = 3.1$\n",
    " - standard deviation $\\sigma_1 = 1$\n",
    " - sample size $n_1 = 40$\n",
    "\n",
    "The parameters of the new factory:\n",
    "\n",
    " - mean $\\bar{x}_2 = 3.8$\n",
    " - standard deviation $\\sigma_2 = 1.5$\n",
    " - sample size $n_1 = 36$\n",
    "\n",
    "\n",
    "The `null hypothesis` $H_0$ states that means of two populations ($\\mu_1$ and $\\mu_2$) are equal. More formally, their difference is equal to zero\n",
    "\n",
    "$$H_0: \\mu_1 = \\mu_2 \\quad (H_0: \\mu_1 - \\mu_2 = 0)$$\n",
    "\n",
    "And `alternative hypothesis` $H_1$ is states that two means are unequal (their difference is not equal to zero)\n",
    "\n",
    "$$H_1: \\mu_1 \\ne \\mu_2 \\quad (H_1: \\mu_1 - \\mu_2 \\ne 0)$$\n",
    "\n",
    "Since significance level is $10\\%$, the confidence level is $100\\% - 10\\% = 90\\%$. If we accepting the null hypothesis $H_0$, then difference of sample means is in the confidence interval with probability of $90\\%$."
   ]
  },
  {
   "cell_type": "code",
   "execution_count": 5,
   "metadata": {},
   "outputs": [
    {
     "name": "stdout",
     "output_type": "stream",
     "text": [
      "Task variables:\n",
      "mean of the 1st sample (x_1): 3.1\n",
      "mean of the 2nd sample (x_2): 3.8\n",
      "(mu_1 = mu_2)\n",
      "standard deviation of the 1st sample): 1\n",
      "standard deviation of the 2nd sample): 1.5\n",
      "size of the 1st sample): 40\n",
      "size of the 2nd sample): 36\n",
      "significance level: 0.1\n",
      "confidence level: 0.9\n"
     ]
    }
   ],
   "source": [
    "# Define parameters of the old factory\n",
    "x_1 = 3.1\n",
    "sigma_1 = 1\n",
    "n_1 = 40\n",
    "\n",
    "# Define parameters of the new factory\n",
    "x_2 = 3.8\n",
    "sigma_2 = 1.5\n",
    "n_2 = 36\n",
    "\n",
    "# Define significance and confidence level\n",
    "significance = 0.1\n",
    "confidence = 1 - significance\n",
    "\n",
    "print('Task variables:')\n",
    "print('mean of the 1st sample (x_1):', x_1)\n",
    "print('mean of the 2nd sample (x_2):', x_2)\n",
    "print('(mu_1 = mu_2)')\n",
    "print('standard deviation of the 1st sample):', sigma_1)\n",
    "print('standard deviation of the 2nd sample):', sigma_2)\n",
    "print('size of the 1st sample):', n_1)\n",
    "print('size of the 2nd sample):', n_2)\n",
    "print('significance level:', significance)\n",
    "print('confidence level:', confidence)"
   ]
  },
  {
   "cell_type": "markdown",
   "metadata": {},
   "source": [
    "In this task we use `equal` sign, so it has two tails which have $10\\%$ significance probability, $10\\% : 2 = 5\\%$ for each. The value $\\pm z_{critical}$ defines the limits of the confidence interval. We can get $z_{critical}$ as argument of CDF with value of $5\\%$.\n",
    "\n",
    "Using formula we also can calculate $z_{calculated}$\n",
    "\n",
    "$$z_{calculated} = \\frac{(\\bar{x}_1 - \\bar{x}_2) - (\\mu_1 - \\mu_2)}{\\sqrt{\\frac{\\sigma_1^2}{n_1} + \\frac{\\sigma_2^2}{n_2}}} = \\frac{(3.1 - 3.8) - 0)}{\\sqrt{\\frac{1^2}{40} + \\frac{1.5^2}{36}}} = -2.37$$"
   ]
  },
  {
   "cell_type": "code",
   "execution_count": 6,
   "metadata": {},
   "outputs": [
    {
     "name": "stdout",
     "output_type": "stream",
     "text": [
      "z-critical: -1.64\n",
      "z-value: -2.37\n"
     ]
    }
   ],
   "source": [
    "# Get the z-critical using PPF (inverse of CDF)\n",
    "z_critical = norm.ppf(significance / 2)\n",
    "\n",
    "# Calculate the z-value\n",
    "z_calculated = ((x_1 - x_2) - 0) / np.sqrt(sigma_1**2/n_1 + sigma_2**2/n_2)\n",
    "\n",
    "print(f'z-critical: {z_critical:.2f}')\n",
    "print(f'z-value: {z_calculated:.2f}')"
   ]
  },
  {
   "cell_type": "markdown",
   "metadata": {},
   "source": [
    "Now we draw the PDF-plot to make conclusions."
   ]
  },
  {
   "cell_type": "code",
   "execution_count": 7,
   "metadata": {},
   "outputs": [
    {
     "data": {
      "image/png": "[encoded data removed]",
      "text/plain": [
       "<Figure size 640x480 with 1 Axes>"
      ]
     },
     "metadata": {},
     "output_type": "display_data"
    }
   ],
   "source": [
    "# Draw the PDF\n",
    "x = np.linspace(-3 ,3, 100)\n",
    "plt.plot(x, norm.pdf(x), 'b-', lw=2, alpha=0.6)\n",
    "\n",
    "# Draw the accept area and mark the positive & negative z-critical\n",
    "x_fill = x[(x > z_critical)&(x < -z_critical)]\n",
    "plt.fill_between(x_fill, 0, norm.pdf(x_fill), facecolors='green', alpha=0.45)\n",
    "plt.text(z_critical, norm.pdf(z_critical), f'{z_critical:.2f}', ha='right', va='bottom', color='green', fontsize=14)\n",
    "plt.text(-z_critical, norm.pdf(-z_critical), f'{-z_critical:.2f}', ha='left', va='bottom', color='green', fontsize=14)\n",
    "\n",
    "# Mark the calculated z-value\n",
    "plt.plot([z_calculated, z_calculated], [0, norm.pdf(z_calculated)], 'g-')\n",
    "plt.text(z_calculated, norm.pdf(z_calculated), f'{z_calculated:.2f}', ha='right', va='bottom', color='blue', fontsize=14);"
   ]
  },
  {
   "cell_type": "markdown",
   "metadata": {},
   "source": [
    "Based on this plot, we can say that, to accept $H_0$, the difference $\\bar{x}_1 - \\bar{x}_2$ may be include in the interval $((\\bar{x}_1 - \\bar{x}_2) - 1.64, (\\bar{x}_1 - \\bar{x}_2) + 1.64)$. In this case, $z_{calculated}$ is located outside the FTR area.\n",
    "\n",
    "So, null hypothesis $H_0$ is **_rejected_**. *The sample sizes are sufficient* to reject $H_0$ and accept the alternative hypothesis $H_1$."
   ]
  }
 ],
 "metadata": {
  "kernelspec": {
   "display_name": "Python 3 (ipykernel)",
   "language": "python",
   "name": "python3"
  },
  "language_info": {
   "codemirror_mode": {
    "name": "ipython",
    "version": 3
   },
   "file_extension": ".py",
   "mimetype": "text/x-python",
   "name": "python",
   "nbconvert_exporter": "python",
   "pygments_lexer": "ipython3",
   "version": "3.11.5"
  }
 },
 "nbformat": 4,
 "nbformat_minor": 2
}
